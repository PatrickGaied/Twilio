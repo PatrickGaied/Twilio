{
 "cells": [
  {
   "cell_type": "markdown",
   "id": "9756a260",
   "metadata": {},
   "source": [
    "# E-Commerce Pattern Recognition Analysis\n",
    "## Building AI-Powered Customer Data Intelligence\n",
    "\n",
    "This notebook demonstrates advanced pattern recognition techniques for e-commerce behavioral data, similar to what Segment provides but enhanced with AI-powered insights.\n",
    "\n",
    "### Dataset Overview\n",
    "- **67M+ events** from November 2019\n",
    "- **Event types**: view (94%), cart (4%), purchase (1%), remove_from_cart\n",
    "- **Key fields**: user_id, product_id, category, brand, price, timestamp\n",
    "- **Goal**: Extract actionable patterns for customer segmentation and personalization"
   ]
  },
  {
   "cell_type": "code",
   "execution_count": 35,
   "id": "0ca579bd",
   "metadata": {},
   "outputs": [
    {
     "name": "stdout",
     "output_type": "stream",
     "text": [
      "✅ Libraries imported successfully!\n",
      "📊 Ready for pattern analysis on 2025-10-25 13:25:10\n"
     ]
    }
   ],
   "source": [
    "# Import required libraries for comprehensive analysis\n",
    "import pandas as pd\n",
    "import numpy as np\n",
    "import matplotlib.pyplot as plt\n",
    "import seaborn as sns\n",
    "import plotly.express as px\n",
    "import plotly.graph_objects as go\n",
    "from plotly.subplots import make_subplots\n",
    "from datetime import datetime, timedelta\n",
    "import warnings\n",
    "warnings.filterwarnings('ignore')\n",
    "\n",
    "# Data processing and ML libraries\n",
    "from sklearn.cluster import KMeans\n",
    "from sklearn.preprocessing import StandardScaler\n",
    "from sklearn.decomposition import PCA\n",
    "from sklearn.ensemble import RandomForestClassifier\n",
    "from sklearn.model_selection import train_test_split\n",
    "from sklearn.metrics import classification_report, confusion_matrix\n",
    "\n",
    "# Statistical libraries\n",
    "from scipy.stats import chi2_contingency\n",
    "import networkx as nx\n",
    "# Install mlxtend if not available\n",
    "try:\n",
    "    from mlxtend.frequent_patterns import association_rules, apriori\n",
    "except ImportError:\n",
    "    import subprocess\n",
    "    import sys\n",
    "    print(\"📦 Installing mlxtend...\")\n",
    "    subprocess.check_call([sys.executable, \"-m\", \"pip\", \"install\", \"mlxtend\"])\n",
    "    from mlxtend.frequent_patterns import association_rules, apriori\n",
    "    print(\"✅ mlxtend installed and imported successfully!\")\n",
    "\n",
    "# Set display options\n",
    "pd.set_option('display.max_columns', None)\n",
    "pd.set_option('display.width', None)\n",
    "plt.style.use('default')\n",
    "sns.set_palette(\"husl\")\n",
    "\n",
    "print(\"✅ Libraries imported successfully!\")\n",
    "print(f\"📊 Ready for pattern analysis on {datetime.now().strftime('%Y-%m-%d %H:%M:%S')}\")"
   ]
  },
  {
   "cell_type": "markdown",
   "id": "55c0d9a1",
   "metadata": {},
   "source": [
    "## 1. Data Loading and Initial Exploration\n",
    "\n",
    "Load the e-commerce events data from Supabase and perform initial analysis to understand the data structure and quality."
   ]
  },
  {
   "cell_type": "code",
   "execution_count": 36,
   "id": "3fdd1556",
   "metadata": {},
   "outputs": [
    {
     "name": "stdout",
     "output_type": "stream",
     "text": [
      "🔄 Loading 100,000 records from Supabase...\n",
      "✅ Successfully loaded 1,000 records\n",
      "\n",
      "📊 Dataset Shape: (1000, 11)\n",
      "📅 Date Range: 2019-11-01T00:00:00+00:00 to 2019-11-01T00:03:23+00:00\n",
      "👥 Unique Users: 199\n",
      "🛍️ Unique Products: 376\n",
      "📈 Event Types: {'view': 994, 'purchase': 4, 'cart': 2}\n"
     ]
    }
   ],
   "source": [
    "# Load environment variables and connect to Supabase\n",
    "import os\n",
    "from dotenv import load_dotenv\n",
    "import requests\n",
    "\n",
    "load_dotenv()\n",
    "\n",
    "# Supabase configuration\n",
    "SUPABASE_URL = os.getenv('SUPABASE_URL')\n",
    "SUPABASE_ANON_KEY = os.getenv('SUPABASE_ANON_KEY')\n",
    "\n",
    "def load_ecommerce_data(limit=100000):\n",
    "    \"\"\"Load e-commerce events data from Supabase\"\"\"\n",
    "    \n",
    "    headers = {\n",
    "        \"apikey\": SUPABASE_ANON_KEY,\n",
    "        \"Authorization\": f\"Bearer {SUPABASE_ANON_KEY}\",\n",
    "    }\n",
    "    \n",
    "    # Query parameters for data loading\n",
    "    params = {\n",
    "        \"select\": \"*\",\n",
    "        \"order\": \"event_time.asc\",\n",
    "        \"limit\": str(limit)\n",
    "    }\n",
    "    \n",
    "    try:\n",
    "        print(f\"🔄 Loading {limit:,} records from Supabase...\")\n",
    "        response = requests.get(\n",
    "            f\"{SUPABASE_URL}/rest/v1/ecommerce_events\",\n",
    "            headers=headers,\n",
    "            params=params\n",
    "        )\n",
    "        \n",
    "        if response.status_code == 200:\n",
    "            data = response.json()\n",
    "            df = pd.DataFrame(data)\n",
    "            print(f\"✅ Successfully loaded {len(df):,} records\")\n",
    "            return df\n",
    "        else:\n",
    "            print(f\"❌ Error: Status {response.status_code}\")\n",
    "            return None\n",
    "            \n",
    "    except Exception as e:\n",
    "        print(f\"❌ Error loading data: {e}\")\n",
    "        return None\n",
    "\n",
    "# Load the data\n",
    "df = load_ecommerce_data()\n",
    "\n",
    "if df is not None:\n",
    "    print(f\"\\n📊 Dataset Shape: {df.shape}\")\n",
    "    print(f\"📅 Date Range: {df['event_time'].min()} to {df['event_time'].max()}\")\n",
    "    print(f\"👥 Unique Users: {df['user_id'].nunique():,}\")\n",
    "    print(f\"🛍️ Unique Products: {df['product_id'].nunique():,}\")\n",
    "    print(f\"📈 Event Types: {df['event_type'].value_counts().to_dict()}\")"
   ]
  },
  {
   "cell_type": "code",
   "execution_count": 37,
   "id": "5be5a001",
   "metadata": {},
   "outputs": [
    {
     "name": "stdout",
     "output_type": "stream",
     "text": [
      "🔍 CHECKING SUPABASE LIMITS\n",
      "========================================\n",
      "\n",
      "🧪 Testing limit=1,000...\n",
      "  ✅ Requested: 1,000 | Received: 1,000\n",
      "\n",
      "🧪 Testing limit=5,000...\n",
      "  ✅ Requested: 5,000 | Received: 1,000\n",
      "  🚨 Hit limit at 1,000 records\n"
     ]
    }
   ],
   "source": [
    "# Check actual table size and Supabase limits\n",
    "def check_supabase_limits():\n",
    "    \"\"\"Check total records and Supabase query limits\"\"\"\n",
    "    \n",
    "    headers = {\n",
    "        \"apikey\": SUPABASE_ANON_KEY,\n",
    "        \"Authorization\": f\"Bearer {SUPABASE_ANON_KEY}\",\n",
    "        \"Prefer\": \"count=exact\"\n",
    "    }\n",
    "    \n",
    "    print(\"🔍 CHECKING SUPABASE LIMITS\")\n",
    "    print(\"=\" * 40)\n",
    "    \n",
    "    try:\n",
    "        # Get total record count\n",
    "        response = requests.head(\n",
    "            f\"{SUPABASE_URL}/rest/v1/ecommerce_events\",\n",
    "            headers=headers\n",
    "        )\n",
    "        \n",
    "        if response.status_code == 200:\n",
    "            content_range = response.headers.get('content-range', '')\n",
    "            print(f\"📊 Content-Range Header: {content_range}\")\n",
    "            \n",
    "            if content_range:\n",
    "                total = content_range.split('/')[-1]\n",
    "                print(f\"📈 Total Records in Table: {total:,}\")\n",
    "            else:\n",
    "                print(\"⚠️ No content-range header found\")\n",
    "        \n",
    "        # Test different limit sizes\n",
    "        test_limits = [1000, 5000, 10000, 50000]\n",
    "        \n",
    "        for test_limit in test_limits:\n",
    "            print(f\"\\n🧪 Testing limit={test_limit:,}...\")\n",
    "            \n",
    "            params = {\n",
    "                \"select\": \"id\",\n",
    "                \"limit\": str(test_limit)\n",
    "            }\n",
    "            \n",
    "            test_response = requests.get(\n",
    "                f\"{SUPABASE_URL}/rest/v1/ecommerce_events\",\n",
    "                headers={\"apikey\": SUPABASE_ANON_KEY, \"Authorization\": f\"Bearer {SUPABASE_ANON_KEY}\"},\n",
    "                params=params,\n",
    "                timeout=30  # Add timeout\n",
    "            )\n",
    "            \n",
    "            if test_response.status_code == 200:\n",
    "                actual_count = len(test_response.json())\n",
    "                print(f\"  ✅ Requested: {test_limit:,} | Received: {actual_count:,}\")\n",
    "                \n",
    "                if actual_count < test_limit:\n",
    "                    print(f\"  🚨 Hit limit at {actual_count:,} records\")\n",
    "                    break\n",
    "            else:\n",
    "                print(f\"  ❌ Failed: Status {test_response.status_code}\")\n",
    "                break\n",
    "    \n",
    "    except Exception as e:\n",
    "        print(f\"❌ Error checking limits: {e}\")\n",
    "\n",
    "# Run the limit check\n",
    "check_supabase_limits()"
   ]
  },
  {
   "cell_type": "code",
   "execution_count": 38,
   "id": "94859130",
   "metadata": {},
   "outputs": [
    {
     "name": "stdout",
     "output_type": "stream",
     "text": [
      "🎯 Attempting to load larger dataset...\n",
      "🚀 LOADING LARGE DATASET\n",
      "Target: 50,000 records in batches of 1,000\n",
      "==================================================\n",
      "📥 Fetching batch 1: offset=0, limit=1,000\n",
      "  ✅ Loaded 1,000 records | Total: 1,000\n",
      "📥 Fetching batch 2: offset=1,000, limit=1,000\n",
      "  ✅ Loaded 1,000 records | Total: 2,000\n",
      "📥 Fetching batch 3: offset=2,000, limit=1,000\n",
      "  ✅ Loaded 1,000 records | Total: 3,000\n",
      "📥 Fetching batch 4: offset=3,000, limit=1,000\n",
      "  ✅ Loaded 1,000 records | Total: 4,000\n",
      "📥 Fetching batch 5: offset=4,000, limit=1,000\n",
      "  ✅ Loaded 1,000 records | Total: 5,000\n",
      "📥 Fetching batch 6: offset=5,000, limit=1,000\n",
      "  ✅ Loaded 1,000 records | Total: 6,000\n",
      "📥 Fetching batch 7: offset=6,000, limit=1,000\n",
      "  ✅ Loaded 1,000 records | Total: 7,000\n",
      "📥 Fetching batch 8: offset=7,000, limit=1,000\n",
      "  ✅ Loaded 1,000 records | Total: 8,000\n",
      "📥 Fetching batch 9: offset=8,000, limit=1,000\n",
      "  ✅ Loaded 1,000 records | Total: 9,000\n",
      "📥 Fetching batch 10: offset=9,000, limit=1,000\n",
      "  ✅ Loaded 1,000 records | Total: 10,000\n",
      "📥 Fetching batch 11: offset=10,000, limit=1,000\n",
      "  ✅ Loaded 1,000 records | Total: 11,000\n",
      "📥 Fetching batch 12: offset=11,000, limit=1,000\n",
      "  ✅ Loaded 1,000 records | Total: 12,000\n",
      "📥 Fetching batch 13: offset=12,000, limit=1,000\n",
      "  ✅ Loaded 1,000 records | Total: 13,000\n",
      "📥 Fetching batch 14: offset=13,000, limit=1,000\n",
      "  ✅ Loaded 1,000 records | Total: 14,000\n",
      "📥 Fetching batch 15: offset=14,000, limit=1,000\n",
      "  ✅ Loaded 1,000 records | Total: 15,000\n",
      "📥 Fetching batch 16: offset=15,000, limit=1,000\n",
      "  ✅ Loaded 1,000 records | Total: 16,000\n",
      "📥 Fetching batch 17: offset=16,000, limit=1,000\n",
      "  ✅ Loaded 1,000 records | Total: 17,000\n",
      "📥 Fetching batch 18: offset=17,000, limit=1,000\n",
      "  ✅ Loaded 1,000 records | Total: 18,000\n",
      "📥 Fetching batch 19: offset=18,000, limit=1,000\n",
      "  ✅ Loaded 1,000 records | Total: 19,000\n",
      "📥 Fetching batch 20: offset=19,000, limit=1,000\n",
      "  ✅ Loaded 1,000 records | Total: 20,000\n",
      "📥 Fetching batch 21: offset=20,000, limit=1,000\n",
      "  ✅ Loaded 1,000 records | Total: 21,000\n",
      "📥 Fetching batch 22: offset=21,000, limit=1,000\n",
      "  ✅ Loaded 1,000 records | Total: 22,000\n",
      "📥 Fetching batch 23: offset=22,000, limit=1,000\n",
      "  ✅ Loaded 1,000 records | Total: 23,000\n",
      "📥 Fetching batch 24: offset=23,000, limit=1,000\n",
      "  ✅ Loaded 1,000 records | Total: 24,000\n",
      "📥 Fetching batch 25: offset=24,000, limit=1,000\n",
      "  ✅ Loaded 1,000 records | Total: 25,000\n",
      "📥 Fetching batch 26: offset=25,000, limit=1,000\n",
      "  ✅ Loaded 1,000 records | Total: 26,000\n",
      "📥 Fetching batch 27: offset=26,000, limit=1,000\n",
      "  ✅ Loaded 1,000 records | Total: 27,000\n",
      "📥 Fetching batch 28: offset=27,000, limit=1,000\n",
      "  ✅ Loaded 1,000 records | Total: 28,000\n",
      "📥 Fetching batch 29: offset=28,000, limit=1,000\n",
      "  ✅ Loaded 1,000 records | Total: 29,000\n",
      "📥 Fetching batch 30: offset=29,000, limit=1,000\n",
      "  ✅ Loaded 1,000 records | Total: 30,000\n",
      "📥 Fetching batch 31: offset=30,000, limit=1,000\n",
      "  ✅ Loaded 1,000 records | Total: 31,000\n",
      "📥 Fetching batch 32: offset=31,000, limit=1,000\n",
      "  ✅ Loaded 1,000 records | Total: 32,000\n",
      "📥 Fetching batch 33: offset=32,000, limit=1,000\n",
      "  ✅ Loaded 1,000 records | Total: 33,000\n",
      "📥 Fetching batch 34: offset=33,000, limit=1,000\n",
      "  ✅ Loaded 1,000 records | Total: 34,000\n",
      "📥 Fetching batch 35: offset=34,000, limit=1,000\n",
      "  ✅ Loaded 1,000 records | Total: 35,000\n",
      "📥 Fetching batch 36: offset=35,000, limit=1,000\n",
      "  ✅ Loaded 1,000 records | Total: 36,000\n",
      "📥 Fetching batch 37: offset=36,000, limit=1,000\n",
      "  ✅ Loaded 1,000 records | Total: 37,000\n",
      "📥 Fetching batch 38: offset=37,000, limit=1,000\n",
      "  ✅ Loaded 1,000 records | Total: 38,000\n",
      "📥 Fetching batch 39: offset=38,000, limit=1,000\n",
      "  ✅ Loaded 1,000 records | Total: 39,000\n",
      "📥 Fetching batch 40: offset=39,000, limit=1,000\n",
      "  ✅ Loaded 1,000 records | Total: 40,000\n",
      "📥 Fetching batch 41: offset=40,000, limit=1,000\n",
      "  ✅ Loaded 1,000 records | Total: 41,000\n",
      "📥 Fetching batch 42: offset=41,000, limit=1,000\n",
      "  ✅ Loaded 1,000 records | Total: 42,000\n",
      "📥 Fetching batch 43: offset=42,000, limit=1,000\n",
      "  ✅ Loaded 1,000 records | Total: 43,000\n",
      "📥 Fetching batch 44: offset=43,000, limit=1,000\n",
      "  ✅ Loaded 1,000 records | Total: 44,000\n",
      "📥 Fetching batch 45: offset=44,000, limit=1,000\n",
      "  ✅ Loaded 1,000 records | Total: 45,000\n",
      "📥 Fetching batch 46: offset=45,000, limit=1,000\n",
      "  ✅ Loaded 1,000 records | Total: 46,000\n",
      "📥 Fetching batch 47: offset=46,000, limit=1,000\n",
      "  ✅ Loaded 1,000 records | Total: 47,000\n",
      "📥 Fetching batch 48: offset=47,000, limit=1,000\n",
      "  ✅ Loaded 1,000 records | Total: 48,000\n",
      "📥 Fetching batch 49: offset=48,000, limit=1,000\n",
      "  ✅ Loaded 1,000 records | Total: 49,000\n",
      "📥 Fetching batch 50: offset=49,000, limit=1,000\n",
      "  ✅ Loaded 1,000 records | Total: 50,000\n",
      "\n",
      "✅ Successfully loaded 50,000 records\n",
      "📊 Shape: (50000, 11)\n"
     ]
    }
   ],
   "source": [
    "# Enhanced data loading with pagination support\n",
    "def load_large_dataset(total_limit=100000, batch_size=1000):\n",
    "    \"\"\"\n",
    "    Load large datasets using pagination to bypass Supabase limits\n",
    "    \"\"\"\n",
    "    \n",
    "    headers = {\n",
    "        \"apikey\": SUPABASE_ANON_KEY,\n",
    "        \"Authorization\": f\"Bearer {SUPABASE_ANON_KEY}\",\n",
    "    }\n",
    "    \n",
    "    all_data = []\n",
    "    offset = 0\n",
    "    \n",
    "    print(f\"🚀 LOADING LARGE DATASET\")\n",
    "    print(f\"Target: {total_limit:,} records in batches of {batch_size:,}\")\n",
    "    print(\"=\" * 50)\n",
    "    \n",
    "    while len(all_data) < total_limit:\n",
    "        current_batch_size = min(batch_size, total_limit - len(all_data))\n",
    "        \n",
    "        params = {\n",
    "            \"select\": \"*\",\n",
    "            \"order\": \"event_time.asc\",\n",
    "            \"limit\": str(current_batch_size),\n",
    "            \"offset\": str(offset)\n",
    "        }\n",
    "        \n",
    "        try:\n",
    "            print(f\"📥 Fetching batch {offset//batch_size + 1}: offset={offset:,}, limit={current_batch_size:,}\")\n",
    "            \n",
    "            response = requests.get(\n",
    "                f\"{SUPABASE_URL}/rest/v1/ecommerce_events\",\n",
    "                headers=headers,\n",
    "                params=params,\n",
    "                timeout=60\n",
    "            )\n",
    "            \n",
    "            if response.status_code == 200:\n",
    "                batch_data = response.json()\n",
    "                \n",
    "                if not batch_data:  # No more data\n",
    "                    print(f\"📊 No more data available. Total loaded: {len(all_data):,}\")\n",
    "                    break\n",
    "                \n",
    "                all_data.extend(batch_data)\n",
    "                offset += len(batch_data)\n",
    "                \n",
    "                print(f\"  ✅ Loaded {len(batch_data):,} records | Total: {len(all_data):,}\")\n",
    "                \n",
    "                # If we got fewer records than requested, we've hit the end\n",
    "                if len(batch_data) < current_batch_size:\n",
    "                    print(f\"📊 Reached end of data. Final count: {len(all_data):,}\")\n",
    "                    break\n",
    "                    \n",
    "            else:\n",
    "                print(f\"❌ Error: Status {response.status_code}\")\n",
    "                print(f\"Response: {response.text}\")\n",
    "                break\n",
    "                \n",
    "        except Exception as e:\n",
    "            print(f\"❌ Error in batch {offset//batch_size + 1}: {e}\")\n",
    "            break\n",
    "    \n",
    "    if all_data:\n",
    "        df = pd.DataFrame(all_data)\n",
    "        print(f\"\\n✅ Successfully loaded {len(df):,} records\")\n",
    "        print(f\"📊 Shape: {df.shape}\")\n",
    "        return df\n",
    "    else:\n",
    "        print(\"❌ No data loaded\")\n",
    "        return None\n",
    "\n",
    "# Try the enhanced loader\n",
    "print(\"🎯 Attempting to load larger dataset...\")\n",
    "df_large = load_large_dataset(total_limit=50000, batch_size=1000)"
   ]
  },
  {
   "cell_type": "code",
   "execution_count": 39,
   "id": "73816a1b",
   "metadata": {},
   "outputs": [],
   "source": [
    "df = df_large # <-- use the large dset?"
   ]
  },
  {
   "cell_type": "code",
   "execution_count": 40,
   "id": "298c352b",
   "metadata": {},
   "outputs": [
    {
     "name": "stdout",
     "output_type": "stream",
     "text": [
      "🔍 DATA QUALITY ASSESSMENT\n",
      "==================================================\n",
      "\n",
      "📋 Column Information:\n",
      "<class 'pandas.core.frame.DataFrame'>\n",
      "RangeIndex: 50000 entries, 0 to 49999\n",
      "Data columns (total 11 columns):\n",
      " #   Column         Non-Null Count  Dtype  \n",
      "---  ------         --------------  -----  \n",
      " 0   id             50000 non-null  int64  \n",
      " 1   event_time     50000 non-null  object \n",
      " 2   event_type     50000 non-null  object \n",
      " 3   product_id     50000 non-null  int64  \n",
      " 4   category_id    50000 non-null  int64  \n",
      " 5   category_code  32122 non-null  object \n",
      " 6   brand          41644 non-null  object \n",
      " 7   price          49976 non-null  float64\n",
      " 8   user_id        50000 non-null  int64  \n",
      " 9   user_session   50000 non-null  object \n",
      " 10  created_at     50000 non-null  object \n",
      "dtypes: float64(1), int64(4), object(6)\n",
      "memory usage: 4.2+ MB\n",
      "None\n",
      "\n",
      "❓ Missing Values:\n",
      "               Missing Count  Missing %\n",
      "category_code          17878     35.756\n",
      "brand                   8356     16.712\n",
      "price                     24      0.048\n",
      "\n",
      "📊 Sample Data (First 5 rows):\n"
     ]
    },
    {
     "data": {
      "text/html": [
       "<div>\n",
       "<style scoped>\n",
       "    .dataframe tbody tr th:only-of-type {\n",
       "        vertical-align: middle;\n",
       "    }\n",
       "\n",
       "    .dataframe tbody tr th {\n",
       "        vertical-align: top;\n",
       "    }\n",
       "\n",
       "    .dataframe thead th {\n",
       "        text-align: right;\n",
       "    }\n",
       "</style>\n",
       "<table border=\"1\" class=\"dataframe\">\n",
       "  <thead>\n",
       "    <tr style=\"text-align: right;\">\n",
       "      <th></th>\n",
       "      <th>id</th>\n",
       "      <th>event_time</th>\n",
       "      <th>event_type</th>\n",
       "      <th>product_id</th>\n",
       "      <th>category_id</th>\n",
       "      <th>category_code</th>\n",
       "      <th>brand</th>\n",
       "      <th>price</th>\n",
       "      <th>user_id</th>\n",
       "      <th>user_session</th>\n",
       "      <th>created_at</th>\n",
       "    </tr>\n",
       "  </thead>\n",
       "  <tbody>\n",
       "    <tr>\n",
       "      <th>0</th>\n",
       "      <td>1</td>\n",
       "      <td>2019-11-01T00:00:00+00:00</td>\n",
       "      <td>view</td>\n",
       "      <td>1003461</td>\n",
       "      <td>2053013555631882655</td>\n",
       "      <td>electronics.smartphone</td>\n",
       "      <td>xiaomi</td>\n",
       "      <td>489.07</td>\n",
       "      <td>520088904</td>\n",
       "      <td>4d3b30da-a5e4-49df-b1a8-ba5943f1dd33</td>\n",
       "      <td>2025-10-25T05:51:55.280937+00:00</td>\n",
       "    </tr>\n",
       "    <tr>\n",
       "      <th>1</th>\n",
       "      <td>2</td>\n",
       "      <td>2019-11-01T00:00:00+00:00</td>\n",
       "      <td>view</td>\n",
       "      <td>5000088</td>\n",
       "      <td>2053013566100866035</td>\n",
       "      <td>appliances.sewing_machine</td>\n",
       "      <td>janome</td>\n",
       "      <td>293.65</td>\n",
       "      <td>530496790</td>\n",
       "      <td>8e5f4f83-366c-4f70-860e-ca7417414283</td>\n",
       "      <td>2025-10-25T05:51:55.280937+00:00</td>\n",
       "    </tr>\n",
       "    <tr>\n",
       "      <th>2</th>\n",
       "      <td>50001</td>\n",
       "      <td>2019-11-01T00:00:00+00:00</td>\n",
       "      <td>view</td>\n",
       "      <td>1003461</td>\n",
       "      <td>2053013555631882655</td>\n",
       "      <td>electronics.smartphone</td>\n",
       "      <td>xiaomi</td>\n",
       "      <td>489.07</td>\n",
       "      <td>520088904</td>\n",
       "      <td>4d3b30da-a5e4-49df-b1a8-ba5943f1dd33</td>\n",
       "      <td>2025-10-25T06:00:37.683386+00:00</td>\n",
       "    </tr>\n",
       "    <tr>\n",
       "      <th>3</th>\n",
       "      <td>50002</td>\n",
       "      <td>2019-11-01T00:00:00+00:00</td>\n",
       "      <td>view</td>\n",
       "      <td>5000088</td>\n",
       "      <td>2053013566100866035</td>\n",
       "      <td>appliances.sewing_machine</td>\n",
       "      <td>janome</td>\n",
       "      <td>293.65</td>\n",
       "      <td>530496790</td>\n",
       "      <td>8e5f4f83-366c-4f70-860e-ca7417414283</td>\n",
       "      <td>2025-10-25T06:00:37.683386+00:00</td>\n",
       "    </tr>\n",
       "    <tr>\n",
       "      <th>4</th>\n",
       "      <td>3</td>\n",
       "      <td>2019-11-01T00:00:01+00:00</td>\n",
       "      <td>view</td>\n",
       "      <td>17302664</td>\n",
       "      <td>2053013553853497655</td>\n",
       "      <td>None</td>\n",
       "      <td>creed</td>\n",
       "      <td>28.31</td>\n",
       "      <td>561587266</td>\n",
       "      <td>755422e7-9040-477b-9bd2-6a6e8fd97387</td>\n",
       "      <td>2025-10-25T05:51:55.280937+00:00</td>\n",
       "    </tr>\n",
       "  </tbody>\n",
       "</table>\n",
       "</div>"
      ],
      "text/plain": [
       "      id                 event_time event_type  product_id  \\\n",
       "0      1  2019-11-01T00:00:00+00:00       view     1003461   \n",
       "1      2  2019-11-01T00:00:00+00:00       view     5000088   \n",
       "2  50001  2019-11-01T00:00:00+00:00       view     1003461   \n",
       "3  50002  2019-11-01T00:00:00+00:00       view     5000088   \n",
       "4      3  2019-11-01T00:00:01+00:00       view    17302664   \n",
       "\n",
       "           category_id              category_code   brand   price    user_id  \\\n",
       "0  2053013555631882655     electronics.smartphone  xiaomi  489.07  520088904   \n",
       "1  2053013566100866035  appliances.sewing_machine  janome  293.65  530496790   \n",
       "2  2053013555631882655     electronics.smartphone  xiaomi  489.07  520088904   \n",
       "3  2053013566100866035  appliances.sewing_machine  janome  293.65  530496790   \n",
       "4  2053013553853497655                       None   creed   28.31  561587266   \n",
       "\n",
       "                           user_session                        created_at  \n",
       "0  4d3b30da-a5e4-49df-b1a8-ba5943f1dd33  2025-10-25T05:51:55.280937+00:00  \n",
       "1  8e5f4f83-366c-4f70-860e-ca7417414283  2025-10-25T05:51:55.280937+00:00  \n",
       "2  4d3b30da-a5e4-49df-b1a8-ba5943f1dd33  2025-10-25T06:00:37.683386+00:00  \n",
       "3  8e5f4f83-366c-4f70-860e-ca7417414283  2025-10-25T06:00:37.683386+00:00  \n",
       "4  755422e7-9040-477b-9bd2-6a6e8fd97387  2025-10-25T05:51:55.280937+00:00  "
      ]
     },
     "metadata": {},
     "output_type": "display_data"
    },
    {
     "name": "stdout",
     "output_type": "stream",
     "text": [
      "\n",
      "📈 Statistical Summary:\n"
     ]
    },
    {
     "data": {
      "text/html": [
       "<div>\n",
       "<style scoped>\n",
       "    .dataframe tbody tr th:only-of-type {\n",
       "        vertical-align: middle;\n",
       "    }\n",
       "\n",
       "    .dataframe tbody tr th {\n",
       "        vertical-align: top;\n",
       "    }\n",
       "\n",
       "    .dataframe thead th {\n",
       "        text-align: right;\n",
       "    }\n",
       "</style>\n",
       "<table border=\"1\" class=\"dataframe\">\n",
       "  <thead>\n",
       "    <tr style=\"text-align: right;\">\n",
       "      <th></th>\n",
       "      <th>id</th>\n",
       "      <th>event_time</th>\n",
       "      <th>event_type</th>\n",
       "      <th>product_id</th>\n",
       "      <th>category_id</th>\n",
       "      <th>category_code</th>\n",
       "      <th>brand</th>\n",
       "      <th>price</th>\n",
       "      <th>user_id</th>\n",
       "      <th>user_session</th>\n",
       "      <th>created_at</th>\n",
       "    </tr>\n",
       "  </thead>\n",
       "  <tbody>\n",
       "    <tr>\n",
       "      <th>count</th>\n",
       "      <td>50000.000000</td>\n",
       "      <td>50000</td>\n",
       "      <td>50000</td>\n",
       "      <td>5.000000e+04</td>\n",
       "      <td>5.000000e+04</td>\n",
       "      <td>32122</td>\n",
       "      <td>41644</td>\n",
       "      <td>49976.000000</td>\n",
       "      <td>5.000000e+04</td>\n",
       "      <td>50000</td>\n",
       "      <td>50000</td>\n",
       "    </tr>\n",
       "    <tr>\n",
       "      <th>unique</th>\n",
       "      <td>NaN</td>\n",
       "      <td>6178</td>\n",
       "      <td>3</td>\n",
       "      <td>NaN</td>\n",
       "      <td>NaN</td>\n",
       "      <td>108</td>\n",
       "      <td>996</td>\n",
       "      <td>NaN</td>\n",
       "      <td>NaN</td>\n",
       "      <td>6417</td>\n",
       "      <td>51</td>\n",
       "    </tr>\n",
       "    <tr>\n",
       "      <th>top</th>\n",
       "      <td>NaN</td>\n",
       "      <td>2019-11-01T01:49:06+00:00</td>\n",
       "      <td>view</td>\n",
       "      <td>NaN</td>\n",
       "      <td>NaN</td>\n",
       "      <td>electronics.smartphone</td>\n",
       "      <td>samsung</td>\n",
       "      <td>NaN</td>\n",
       "      <td>NaN</td>\n",
       "      <td>59f9573a-87ea-47c3-af23-a9778e545443</td>\n",
       "      <td>2025-10-25T05:51:55.280937+00:00</td>\n",
       "    </tr>\n",
       "    <tr>\n",
       "      <th>freq</th>\n",
       "      <td>NaN</td>\n",
       "      <td>34</td>\n",
       "      <td>49126</td>\n",
       "      <td>NaN</td>\n",
       "      <td>NaN</td>\n",
       "      <td>11360</td>\n",
       "      <td>5444</td>\n",
       "      <td>NaN</td>\n",
       "      <td>NaN</td>\n",
       "      <td>180</td>\n",
       "      <td>1000</td>\n",
       "    </tr>\n",
       "    <tr>\n",
       "      <th>mean</th>\n",
       "      <td>37496.500320</td>\n",
       "      <td>NaN</td>\n",
       "      <td>NaN</td>\n",
       "      <td>1.190485e+07</td>\n",
       "      <td>2.057861e+18</td>\n",
       "      <td>NaN</td>\n",
       "      <td>NaN</td>\n",
       "      <td>291.813103</td>\n",
       "      <td>5.356246e+08</td>\n",
       "      <td>NaN</td>\n",
       "      <td>NaN</td>\n",
       "    </tr>\n",
       "    <tr>\n",
       "      <th>std</th>\n",
       "      <td>26019.163422</td>\n",
       "      <td>NaN</td>\n",
       "      <td>NaN</td>\n",
       "      <td>1.230750e+07</td>\n",
       "      <td>1.927457e+16</td>\n",
       "      <td>NaN</td>\n",
       "      <td>NaN</td>\n",
       "      <td>357.742941</td>\n",
       "      <td>2.032619e+07</td>\n",
       "      <td>NaN</td>\n",
       "      <td>NaN</td>\n",
       "    </tr>\n",
       "    <tr>\n",
       "      <th>min</th>\n",
       "      <td>1.000000</td>\n",
       "      <td>NaN</td>\n",
       "      <td>NaN</td>\n",
       "      <td>1.001588e+06</td>\n",
       "      <td>2.053014e+18</td>\n",
       "      <td>NaN</td>\n",
       "      <td>NaN</td>\n",
       "      <td>1.060000</td>\n",
       "      <td>3.899798e+08</td>\n",
       "      <td>NaN</td>\n",
       "      <td>NaN</td>\n",
       "    </tr>\n",
       "    <tr>\n",
       "      <th>25%</th>\n",
       "      <td>12500.750000</td>\n",
       "      <td>NaN</td>\n",
       "      <td>NaN</td>\n",
       "      <td>1.307338e+06</td>\n",
       "      <td>2.053014e+18</td>\n",
       "      <td>NaN</td>\n",
       "      <td>NaN</td>\n",
       "      <td>65.900000</td>\n",
       "      <td>5.160589e+08</td>\n",
       "      <td>NaN</td>\n",
       "      <td>NaN</td>\n",
       "    </tr>\n",
       "    <tr>\n",
       "      <th>50%</th>\n",
       "      <td>25000.500000</td>\n",
       "      <td>NaN</td>\n",
       "      <td>NaN</td>\n",
       "      <td>6.701107e+06</td>\n",
       "      <td>2.053014e+18</td>\n",
       "      <td>NaN</td>\n",
       "      <td>NaN</td>\n",
       "      <td>168.860000</td>\n",
       "      <td>5.320839e+08</td>\n",
       "      <td>NaN</td>\n",
       "      <td>NaN</td>\n",
       "    </tr>\n",
       "    <tr>\n",
       "      <th>75%</th>\n",
       "      <td>62496.250000</td>\n",
       "      <td>NaN</td>\n",
       "      <td>NaN</td>\n",
       "      <td>1.720096e+07</td>\n",
       "      <td>2.053014e+18</td>\n",
       "      <td>NaN</td>\n",
       "      <td>NaN</td>\n",
       "      <td>361.605000</td>\n",
       "      <td>5.550423e+08</td>\n",
       "      <td>NaN</td>\n",
       "      <td>NaN</td>\n",
       "    </tr>\n",
       "    <tr>\n",
       "      <th>max</th>\n",
       "      <td>74996.000000</td>\n",
       "      <td>NaN</td>\n",
       "      <td>NaN</td>\n",
       "      <td>6.050000e+07</td>\n",
       "      <td>2.175420e+18</td>\n",
       "      <td>NaN</td>\n",
       "      <td>NaN</td>\n",
       "      <td>2574.070000</td>\n",
       "      <td>5.662942e+08</td>\n",
       "      <td>NaN</td>\n",
       "      <td>NaN</td>\n",
       "    </tr>\n",
       "  </tbody>\n",
       "</table>\n",
       "</div>"
      ],
      "text/plain": [
       "                  id                 event_time event_type    product_id  \\\n",
       "count   50000.000000                      50000      50000  5.000000e+04   \n",
       "unique           NaN                       6178          3           NaN   \n",
       "top              NaN  2019-11-01T01:49:06+00:00       view           NaN   \n",
       "freq             NaN                         34      49126           NaN   \n",
       "mean    37496.500320                        NaN        NaN  1.190485e+07   \n",
       "std     26019.163422                        NaN        NaN  1.230750e+07   \n",
       "min         1.000000                        NaN        NaN  1.001588e+06   \n",
       "25%     12500.750000                        NaN        NaN  1.307338e+06   \n",
       "50%     25000.500000                        NaN        NaN  6.701107e+06   \n",
       "75%     62496.250000                        NaN        NaN  1.720096e+07   \n",
       "max     74996.000000                        NaN        NaN  6.050000e+07   \n",
       "\n",
       "         category_id           category_code    brand         price  \\\n",
       "count   5.000000e+04                   32122    41644  49976.000000   \n",
       "unique           NaN                     108      996           NaN   \n",
       "top              NaN  electronics.smartphone  samsung           NaN   \n",
       "freq             NaN                   11360     5444           NaN   \n",
       "mean    2.057861e+18                     NaN      NaN    291.813103   \n",
       "std     1.927457e+16                     NaN      NaN    357.742941   \n",
       "min     2.053014e+18                     NaN      NaN      1.060000   \n",
       "25%     2.053014e+18                     NaN      NaN     65.900000   \n",
       "50%     2.053014e+18                     NaN      NaN    168.860000   \n",
       "75%     2.053014e+18                     NaN      NaN    361.605000   \n",
       "max     2.175420e+18                     NaN      NaN   2574.070000   \n",
       "\n",
       "             user_id                          user_session  \\\n",
       "count   5.000000e+04                                 50000   \n",
       "unique           NaN                                  6417   \n",
       "top              NaN  59f9573a-87ea-47c3-af23-a9778e545443   \n",
       "freq             NaN                                   180   \n",
       "mean    5.356246e+08                                   NaN   \n",
       "std     2.032619e+07                                   NaN   \n",
       "min     3.899798e+08                                   NaN   \n",
       "25%     5.160589e+08                                   NaN   \n",
       "50%     5.320839e+08                                   NaN   \n",
       "75%     5.550423e+08                                   NaN   \n",
       "max     5.662942e+08                                   NaN   \n",
       "\n",
       "                              created_at  \n",
       "count                              50000  \n",
       "unique                                51  \n",
       "top     2025-10-25T05:51:55.280937+00:00  \n",
       "freq                                1000  \n",
       "mean                                 NaN  \n",
       "std                                  NaN  \n",
       "min                                  NaN  \n",
       "25%                                  NaN  \n",
       "50%                                  NaN  \n",
       "75%                                  NaN  \n",
       "max                                  NaN  "
      ]
     },
     "metadata": {},
     "output_type": "display_data"
    },
    {
     "name": "stdout",
     "output_type": "stream",
     "text": [
      "\n",
      "🎯 Event Distribution:\n",
      "  view: 98.3%\n",
      "  purchase: 0.9%\n",
      "  cart: 0.8%\n",
      "\n",
      "💰 Price Statistics:\n",
      "  Average: $291.81\n",
      "  Median: $168.86\n",
      "  Range: $1.06 - $2574.07\n",
      "  Null prices: 24 (0.0%)\n"
     ]
    }
   ],
   "source": [
    "# Initial data exploration and quality assessment\n",
    "if df is not None:\n",
    "    print(\"🔍 DATA QUALITY ASSESSMENT\")\n",
    "    print(\"=\" * 50)\n",
    "    \n",
    "    # Basic info\n",
    "    print(f\"\\n📋 Column Information:\")\n",
    "    print(df.info())\n",
    "    \n",
    "    # Missing values analysis\n",
    "    print(f\"\\n❓ Missing Values:\")\n",
    "    missing_data = df.isnull().sum()\n",
    "    missing_pct = (missing_data / len(df)) * 100\n",
    "    missing_summary = pd.DataFrame({\n",
    "        'Missing Count': missing_data,\n",
    "        'Missing %': missing_pct\n",
    "    })\n",
    "    print(missing_summary[missing_summary['Missing Count'] > 0])\n",
    "    \n",
    "    # Data types and sample values\n",
    "    print(f\"\\n📊 Sample Data (First 5 rows):\")\n",
    "    display(df.head())\n",
    "    \n",
    "    # Statistical summary\n",
    "    print(f\"\\n📈 Statistical Summary:\")\n",
    "    display(df.describe(include='all'))\n",
    "    \n",
    "    # Event type distribution\n",
    "    event_dist = df['event_type'].value_counts(normalize=True) * 100\n",
    "    print(f\"\\n🎯 Event Distribution:\")\n",
    "    for event, pct in event_dist.items():\n",
    "        print(f\"  {event}: {pct:.1f}%\")\n",
    "    \n",
    "    # Price analysis\n",
    "    if 'price' in df.columns:\n",
    "        print(f\"\\n💰 Price Statistics:\")\n",
    "        print(f\"  Average: ${df['price'].mean():.2f}\")\n",
    "        print(f\"  Median: ${df['price'].median():.2f}\")\n",
    "        print(f\"  Range: ${df['price'].min():.2f} - ${df['price'].max():.2f}\")\n",
    "        print(f\"  Null prices: {df['price'].isnull().sum():,} ({df['price'].isnull().mean()*100:.1f}%)\")"
   ]
  },
  {
   "cell_type": "markdown",
   "id": "15949659",
   "metadata": {},
   "source": [
    "## 2. Data Preprocessing and Feature Engineering\n",
    "\n",
    "Clean the data and create additional features that will help in pattern recognition."
   ]
  },
  {
   "cell_type": "code",
   "execution_count": 41,
   "id": "1ec8fcd7",
   "metadata": {},
   "outputs": [
    {
     "name": "stdout",
     "output_type": "stream",
     "text": [
      "🔧 PREPROCESSING DATA\n",
      "========================================\n",
      "✅ Converted event_time to datetime\n",
      "✅ Created time-based features\n",
      "✅ Handled missing values\n",
      "✅ Created price categories\n",
      "✅ Created category hierarchy\n",
      "✅ Created user activity features\n",
      "✅ Sorted data for session analysis\n",
      "\n",
      "📊 Processed Dataset Shape: (50000, 21)\n",
      "🆕 New Columns: {'total_events', 'day_name', 'is_weekend', 'hour', 'user_activity_level', 'sub_category', 'date', 'main_category', 'day_of_week', 'price_category'}\n",
      "\n",
      "✨ Preprocessing Complete!\n",
      "Original shape: (50000, 11)\n",
      "Processed shape: (50000, 21)\n"
     ]
    }
   ],
   "source": [
    "def preprocess_ecommerce_data(df):\n",
    "    \"\"\"\n",
    "    Comprehensive data preprocessing and feature engineering\n",
    "    \"\"\"\n",
    "    if df is None:\n",
    "        return None\n",
    "    \n",
    "    # Create a copy to avoid modifying original\n",
    "    df_processed = df.copy()\n",
    "    \n",
    "    print(\"🔧 PREPROCESSING DATA\")\n",
    "    print(\"=\" * 40)\n",
    "    \n",
    "    # 1. Convert event_time to datetime\n",
    "    df_processed['event_time'] = pd.to_datetime(df_processed['event_time'])\n",
    "    print(\"✅ Converted event_time to datetime\")\n",
    "    \n",
    "    # 2. Extract time-based features\n",
    "    df_processed['hour'] = df_processed['event_time'].dt.hour\n",
    "    df_processed['day_of_week'] = df_processed['event_time'].dt.dayofweek  # 0=Monday\n",
    "    df_processed['day_name'] = df_processed['event_time'].dt.day_name()\n",
    "    df_processed['is_weekend'] = df_processed['day_of_week'].isin([5, 6])\n",
    "    df_processed['date'] = df_processed['event_time'].dt.date\n",
    "    print(\"✅ Created time-based features\")\n",
    "    \n",
    "    # 3. Handle missing values\n",
    "    if 'category_code' in df_processed.columns:\n",
    "        df_processed['category_code'] = df_processed['category_code'].fillna('unknown')\n",
    "    if 'brand' in df_processed.columns:\n",
    "        df_processed['brand'] = df_processed['brand'].fillna('unknown')\n",
    "    print(\"✅ Handled missing values\")\n",
    "    \n",
    "    # 4. Create price categories\n",
    "    if 'price' in df_processed.columns:\n",
    "        # Remove rows with null prices for price analysis\n",
    "        price_data = df_processed[df_processed['price'].notna()]\n",
    "        if len(price_data) > 0:\n",
    "            df_processed['price_category'] = pd.cut(\n",
    "                df_processed['price'], \n",
    "                bins=[0, 50, 100, 200, 500, float('inf')], \n",
    "                labels=['Budget', 'Low', 'Medium', 'High', 'Premium'],\n",
    "                include_lowest=True\n",
    "            )\n",
    "        print(\"✅ Created price categories\")\n",
    "    \n",
    "    # 5. Create category hierarchy\n",
    "    if 'category_code' in df_processed.columns:\n",
    "        # Extract main category (first part before '.')\n",
    "        df_processed['main_category'] = df_processed['category_code'].str.split('.').str[0]\n",
    "        # Extract sub category (second part)\n",
    "        df_processed['sub_category'] = df_processed['category_code'].str.split('.').str[1]\n",
    "        print(\"✅ Created category hierarchy\")\n",
    "    \n",
    "    # 6. Create user engagement score (events per user)\n",
    "    user_activity = df_processed.groupby('user_id').size().reset_index(name='total_events')\n",
    "    df_processed = df_processed.merge(user_activity, on='user_id', how='left')\n",
    "    \n",
    "    # Categorize users by activity level\n",
    "    activity_percentiles = user_activity['total_events'].quantile([0.33, 0.66, 1.0])\n",
    "    df_processed['user_activity_level'] = pd.cut(\n",
    "        df_processed['total_events'],\n",
    "        bins=[0, activity_percentiles[0.33], activity_percentiles[0.66], activity_percentiles[1.0]],\n",
    "        labels=['Low', 'Medium', 'High'],\n",
    "        include_lowest=True\n",
    "    )\n",
    "    print(\"✅ Created user activity features\")\n",
    "    \n",
    "    # 7. Session analysis preparation\n",
    "    # Sort by user and time for session analysis\n",
    "    df_processed = df_processed.sort_values(['user_id', 'event_time'])\n",
    "    print(\"✅ Sorted data for session analysis\")\n",
    "    \n",
    "    print(f\"\\n📊 Processed Dataset Shape: {df_processed.shape}\")\n",
    "    print(f\"🆕 New Columns: {set(df_processed.columns) - set(df.columns)}\")\n",
    "    \n",
    "    return df_processed\n",
    "\n",
    "# Apply preprocessing\n",
    "df_clean = preprocess_ecommerce_data(df)\n",
    "\n",
    "if df_clean is not None:\n",
    "    print(f\"\\n✨ Preprocessing Complete!\")\n",
    "    print(f\"Original shape: {df.shape}\")\n",
    "    print(f\"Processed shape: {df_clean.shape}\")"
   ]
  },
  {
   "cell_type": "markdown",
   "id": "7e9fc9d9",
   "metadata": {},
   "source": [
    "## 3. Temporal Pattern Analysis\n",
    "\n",
    "Analyze time-based patterns to understand when and how users interact with the platform."
   ]
  },
  {
   "cell_type": "code",
   "execution_count": 42,
   "id": "b6683da6",
   "metadata": {},
   "outputs": [
    {
     "name": "stdout",
     "output_type": "stream",
     "text": [
      "📅 TEMPORAL PATTERN ANALYSIS\n",
      "=============================================\n"
     ]
    },
    {
     "data": {
      "application/vnd.plotly.v1+json": {
       "config": {
        "plotlyServerURL": "https://plot.ly"
       },
       "data": [
        {
         "line": {
          "color": "blue"
         },
         "name": "Total Events",
         "type": "scatter",
         "x": [
          0,
          1,
          2
         ],
         "xaxis": "x",
         "y": [
          21774,
          28000,
          226
         ],
         "yaxis": "y"
        },
        {
         "line": {
          "color": "red"
         },
         "name": "Purchases",
         "type": "scatter",
         "x": [
          0,
          1,
          2
         ],
         "xaxis": "x",
         "y": [
          228,
          238,
          6
         ],
         "yaxis": "y2"
        },
        {
         "marker": {
          "color": "lightblue"
         },
         "name": "Events by Day",
         "type": "bar",
         "x": [
          "Monday",
          "Tuesday",
          "Wednesday",
          "Thursday",
          "Friday",
          "Saturday",
          "Sunday"
         ],
         "xaxis": "x2",
         "y": [
          null,
          null,
          null,
          null,
          50000,
          null,
          null
         ],
         "yaxis": "y3"
        },
        {
         "line": {
          "color": "green"
         },
         "name": "Purchase Rate %",
         "type": "scatter",
         "x": [
          0,
          1,
          2
         ],
         "xaxis": "x3",
         "y": [
          1.0471204188481675,
          0.8500000000000001,
          2.6548672566371683
         ],
         "yaxis": "y5"
        },
        {
         "name": "Cart",
         "type": "bar",
         "x": [
          "Weekday",
          "Weekend"
         ],
         "xaxis": "x4",
         "y": [
          0.804,
          0
         ],
         "yaxis": "y6"
        },
        {
         "name": "Purchase",
         "type": "bar",
         "x": [
          "Weekday",
          "Weekend"
         ],
         "xaxis": "x4",
         "y": [
          0.9440000000000001,
          0
         ],
         "yaxis": "y6"
        },
        {
         "name": "View",
         "type": "bar",
         "x": [
          "Weekday",
          "Weekend"
         ],
         "xaxis": "x4",
         "y": [
          98.252,
          0
         ],
         "yaxis": "y6"
        }
       ],
       "layout": {
        "annotations": [
         {
          "font": {
           "size": 16
          },
          "showarrow": false,
          "text": "Hourly Activity Pattern",
          "x": 0.185,
          "xanchor": "center",
          "xref": "paper",
          "y": 1,
          "yanchor": "bottom",
          "yref": "paper"
         },
         {
          "font": {
           "size": 16
          },
          "showarrow": false,
          "text": "Daily Activity Pattern",
          "x": 0.7550000000000001,
          "xanchor": "center",
          "xref": "paper",
          "y": 1,
          "yanchor": "bottom",
          "yref": "paper"
         },
         {
          "font": {
           "size": 16
          },
          "showarrow": false,
          "text": "Event Types by Hour",
          "x": 0.185,
          "xanchor": "center",
          "xref": "paper",
          "y": 0.375,
          "yanchor": "bottom",
          "yref": "paper"
         },
         {
          "font": {
           "size": 16
          },
          "showarrow": false,
          "text": "Weekend vs Weekday",
          "x": 0.7550000000000001,
          "xanchor": "center",
          "xref": "paper",
          "y": 0.375,
          "yanchor": "bottom",
          "yref": "paper"
         }
        ],
        "height": 800,
        "showlegend": true,
        "template": {
         "data": {
          "bar": [
           {
            "error_x": {
             "color": "#2a3f5f"
            },
            "error_y": {
             "color": "#2a3f5f"
            },
            "marker": {
             "line": {
              "color": "#E5ECF6",
              "width": 0.5
             },
             "pattern": {
              "fillmode": "overlay",
              "size": 10,
              "solidity": 0.2
             }
            },
            "type": "bar"
           }
          ],
          "barpolar": [
           {
            "marker": {
             "line": {
              "color": "#E5ECF6",
              "width": 0.5
             },
             "pattern": {
              "fillmode": "overlay",
              "size": 10,
              "solidity": 0.2
             }
            },
            "type": "barpolar"
           }
          ],
          "carpet": [
           {
            "aaxis": {
             "endlinecolor": "#2a3f5f",
             "gridcolor": "white",
             "linecolor": "white",
             "minorgridcolor": "white",
             "startlinecolor": "#2a3f5f"
            },
            "baxis": {
             "endlinecolor": "#2a3f5f",
             "gridcolor": "white",
             "linecolor": "white",
             "minorgridcolor": "white",
             "startlinecolor": "#2a3f5f"
            },
            "type": "carpet"
           }
          ],
          "choropleth": [
           {
            "colorbar": {
             "outlinewidth": 0,
             "ticks": ""
            },
            "type": "choropleth"
           }
          ],
          "contour": [
           {
            "colorbar": {
             "outlinewidth": 0,
             "ticks": ""
            },
            "colorscale": [
             [
              0,
              "#0d0887"
             ],
             [
              0.1111111111111111,
              "#46039f"
             ],
             [
              0.2222222222222222,
              "#7201a8"
             ],
             [
              0.3333333333333333,
              "#9c179e"
             ],
             [
              0.4444444444444444,
              "#bd3786"
             ],
             [
              0.5555555555555556,
              "#d8576b"
             ],
             [
              0.6666666666666666,
              "#ed7953"
             ],
             [
              0.7777777777777778,
              "#fb9f3a"
             ],
             [
              0.8888888888888888,
              "#fdca26"
             ],
             [
              1,
              "#f0f921"
             ]
            ],
            "type": "contour"
           }
          ],
          "contourcarpet": [
           {
            "colorbar": {
             "outlinewidth": 0,
             "ticks": ""
            },
            "type": "contourcarpet"
           }
          ],
          "heatmap": [
           {
            "colorbar": {
             "outlinewidth": 0,
             "ticks": ""
            },
            "colorscale": [
             [
              0,
              "#0d0887"
             ],
             [
              0.1111111111111111,
              "#46039f"
             ],
             [
              0.2222222222222222,
              "#7201a8"
             ],
             [
              0.3333333333333333,
              "#9c179e"
             ],
             [
              0.4444444444444444,
              "#bd3786"
             ],
             [
              0.5555555555555556,
              "#d8576b"
             ],
             [
              0.6666666666666666,
              "#ed7953"
             ],
             [
              0.7777777777777778,
              "#fb9f3a"
             ],
             [
              0.8888888888888888,
              "#fdca26"
             ],
             [
              1,
              "#f0f921"
             ]
            ],
            "type": "heatmap"
           }
          ],
          "heatmapgl": [
           {
            "colorbar": {
             "outlinewidth": 0,
             "ticks": ""
            },
            "colorscale": [
             [
              0,
              "#0d0887"
             ],
             [
              0.1111111111111111,
              "#46039f"
             ],
             [
              0.2222222222222222,
              "#7201a8"
             ],
             [
              0.3333333333333333,
              "#9c179e"
             ],
             [
              0.4444444444444444,
              "#bd3786"
             ],
             [
              0.5555555555555556,
              "#d8576b"
             ],
             [
              0.6666666666666666,
              "#ed7953"
             ],
             [
              0.7777777777777778,
              "#fb9f3a"
             ],
             [
              0.8888888888888888,
              "#fdca26"
             ],
             [
              1,
              "#f0f921"
             ]
            ],
            "type": "heatmapgl"
           }
          ],
          "histogram": [
           {
            "marker": {
             "pattern": {
              "fillmode": "overlay",
              "size": 10,
              "solidity": 0.2
             }
            },
            "type": "histogram"
           }
          ],
          "histogram2d": [
           {
            "colorbar": {
             "outlinewidth": 0,
             "ticks": ""
            },
            "colorscale": [
             [
              0,
              "#0d0887"
             ],
             [
              0.1111111111111111,
              "#46039f"
             ],
             [
              0.2222222222222222,
              "#7201a8"
             ],
             [
              0.3333333333333333,
              "#9c179e"
             ],
             [
              0.4444444444444444,
              "#bd3786"
             ],
             [
              0.5555555555555556,
              "#d8576b"
             ],
             [
              0.6666666666666666,
              "#ed7953"
             ],
             [
              0.7777777777777778,
              "#fb9f3a"
             ],
             [
              0.8888888888888888,
              "#fdca26"
             ],
             [
              1,
              "#f0f921"
             ]
            ],
            "type": "histogram2d"
           }
          ],
          "histogram2dcontour": [
           {
            "colorbar": {
             "outlinewidth": 0,
             "ticks": ""
            },
            "colorscale": [
             [
              0,
              "#0d0887"
             ],
             [
              0.1111111111111111,
              "#46039f"
             ],
             [
              0.2222222222222222,
              "#7201a8"
             ],
             [
              0.3333333333333333,
              "#9c179e"
             ],
             [
              0.4444444444444444,
              "#bd3786"
             ],
             [
              0.5555555555555556,
              "#d8576b"
             ],
             [
              0.6666666666666666,
              "#ed7953"
             ],
             [
              0.7777777777777778,
              "#fb9f3a"
             ],
             [
              0.8888888888888888,
              "#fdca26"
             ],
             [
              1,
              "#f0f921"
             ]
            ],
            "type": "histogram2dcontour"
           }
          ],
          "mesh3d": [
           {
            "colorbar": {
             "outlinewidth": 0,
             "ticks": ""
            },
            "type": "mesh3d"
           }
          ],
          "parcoords": [
           {
            "line": {
             "colorbar": {
              "outlinewidth": 0,
              "ticks": ""
             }
            },
            "type": "parcoords"
           }
          ],
          "pie": [
           {
            "automargin": true,
            "type": "pie"
           }
          ],
          "scatter": [
           {
            "fillpattern": {
             "fillmode": "overlay",
             "size": 10,
             "solidity": 0.2
            },
            "type": "scatter"
           }
          ],
          "scatter3d": [
           {
            "line": {
             "colorbar": {
              "outlinewidth": 0,
              "ticks": ""
             }
            },
            "marker": {
             "colorbar": {
              "outlinewidth": 0,
              "ticks": ""
             }
            },
            "type": "scatter3d"
           }
          ],
          "scattercarpet": [
           {
            "marker": {
             "colorbar": {
              "outlinewidth": 0,
              "ticks": ""
             }
            },
            "type": "scattercarpet"
           }
          ],
          "scattergeo": [
           {
            "marker": {
             "colorbar": {
              "outlinewidth": 0,
              "ticks": ""
             }
            },
            "type": "scattergeo"
           }
          ],
          "scattergl": [
           {
            "marker": {
             "colorbar": {
              "outlinewidth": 0,
              "ticks": ""
             }
            },
            "type": "scattergl"
           }
          ],
          "scattermapbox": [
           {
            "marker": {
             "colorbar": {
              "outlinewidth": 0,
              "ticks": ""
             }
            },
            "type": "scattermapbox"
           }
          ],
          "scatterpolar": [
           {
            "marker": {
             "colorbar": {
              "outlinewidth": 0,
              "ticks": ""
             }
            },
            "type": "scatterpolar"
           }
          ],
          "scatterpolargl": [
           {
            "marker": {
             "colorbar": {
              "outlinewidth": 0,
              "ticks": ""
             }
            },
            "type": "scatterpolargl"
           }
          ],
          "scatterternary": [
           {
            "marker": {
             "colorbar": {
              "outlinewidth": 0,
              "ticks": ""
             }
            },
            "type": "scatterternary"
           }
          ],
          "surface": [
           {
            "colorbar": {
             "outlinewidth": 0,
             "ticks": ""
            },
            "colorscale": [
             [
              0,
              "#0d0887"
             ],
             [
              0.1111111111111111,
              "#46039f"
             ],
             [
              0.2222222222222222,
              "#7201a8"
             ],
             [
              0.3333333333333333,
              "#9c179e"
             ],
             [
              0.4444444444444444,
              "#bd3786"
             ],
             [
              0.5555555555555556,
              "#d8576b"
             ],
             [
              0.6666666666666666,
              "#ed7953"
             ],
             [
              0.7777777777777778,
              "#fb9f3a"
             ],
             [
              0.8888888888888888,
              "#fdca26"
             ],
             [
              1,
              "#f0f921"
             ]
            ],
            "type": "surface"
           }
          ],
          "table": [
           {
            "cells": {
             "fill": {
              "color": "#EBF0F8"
             },
             "line": {
              "color": "white"
             }
            },
            "header": {
             "fill": {
              "color": "#C8D4E3"
             },
             "line": {
              "color": "white"
             }
            },
            "type": "table"
           }
          ]
         },
         "layout": {
          "annotationdefaults": {
           "arrowcolor": "#2a3f5f",
           "arrowhead": 0,
           "arrowwidth": 1
          },
          "autotypenumbers": "strict",
          "coloraxis": {
           "colorbar": {
            "outlinewidth": 0,
            "ticks": ""
           }
          },
          "colorscale": {
           "diverging": [
            [
             0,
             "#8e0152"
            ],
            [
             0.1,
             "#c51b7d"
            ],
            [
             0.2,
             "#de77ae"
            ],
            [
             0.3,
             "#f1b6da"
            ],
            [
             0.4,
             "#fde0ef"
            ],
            [
             0.5,
             "#f7f7f7"
            ],
            [
             0.6,
             "#e6f5d0"
            ],
            [
             0.7,
             "#b8e186"
            ],
            [
             0.8,
             "#7fbc41"
            ],
            [
             0.9,
             "#4d9221"
            ],
            [
             1,
             "#276419"
            ]
           ],
           "sequential": [
            [
             0,
             "#0d0887"
            ],
            [
             0.1111111111111111,
             "#46039f"
            ],
            [
             0.2222222222222222,
             "#7201a8"
            ],
            [
             0.3333333333333333,
             "#9c179e"
            ],
            [
             0.4444444444444444,
             "#bd3786"
            ],
            [
             0.5555555555555556,
             "#d8576b"
            ],
            [
             0.6666666666666666,
             "#ed7953"
            ],
            [
             0.7777777777777778,
             "#fb9f3a"
            ],
            [
             0.8888888888888888,
             "#fdca26"
            ],
            [
             1,
             "#f0f921"
            ]
           ],
           "sequentialminus": [
            [
             0,
             "#0d0887"
            ],
            [
             0.1111111111111111,
             "#46039f"
            ],
            [
             0.2222222222222222,
             "#7201a8"
            ],
            [
             0.3333333333333333,
             "#9c179e"
            ],
            [
             0.4444444444444444,
             "#bd3786"
            ],
            [
             0.5555555555555556,
             "#d8576b"
            ],
            [
             0.6666666666666666,
             "#ed7953"
            ],
            [
             0.7777777777777778,
             "#fb9f3a"
            ],
            [
             0.8888888888888888,
             "#fdca26"
            ],
            [
             1,
             "#f0f921"
            ]
           ]
          },
          "colorway": [
           "#636efa",
           "#EF553B",
           "#00cc96",
           "#ab63fa",
           "#FFA15A",
           "#19d3f3",
           "#FF6692",
           "#B6E880",
           "#FF97FF",
           "#FECB52"
          ],
          "font": {
           "color": "#2a3f5f"
          },
          "geo": {
           "bgcolor": "white",
           "lakecolor": "white",
           "landcolor": "#E5ECF6",
           "showlakes": true,
           "showland": true,
           "subunitcolor": "white"
          },
          "hoverlabel": {
           "align": "left"
          },
          "hovermode": "closest",
          "mapbox": {
           "style": "light"
          },
          "paper_bgcolor": "white",
          "plot_bgcolor": "#E5ECF6",
          "polar": {
           "angularaxis": {
            "gridcolor": "white",
            "linecolor": "white",
            "ticks": ""
           },
           "bgcolor": "#E5ECF6",
           "radialaxis": {
            "gridcolor": "white",
            "linecolor": "white",
            "ticks": ""
           }
          },
          "scene": {
           "xaxis": {
            "backgroundcolor": "#E5ECF6",
            "gridcolor": "white",
            "gridwidth": 2,
            "linecolor": "white",
            "showbackground": true,
            "ticks": "",
            "zerolinecolor": "white"
           },
           "yaxis": {
            "backgroundcolor": "#E5ECF6",
            "gridcolor": "white",
            "gridwidth": 2,
            "linecolor": "white",
            "showbackground": true,
            "ticks": "",
            "zerolinecolor": "white"
           },
           "zaxis": {
            "backgroundcolor": "#E5ECF6",
            "gridcolor": "white",
            "gridwidth": 2,
            "linecolor": "white",
            "showbackground": true,
            "ticks": "",
            "zerolinecolor": "white"
           }
          },
          "shapedefaults": {
           "line": {
            "color": "#2a3f5f"
           }
          },
          "ternary": {
           "aaxis": {
            "gridcolor": "white",
            "linecolor": "white",
            "ticks": ""
           },
           "baxis": {
            "gridcolor": "white",
            "linecolor": "white",
            "ticks": ""
           },
           "bgcolor": "#E5ECF6",
           "caxis": {
            "gridcolor": "white",
            "linecolor": "white",
            "ticks": ""
           }
          },
          "title": {
           "x": 0.05
          },
          "xaxis": {
           "automargin": true,
           "gridcolor": "white",
           "linecolor": "white",
           "ticks": "",
           "title": {
            "standoff": 15
           },
           "zerolinecolor": "white",
           "zerolinewidth": 2
          },
          "yaxis": {
           "automargin": true,
           "gridcolor": "white",
           "linecolor": "white",
           "ticks": "",
           "title": {
            "standoff": 15
           },
           "zerolinecolor": "white",
           "zerolinewidth": 2
          }
         }
        },
        "title": {
         "text": "Temporal Activity Patterns Analysis"
        },
        "xaxis": {
         "anchor": "y",
         "domain": [
          0,
          0.37
         ]
        },
        "xaxis2": {
         "anchor": "y3",
         "domain": [
          0.5700000000000001,
          0.9400000000000001
         ]
        },
        "xaxis3": {
         "anchor": "y5",
         "domain": [
          0,
          0.37
         ]
        },
        "xaxis4": {
         "anchor": "y6",
         "domain": [
          0.5700000000000001,
          0.9400000000000001
         ]
        },
        "yaxis": {
         "anchor": "x",
         "domain": [
          0.625,
          1
         ]
        },
        "yaxis2": {
         "anchor": "x",
         "overlaying": "y",
         "side": "right"
        },
        "yaxis3": {
         "anchor": "x2",
         "domain": [
          0.625,
          1
         ]
        },
        "yaxis4": {
         "anchor": "x2",
         "overlaying": "y3",
         "side": "right"
        },
        "yaxis5": {
         "anchor": "x3",
         "domain": [
          0,
          0.375
         ]
        },
        "yaxis6": {
         "anchor": "x4",
         "domain": [
          0,
          0.375
         ]
        }
       }
      }
     },
     "metadata": {},
     "output_type": "display_data"
    },
    {
     "name": "stdout",
     "output_type": "stream",
     "text": [
      "\n",
      "🔍 KEY TEMPORAL INSIGHTS:\n",
      "==============================\n",
      "🕐 Peak Activity Hour: 1:00 (28,000 events)\n",
      "💰 Best Conversion Hour: 2:00 (2.65%)\n",
      "📊 Weekend Activity: 0.0% of all events\n",
      "📅 Most Active Day: Friday (50,000.0 events)\n"
     ]
    }
   ],
   "source": [
    "def analyze_temporal_patterns(df):\n",
    "    \"\"\"\n",
    "    Comprehensive temporal pattern analysis\n",
    "    \"\"\"\n",
    "    if df is None:\n",
    "        return\n",
    "    \n",
    "    print(\"📅 TEMPORAL PATTERN ANALYSIS\")\n",
    "    print(\"=\" * 45)\n",
    "    \n",
    "    # Create subplots for multiple visualizations\n",
    "    fig = make_subplots(\n",
    "        rows=2, cols=2,\n",
    "        subplot_titles=['Hourly Activity Pattern', 'Daily Activity Pattern', \n",
    "                       'Event Types by Hour', 'Weekend vs Weekday'],\n",
    "        specs=[[{\"secondary_y\": True}, {\"secondary_y\": True}],\n",
    "               [{\"secondary_y\": False}, {\"secondary_y\": False}]]\n",
    "    )\n",
    "    \n",
    "    # 1. Hourly patterns\n",
    "    hourly_activity = df.groupby('hour').agg({\n",
    "        'user_id': 'count',\n",
    "        'event_type': lambda x: (x == 'purchase').sum()\n",
    "    }).rename(columns={'user_id': 'total_events', 'event_type': 'purchases'})\n",
    "    \n",
    "    fig.add_trace(\n",
    "        go.Scatter(x=hourly_activity.index, y=hourly_activity['total_events'],\n",
    "                  name='Total Events', line=dict(color='blue')),\n",
    "        row=1, col=1\n",
    "    )\n",
    "    \n",
    "    fig.add_trace(\n",
    "        go.Scatter(x=hourly_activity.index, y=hourly_activity['purchases'],\n",
    "                  name='Purchases', line=dict(color='red')),\n",
    "        row=1, col=1, secondary_y=True\n",
    "    )\n",
    "    \n",
    "    # 2. Daily patterns\n",
    "    daily_activity = df.groupby('day_name').size().reindex([\n",
    "        'Monday', 'Tuesday', 'Wednesday', 'Thursday', 'Friday', 'Saturday', 'Sunday'\n",
    "    ])\n",
    "    \n",
    "    fig.add_trace(\n",
    "        go.Bar(x=daily_activity.index, y=daily_activity.values,\n",
    "               name='Events by Day', marker_color='lightblue'),\n",
    "        row=1, col=2\n",
    "    )\n",
    "    \n",
    "    # 3. Event types by hour (heatmap style)\n",
    "    event_hour_pivot = df.pivot_table(\n",
    "        values='user_id', index='hour', columns='event_type', \n",
    "        aggfunc='count', fill_value=0\n",
    "    )\n",
    "    \n",
    "    # Convert to percentage for better visualization\n",
    "    event_hour_pct = event_hour_pivot.div(event_hour_pivot.sum(axis=1), axis=0) * 100\n",
    "    \n",
    "    # Show purchase rate by hour\n",
    "    if 'purchase' in event_hour_pct.columns:\n",
    "        fig.add_trace(\n",
    "            go.Scatter(x=event_hour_pct.index, y=event_hour_pct['purchase'],\n",
    "                      name='Purchase Rate %', line=dict(color='green')),\n",
    "            row=2, col=1\n",
    "        )\n",
    "    \n",
    "    # 4. Weekend vs Weekday comparison\n",
    "    weekend_comparison = df.groupby(['is_weekend', 'event_type']).size().unstack(fill_value=0)\n",
    "    weekend_comparison_pct = weekend_comparison.div(weekend_comparison.sum(axis=1), axis=0) * 100\n",
    "    \n",
    "    for event_type in weekend_comparison_pct.columns:\n",
    "        fig.add_trace(\n",
    "            go.Bar(x=['Weekday', 'Weekend'], \n",
    "                  y=[weekend_comparison_pct.loc[False, event_type] if False in weekend_comparison_pct.index else 0,\n",
    "                     weekend_comparison_pct.loc[True, event_type] if True in weekend_comparison_pct.index else 0],\n",
    "                  name=f'{event_type.title()}'),\n",
    "            row=2, col=2\n",
    "        )\n",
    "    \n",
    "    # Update layout\n",
    "    fig.update_layout(\n",
    "        height=800,\n",
    "        title_text=\"Temporal Activity Patterns Analysis\",\n",
    "        showlegend=True\n",
    "    )\n",
    "    \n",
    "    fig.show()\n",
    "    \n",
    "    # Print insights\n",
    "    print(\"\\n🔍 KEY TEMPORAL INSIGHTS:\")\n",
    "    print(\"=\" * 30)\n",
    "    \n",
    "    # Peak hours\n",
    "    peak_hour = hourly_activity['total_events'].idxmax()\n",
    "    peak_events = hourly_activity['total_events'].max()\n",
    "    print(f\"🕐 Peak Activity Hour: {peak_hour}:00 ({peak_events:,} events)\")\n",
    "    \n",
    "    # Best conversion hours\n",
    "    if 'purchases' in hourly_activity.columns and hourly_activity['purchases'].sum() > 0:\n",
    "        conversion_rate = (hourly_activity['purchases'] / hourly_activity['total_events'] * 100)\n",
    "        best_conversion_hour = conversion_rate.idxmax()\n",
    "        best_conversion_rate = conversion_rate.max()\n",
    "        print(f\"💰 Best Conversion Hour: {best_conversion_hour}:00 ({best_conversion_rate:.2f}%)\")\n",
    "    \n",
    "    # Weekend vs Weekday insights\n",
    "    weekend_events = df[df['is_weekend']]['user_id'].count()\n",
    "    weekday_events = df[~df['is_weekend']]['user_id'].count()\n",
    "    weekend_pct = weekend_events / (weekend_events + weekday_events) * 100\n",
    "    print(f\"📊 Weekend Activity: {weekend_pct:.1f}% of all events\")\n",
    "    \n",
    "    # Most active day\n",
    "    most_active_day = daily_activity.idxmax()\n",
    "    most_active_day_events = daily_activity.max()\n",
    "    print(f\"📅 Most Active Day: {most_active_day} ({most_active_day_events:,} events)\")\n",
    "\n",
    "# Run temporal analysis\n",
    "if df_clean is not None:\n",
    "    analyze_temporal_patterns(df_clean)"
   ]
  },
  {
   "cell_type": "markdown",
   "id": "e37f99bf",
   "metadata": {},
   "source": [
    "## 4. Purchase Funnel Analysis\n",
    "\n",
    "Track the customer journey from initial view to final purchase, identifying conversion rates and drop-off points."
   ]
  },
  {
   "cell_type": "code",
   "execution_count": 43,
   "id": "980405d2",
   "metadata": {},
   "outputs": [
    {
     "name": "stdout",
     "output_type": "stream",
     "text": [
      "🛒 PURCHASE FUNNEL ANALYSIS\n",
      "========================================\n"
     ]
    },
    {
     "data": {
      "application/vnd.plotly.v1+json": {
       "config": {
        "plotlyServerURL": "https://plot.ly"
       },
       "data": [
        {
         "connector": {
          "line": {
           "color": "royalblue",
           "dash": "dot",
           "width": 3
          }
         },
         "marker": {
          "color": [
           "deepskyblue",
           "lightsalmon",
           "lightgreen"
          ],
          "line": {
           "color": [
            "wheat",
            "wheat",
            "wheat"
           ],
           "width": [
            4,
            2,
            2
           ]
          }
         },
         "opacity": 0.65,
         "textinfo": "value+percent initial",
         "textposition": "inside",
         "type": "funnel",
         "x": [
          49126,
          402,
          472
         ],
         "y": [
          "View",
          "Cart",
          "Purchase"
         ]
        }
       ],
       "layout": {
        "height": 500,
        "template": {
         "data": {
          "bar": [
           {
            "error_x": {
             "color": "#2a3f5f"
            },
            "error_y": {
             "color": "#2a3f5f"
            },
            "marker": {
             "line": {
              "color": "#E5ECF6",
              "width": 0.5
             },
             "pattern": {
              "fillmode": "overlay",
              "size": 10,
              "solidity": 0.2
             }
            },
            "type": "bar"
           }
          ],
          "barpolar": [
           {
            "marker": {
             "line": {
              "color": "#E5ECF6",
              "width": 0.5
             },
             "pattern": {
              "fillmode": "overlay",
              "size": 10,
              "solidity": 0.2
             }
            },
            "type": "barpolar"
           }
          ],
          "carpet": [
           {
            "aaxis": {
             "endlinecolor": "#2a3f5f",
             "gridcolor": "white",
             "linecolor": "white",
             "minorgridcolor": "white",
             "startlinecolor": "#2a3f5f"
            },
            "baxis": {
             "endlinecolor": "#2a3f5f",
             "gridcolor": "white",
             "linecolor": "white",
             "minorgridcolor": "white",
             "startlinecolor": "#2a3f5f"
            },
            "type": "carpet"
           }
          ],
          "choropleth": [
           {
            "colorbar": {
             "outlinewidth": 0,
             "ticks": ""
            },
            "type": "choropleth"
           }
          ],
          "contour": [
           {
            "colorbar": {
             "outlinewidth": 0,
             "ticks": ""
            },
            "colorscale": [
             [
              0,
              "#0d0887"
             ],
             [
              0.1111111111111111,
              "#46039f"
             ],
             [
              0.2222222222222222,
              "#7201a8"
             ],
             [
              0.3333333333333333,
              "#9c179e"
             ],
             [
              0.4444444444444444,
              "#bd3786"
             ],
             [
              0.5555555555555556,
              "#d8576b"
             ],
             [
              0.6666666666666666,
              "#ed7953"
             ],
             [
              0.7777777777777778,
              "#fb9f3a"
             ],
             [
              0.8888888888888888,
              "#fdca26"
             ],
             [
              1,
              "#f0f921"
             ]
            ],
            "type": "contour"
           }
          ],
          "contourcarpet": [
           {
            "colorbar": {
             "outlinewidth": 0,
             "ticks": ""
            },
            "type": "contourcarpet"
           }
          ],
          "heatmap": [
           {
            "colorbar": {
             "outlinewidth": 0,
             "ticks": ""
            },
            "colorscale": [
             [
              0,
              "#0d0887"
             ],
             [
              0.1111111111111111,
              "#46039f"
             ],
             [
              0.2222222222222222,
              "#7201a8"
             ],
             [
              0.3333333333333333,
              "#9c179e"
             ],
             [
              0.4444444444444444,
              "#bd3786"
             ],
             [
              0.5555555555555556,
              "#d8576b"
             ],
             [
              0.6666666666666666,
              "#ed7953"
             ],
             [
              0.7777777777777778,
              "#fb9f3a"
             ],
             [
              0.8888888888888888,
              "#fdca26"
             ],
             [
              1,
              "#f0f921"
             ]
            ],
            "type": "heatmap"
           }
          ],
          "heatmapgl": [
           {
            "colorbar": {
             "outlinewidth": 0,
             "ticks": ""
            },
            "colorscale": [
             [
              0,
              "#0d0887"
             ],
             [
              0.1111111111111111,
              "#46039f"
             ],
             [
              0.2222222222222222,
              "#7201a8"
             ],
             [
              0.3333333333333333,
              "#9c179e"
             ],
             [
              0.4444444444444444,
              "#bd3786"
             ],
             [
              0.5555555555555556,
              "#d8576b"
             ],
             [
              0.6666666666666666,
              "#ed7953"
             ],
             [
              0.7777777777777778,
              "#fb9f3a"
             ],
             [
              0.8888888888888888,
              "#fdca26"
             ],
             [
              1,
              "#f0f921"
             ]
            ],
            "type": "heatmapgl"
           }
          ],
          "histogram": [
           {
            "marker": {
             "pattern": {
              "fillmode": "overlay",
              "size": 10,
              "solidity": 0.2
             }
            },
            "type": "histogram"
           }
          ],
          "histogram2d": [
           {
            "colorbar": {
             "outlinewidth": 0,
             "ticks": ""
            },
            "colorscale": [
             [
              0,
              "#0d0887"
             ],
             [
              0.1111111111111111,
              "#46039f"
             ],
             [
              0.2222222222222222,
              "#7201a8"
             ],
             [
              0.3333333333333333,
              "#9c179e"
             ],
             [
              0.4444444444444444,
              "#bd3786"
             ],
             [
              0.5555555555555556,
              "#d8576b"
             ],
             [
              0.6666666666666666,
              "#ed7953"
             ],
             [
              0.7777777777777778,
              "#fb9f3a"
             ],
             [
              0.8888888888888888,
              "#fdca26"
             ],
             [
              1,
              "#f0f921"
             ]
            ],
            "type": "histogram2d"
           }
          ],
          "histogram2dcontour": [
           {
            "colorbar": {
             "outlinewidth": 0,
             "ticks": ""
            },
            "colorscale": [
             [
              0,
              "#0d0887"
             ],
             [
              0.1111111111111111,
              "#46039f"
             ],
             [
              0.2222222222222222,
              "#7201a8"
             ],
             [
              0.3333333333333333,
              "#9c179e"
             ],
             [
              0.4444444444444444,
              "#bd3786"
             ],
             [
              0.5555555555555556,
              "#d8576b"
             ],
             [
              0.6666666666666666,
              "#ed7953"
             ],
             [
              0.7777777777777778,
              "#fb9f3a"
             ],
             [
              0.8888888888888888,
              "#fdca26"
             ],
             [
              1,
              "#f0f921"
             ]
            ],
            "type": "histogram2dcontour"
           }
          ],
          "mesh3d": [
           {
            "colorbar": {
             "outlinewidth": 0,
             "ticks": ""
            },
            "type": "mesh3d"
           }
          ],
          "parcoords": [
           {
            "line": {
             "colorbar": {
              "outlinewidth": 0,
              "ticks": ""
             }
            },
            "type": "parcoords"
           }
          ],
          "pie": [
           {
            "automargin": true,
            "type": "pie"
           }
          ],
          "scatter": [
           {
            "fillpattern": {
             "fillmode": "overlay",
             "size": 10,
             "solidity": 0.2
            },
            "type": "scatter"
           }
          ],
          "scatter3d": [
           {
            "line": {
             "colorbar": {
              "outlinewidth": 0,
              "ticks": ""
             }
            },
            "marker": {
             "colorbar": {
              "outlinewidth": 0,
              "ticks": ""
             }
            },
            "type": "scatter3d"
           }
          ],
          "scattercarpet": [
           {
            "marker": {
             "colorbar": {
              "outlinewidth": 0,
              "ticks": ""
             }
            },
            "type": "scattercarpet"
           }
          ],
          "scattergeo": [
           {
            "marker": {
             "colorbar": {
              "outlinewidth": 0,
              "ticks": ""
             }
            },
            "type": "scattergeo"
           }
          ],
          "scattergl": [
           {
            "marker": {
             "colorbar": {
              "outlinewidth": 0,
              "ticks": ""
             }
            },
            "type": "scattergl"
           }
          ],
          "scattermapbox": [
           {
            "marker": {
             "colorbar": {
              "outlinewidth": 0,
              "ticks": ""
             }
            },
            "type": "scattermapbox"
           }
          ],
          "scatterpolar": [
           {
            "marker": {
             "colorbar": {
              "outlinewidth": 0,
              "ticks": ""
             }
            },
            "type": "scatterpolar"
           }
          ],
          "scatterpolargl": [
           {
            "marker": {
             "colorbar": {
              "outlinewidth": 0,
              "ticks": ""
             }
            },
            "type": "scatterpolargl"
           }
          ],
          "scatterternary": [
           {
            "marker": {
             "colorbar": {
              "outlinewidth": 0,
              "ticks": ""
             }
            },
            "type": "scatterternary"
           }
          ],
          "surface": [
           {
            "colorbar": {
             "outlinewidth": 0,
             "ticks": ""
            },
            "colorscale": [
             [
              0,
              "#0d0887"
             ],
             [
              0.1111111111111111,
              "#46039f"
             ],
             [
              0.2222222222222222,
              "#7201a8"
             ],
             [
              0.3333333333333333,
              "#9c179e"
             ],
             [
              0.4444444444444444,
              "#bd3786"
             ],
             [
              0.5555555555555556,
              "#d8576b"
             ],
             [
              0.6666666666666666,
              "#ed7953"
             ],
             [
              0.7777777777777778,
              "#fb9f3a"
             ],
             [
              0.8888888888888888,
              "#fdca26"
             ],
             [
              1,
              "#f0f921"
             ]
            ],
            "type": "surface"
           }
          ],
          "table": [
           {
            "cells": {
             "fill": {
              "color": "#EBF0F8"
             },
             "line": {
              "color": "white"
             }
            },
            "header": {
             "fill": {
              "color": "#C8D4E3"
             },
             "line": {
              "color": "white"
             }
            },
            "type": "table"
           }
          ]
         },
         "layout": {
          "annotationdefaults": {
           "arrowcolor": "#2a3f5f",
           "arrowhead": 0,
           "arrowwidth": 1
          },
          "autotypenumbers": "strict",
          "coloraxis": {
           "colorbar": {
            "outlinewidth": 0,
            "ticks": ""
           }
          },
          "colorscale": {
           "diverging": [
            [
             0,
             "#8e0152"
            ],
            [
             0.1,
             "#c51b7d"
            ],
            [
             0.2,
             "#de77ae"
            ],
            [
             0.3,
             "#f1b6da"
            ],
            [
             0.4,
             "#fde0ef"
            ],
            [
             0.5,
             "#f7f7f7"
            ],
            [
             0.6,
             "#e6f5d0"
            ],
            [
             0.7,
             "#b8e186"
            ],
            [
             0.8,
             "#7fbc41"
            ],
            [
             0.9,
             "#4d9221"
            ],
            [
             1,
             "#276419"
            ]
           ],
           "sequential": [
            [
             0,
             "#0d0887"
            ],
            [
             0.1111111111111111,
             "#46039f"
            ],
            [
             0.2222222222222222,
             "#7201a8"
            ],
            [
             0.3333333333333333,
             "#9c179e"
            ],
            [
             0.4444444444444444,
             "#bd3786"
            ],
            [
             0.5555555555555556,
             "#d8576b"
            ],
            [
             0.6666666666666666,
             "#ed7953"
            ],
            [
             0.7777777777777778,
             "#fb9f3a"
            ],
            [
             0.8888888888888888,
             "#fdca26"
            ],
            [
             1,
             "#f0f921"
            ]
           ],
           "sequentialminus": [
            [
             0,
             "#0d0887"
            ],
            [
             0.1111111111111111,
             "#46039f"
            ],
            [
             0.2222222222222222,
             "#7201a8"
            ],
            [
             0.3333333333333333,
             "#9c179e"
            ],
            [
             0.4444444444444444,
             "#bd3786"
            ],
            [
             0.5555555555555556,
             "#d8576b"
            ],
            [
             0.6666666666666666,
             "#ed7953"
            ],
            [
             0.7777777777777778,
             "#fb9f3a"
            ],
            [
             0.8888888888888888,
             "#fdca26"
            ],
            [
             1,
             "#f0f921"
            ]
           ]
          },
          "colorway": [
           "#636efa",
           "#EF553B",
           "#00cc96",
           "#ab63fa",
           "#FFA15A",
           "#19d3f3",
           "#FF6692",
           "#B6E880",
           "#FF97FF",
           "#FECB52"
          ],
          "font": {
           "color": "#2a3f5f"
          },
          "geo": {
           "bgcolor": "white",
           "lakecolor": "white",
           "landcolor": "#E5ECF6",
           "showlakes": true,
           "showland": true,
           "subunitcolor": "white"
          },
          "hoverlabel": {
           "align": "left"
          },
          "hovermode": "closest",
          "mapbox": {
           "style": "light"
          },
          "paper_bgcolor": "white",
          "plot_bgcolor": "#E5ECF6",
          "polar": {
           "angularaxis": {
            "gridcolor": "white",
            "linecolor": "white",
            "ticks": ""
           },
           "bgcolor": "#E5ECF6",
           "radialaxis": {
            "gridcolor": "white",
            "linecolor": "white",
            "ticks": ""
           }
          },
          "scene": {
           "xaxis": {
            "backgroundcolor": "#E5ECF6",
            "gridcolor": "white",
            "gridwidth": 2,
            "linecolor": "white",
            "showbackground": true,
            "ticks": "",
            "zerolinecolor": "white"
           },
           "yaxis": {
            "backgroundcolor": "#E5ECF6",
            "gridcolor": "white",
            "gridwidth": 2,
            "linecolor": "white",
            "showbackground": true,
            "ticks": "",
            "zerolinecolor": "white"
           },
           "zaxis": {
            "backgroundcolor": "#E5ECF6",
            "gridcolor": "white",
            "gridwidth": 2,
            "linecolor": "white",
            "showbackground": true,
            "ticks": "",
            "zerolinecolor": "white"
           }
          },
          "shapedefaults": {
           "line": {
            "color": "#2a3f5f"
           }
          },
          "ternary": {
           "aaxis": {
            "gridcolor": "white",
            "linecolor": "white",
            "ticks": ""
           },
           "baxis": {
            "gridcolor": "white",
            "linecolor": "white",
            "ticks": ""
           },
           "bgcolor": "#E5ECF6",
           "caxis": {
            "gridcolor": "white",
            "linecolor": "white",
            "ticks": ""
           }
          },
          "title": {
           "x": 0.05
          },
          "xaxis": {
           "automargin": true,
           "gridcolor": "white",
           "linecolor": "white",
           "ticks": "",
           "title": {
            "standoff": 15
           },
           "zerolinecolor": "white",
           "zerolinewidth": 2
          },
          "yaxis": {
           "automargin": true,
           "gridcolor": "white",
           "linecolor": "white",
           "ticks": "",
           "title": {
            "standoff": 15
           },
           "zerolinecolor": "white",
           "zerolinewidth": 2
          }
         }
        },
        "title": {
         "text": "E-commerce Purchase Funnel"
        }
       }
      }
     },
     "metadata": {},
     "output_type": "display_data"
    },
    {
     "name": "stdout",
     "output_type": "stream",
     "text": [
      "📊 FUNNEL METRICS:\n",
      "====================\n",
      "👀 Viewers: 5,491 users (100.0%)\n",
      "🛒 Added to Cart: 130 users (2.4% of viewers)\n",
      "💰 Purchased: 194 users (149.2% of cart users)\n",
      "🎯 Overall Conversion Rate: 3.53%\n",
      "\n",
      "📈 CONVERSION BY CATEGORY:\n",
      "==============================\n",
      "  accessories: 0.53% (2/374)\n",
      "  apparel: 0.32% (6/1,886)\n",
      "  appliances: 0.66% (32/4,844)\n",
      "  auto: 0.25% (2/796)\n",
      "  computers: 0.61% (16/2,643)\n",
      "  construction: 0.89% (10/1,118)\n",
      "  country_yard: 0.00% (0/8)\n",
      "  electronics: 1.60% (256/15,976)\n",
      "  furniture: 0.35% (10/2,881)\n",
      "  kids: 0.00% (0/642)\n",
      "  medicine: 0.00% (0/6)\n",
      "  sport: 0.00% (0/270)\n",
      "\n",
      "⏱️ TIME TO CONVERSION ANALYSIS:\n",
      "===================================\n",
      "🕐 Average Time to Convert: 0.2 hours\n",
      "🕐 Median Time to Convert: 0.1 hours\n",
      "⚡ Quick Converters (<1h): 188 (96.9%)\n",
      "📅 Same Day Converters: 194 (100.0%)\n"
     ]
    }
   ],
   "source": [
    "def analyze_purchase_funnel(df):\n",
    "    \"\"\"\n",
    "    Comprehensive purchase funnel analysis\n",
    "    \"\"\"\n",
    "    if df is None:\n",
    "        return\n",
    "    \n",
    "    print(\"🛒 PURCHASE FUNNEL ANALYSIS\")\n",
    "    print(\"=\" * 40)\n",
    "    \n",
    "    # Define funnel stages\n",
    "    funnel_stages = ['view', 'cart', 'purchase']\n",
    "    \n",
    "    # Calculate funnel metrics\n",
    "    funnel_data = df['event_type'].value_counts()\n",
    "    \n",
    "    # Create funnel visualization\n",
    "    fig = go.Figure()\n",
    "    \n",
    "    # Funnel chart\n",
    "    funnel_values = []\n",
    "    funnel_labels = []\n",
    "    \n",
    "    for stage in funnel_stages:\n",
    "        if stage in funnel_data.index:\n",
    "            funnel_values.append(funnel_data[stage])\n",
    "            funnel_labels.append(f\"{stage.title()}\")\n",
    "        else:\n",
    "            funnel_values.append(0)\n",
    "            funnel_labels.append(f\"{stage.title()}\")\n",
    "    \n",
    "    fig.add_trace(go.Funnel(\n",
    "        y=funnel_labels,\n",
    "        x=funnel_values,\n",
    "        textposition=\"inside\",\n",
    "        textinfo=\"value+percent initial\",\n",
    "        opacity=0.65,\n",
    "        marker={\"color\": [\"deepskyblue\", \"lightsalmon\", \"lightgreen\"],\n",
    "                \"line\": {\"width\": [4, 2, 2], \"color\": [\"wheat\", \"wheat\", \"wheat\"]}},\n",
    "        connector={\"line\": {\"color\": \"royalblue\", \"dash\": \"dot\", \"width\": 3}}\n",
    "    ))\n",
    "    \n",
    "    fig.update_layout(title=\"E-commerce Purchase Funnel\", height=500)\n",
    "    fig.show()\n",
    "    \n",
    "    # Calculate conversion rates\n",
    "    print(\"📊 FUNNEL METRICS:\")\n",
    "    print(\"=\" * 20)\n",
    "    \n",
    "    total_users = df['user_id'].nunique()\n",
    "    \n",
    "    # User-based funnel\n",
    "    user_funnel = df.groupby('user_id')['event_type'].apply(lambda x: x.unique()).reset_index()\n",
    "    \n",
    "    viewers = user_funnel[user_funnel['event_type'].apply(lambda x: 'view' in x)]['user_id'].nunique()\n",
    "    cart_users = user_funnel[user_funnel['event_type'].apply(lambda x: 'cart' in x)]['user_id'].nunique()\n",
    "    purchasers = user_funnel[user_funnel['event_type'].apply(lambda x: 'purchase' in x)]['user_id'].nunique()\n",
    "    \n",
    "    print(f\"👀 Viewers: {viewers:,} users ({viewers/total_users*100:.1f}%)\")\n",
    "    print(f\"🛒 Added to Cart: {cart_users:,} users ({cart_users/viewers*100:.1f}% of viewers)\")\n",
    "    print(f\"💰 Purchased: {purchasers:,} users ({purchasers/cart_users*100:.1f}% of cart users)\")\n",
    "    \n",
    "    # Overall conversion rate\n",
    "    if viewers > 0:\n",
    "        overall_conversion = purchasers / viewers * 100\n",
    "        print(f\"🎯 Overall Conversion Rate: {overall_conversion:.2f}%\")\n",
    "    \n",
    "    # Analyze funnel by category\n",
    "    if 'main_category' in df.columns:\n",
    "        print(f\"\\n📈 CONVERSION BY CATEGORY:\")\n",
    "        print(\"=\" * 30)\n",
    "        \n",
    "        category_funnel = df.groupby(['main_category', 'event_type']).size().unstack(fill_value=0)\n",
    "        \n",
    "        # Calculate conversion rates by category\n",
    "        for category in category_funnel.index:\n",
    "            if category != 'unknown':\n",
    "                views = category_funnel.loc[category, 'view'] if 'view' in category_funnel.columns else 0\n",
    "                purchases = category_funnel.loc[category, 'purchase'] if 'purchase' in category_funnel.columns else 0\n",
    "                \n",
    "                if views > 0:\n",
    "                    conv_rate = purchases / views * 100\n",
    "                    print(f\"  {category}: {conv_rate:.2f}% ({purchases:,}/{views:,})\")\n",
    "    \n",
    "    # Time to conversion analysis\n",
    "    print(f\"\\n⏱️ TIME TO CONVERSION ANALYSIS:\")\n",
    "    print(\"=\" * 35)\n",
    "    \n",
    "    # Find users who both viewed and purchased\n",
    "    user_events = df.groupby('user_id').agg({\n",
    "        'event_time': ['min', 'max'],\n",
    "        'event_type': lambda x: set(x)\n",
    "    }).reset_index()\n",
    "    \n",
    "    user_events.columns = ['user_id', 'first_event', 'last_event', 'event_types']\n",
    "    \n",
    "    # Users who converted (viewed and purchased)\n",
    "    converters = user_events[\n",
    "        user_events['event_types'].apply(lambda x: 'view' in x and 'purchase' in x)\n",
    "    ]\n",
    "    \n",
    "    if len(converters) > 0:\n",
    "        converters['time_to_convert'] = (converters['last_event'] - converters['first_event']).dt.total_seconds() / 3600  # hours\n",
    "        \n",
    "        avg_time_to_convert = converters['time_to_convert'].mean()\n",
    "        median_time_to_convert = converters['time_to_convert'].median()\n",
    "        \n",
    "        print(f\"🕐 Average Time to Convert: {avg_time_to_convert:.1f} hours\")\n",
    "        print(f\"🕐 Median Time to Convert: {median_time_to_convert:.1f} hours\")\n",
    "        \n",
    "        # Distribution of conversion times\n",
    "        quick_converters = (converters['time_to_convert'] < 1).sum()  # < 1 hour\n",
    "        same_day = (converters['time_to_convert'] < 24).sum()  # < 24 hours\n",
    "        \n",
    "        print(f\"⚡ Quick Converters (<1h): {quick_converters:,} ({quick_converters/len(converters)*100:.1f}%)\")\n",
    "        print(f\"📅 Same Day Converters: {same_day:,} ({same_day/len(converters)*100:.1f}%)\")\n",
    "\n",
    "# Run funnel analysis\n",
    "if df_clean is not None:\n",
    "    analyze_purchase_funnel(df_clean)"
   ]
  },
  {
   "cell_type": "markdown",
   "id": "c018b259",
   "metadata": {},
   "source": [
    "## 5. User Behavior Segmentation\n",
    "\n",
    "Identify distinct user segments based on their behavioral patterns using machine learning clustering techniques."
   ]
  },
  {
   "cell_type": "code",
   "execution_count": 44,
   "id": "c872b794",
   "metadata": {},
   "outputs": [
    {
     "name": "stdout",
     "output_type": "stream",
     "text": [
      "👥 USER BEHAVIOR SEGMENTATION\n",
      "========================================\n",
      "📊 User Features Shape: (5493, 15)\n",
      "👥 Total Users: 5,493\n"
     ]
    },
    {
     "data": {
      "application/vnd.plotly.v1+json": {
       "config": {
        "plotlyServerURL": "https://plot.ly"
       },
       "data": [
        {
         "mode": "lines+markers",
         "name": "Inertia",
         "type": "scatter",
         "x": [
          2,
          3,
          4,
          5,
          6,
          7
         ],
         "y": [
          38557.377527844306,
          30910.68058789245,
          27131.67266989099,
          24105.949772952725,
          21540.77957154134,
          19431.962313943397
         ]
        }
       ],
       "layout": {
        "template": {
         "data": {
          "bar": [
           {
            "error_x": {
             "color": "#2a3f5f"
            },
            "error_y": {
             "color": "#2a3f5f"
            },
            "marker": {
             "line": {
              "color": "#E5ECF6",
              "width": 0.5
             },
             "pattern": {
              "fillmode": "overlay",
              "size": 10,
              "solidity": 0.2
             }
            },
            "type": "bar"
           }
          ],
          "barpolar": [
           {
            "marker": {
             "line": {
              "color": "#E5ECF6",
              "width": 0.5
             },
             "pattern": {
              "fillmode": "overlay",
              "size": 10,
              "solidity": 0.2
             }
            },
            "type": "barpolar"
           }
          ],
          "carpet": [
           {
            "aaxis": {
             "endlinecolor": "#2a3f5f",
             "gridcolor": "white",
             "linecolor": "white",
             "minorgridcolor": "white",
             "startlinecolor": "#2a3f5f"
            },
            "baxis": {
             "endlinecolor": "#2a3f5f",
             "gridcolor": "white",
             "linecolor": "white",
             "minorgridcolor": "white",
             "startlinecolor": "#2a3f5f"
            },
            "type": "carpet"
           }
          ],
          "choropleth": [
           {
            "colorbar": {
             "outlinewidth": 0,
             "ticks": ""
            },
            "type": "choropleth"
           }
          ],
          "contour": [
           {
            "colorbar": {
             "outlinewidth": 0,
             "ticks": ""
            },
            "colorscale": [
             [
              0,
              "#0d0887"
             ],
             [
              0.1111111111111111,
              "#46039f"
             ],
             [
              0.2222222222222222,
              "#7201a8"
             ],
             [
              0.3333333333333333,
              "#9c179e"
             ],
             [
              0.4444444444444444,
              "#bd3786"
             ],
             [
              0.5555555555555556,
              "#d8576b"
             ],
             [
              0.6666666666666666,
              "#ed7953"
             ],
             [
              0.7777777777777778,
              "#fb9f3a"
             ],
             [
              0.8888888888888888,
              "#fdca26"
             ],
             [
              1,
              "#f0f921"
             ]
            ],
            "type": "contour"
           }
          ],
          "contourcarpet": [
           {
            "colorbar": {
             "outlinewidth": 0,
             "ticks": ""
            },
            "type": "contourcarpet"
           }
          ],
          "heatmap": [
           {
            "colorbar": {
             "outlinewidth": 0,
             "ticks": ""
            },
            "colorscale": [
             [
              0,
              "#0d0887"
             ],
             [
              0.1111111111111111,
              "#46039f"
             ],
             [
              0.2222222222222222,
              "#7201a8"
             ],
             [
              0.3333333333333333,
              "#9c179e"
             ],
             [
              0.4444444444444444,
              "#bd3786"
             ],
             [
              0.5555555555555556,
              "#d8576b"
             ],
             [
              0.6666666666666666,
              "#ed7953"
             ],
             [
              0.7777777777777778,
              "#fb9f3a"
             ],
             [
              0.8888888888888888,
              "#fdca26"
             ],
             [
              1,
              "#f0f921"
             ]
            ],
            "type": "heatmap"
           }
          ],
          "heatmapgl": [
           {
            "colorbar": {
             "outlinewidth": 0,
             "ticks": ""
            },
            "colorscale": [
             [
              0,
              "#0d0887"
             ],
             [
              0.1111111111111111,
              "#46039f"
             ],
             [
              0.2222222222222222,
              "#7201a8"
             ],
             [
              0.3333333333333333,
              "#9c179e"
             ],
             [
              0.4444444444444444,
              "#bd3786"
             ],
             [
              0.5555555555555556,
              "#d8576b"
             ],
             [
              0.6666666666666666,
              "#ed7953"
             ],
             [
              0.7777777777777778,
              "#fb9f3a"
             ],
             [
              0.8888888888888888,
              "#fdca26"
             ],
             [
              1,
              "#f0f921"
             ]
            ],
            "type": "heatmapgl"
           }
          ],
          "histogram": [
           {
            "marker": {
             "pattern": {
              "fillmode": "overlay",
              "size": 10,
              "solidity": 0.2
             }
            },
            "type": "histogram"
           }
          ],
          "histogram2d": [
           {
            "colorbar": {
             "outlinewidth": 0,
             "ticks": ""
            },
            "colorscale": [
             [
              0,
              "#0d0887"
             ],
             [
              0.1111111111111111,
              "#46039f"
             ],
             [
              0.2222222222222222,
              "#7201a8"
             ],
             [
              0.3333333333333333,
              "#9c179e"
             ],
             [
              0.4444444444444444,
              "#bd3786"
             ],
             [
              0.5555555555555556,
              "#d8576b"
             ],
             [
              0.6666666666666666,
              "#ed7953"
             ],
             [
              0.7777777777777778,
              "#fb9f3a"
             ],
             [
              0.8888888888888888,
              "#fdca26"
             ],
             [
              1,
              "#f0f921"
             ]
            ],
            "type": "histogram2d"
           }
          ],
          "histogram2dcontour": [
           {
            "colorbar": {
             "outlinewidth": 0,
             "ticks": ""
            },
            "colorscale": [
             [
              0,
              "#0d0887"
             ],
             [
              0.1111111111111111,
              "#46039f"
             ],
             [
              0.2222222222222222,
              "#7201a8"
             ],
             [
              0.3333333333333333,
              "#9c179e"
             ],
             [
              0.4444444444444444,
              "#bd3786"
             ],
             [
              0.5555555555555556,
              "#d8576b"
             ],
             [
              0.6666666666666666,
              "#ed7953"
             ],
             [
              0.7777777777777778,
              "#fb9f3a"
             ],
             [
              0.8888888888888888,
              "#fdca26"
             ],
             [
              1,
              "#f0f921"
             ]
            ],
            "type": "histogram2dcontour"
           }
          ],
          "mesh3d": [
           {
            "colorbar": {
             "outlinewidth": 0,
             "ticks": ""
            },
            "type": "mesh3d"
           }
          ],
          "parcoords": [
           {
            "line": {
             "colorbar": {
              "outlinewidth": 0,
              "ticks": ""
             }
            },
            "type": "parcoords"
           }
          ],
          "pie": [
           {
            "automargin": true,
            "type": "pie"
           }
          ],
          "scatter": [
           {
            "fillpattern": {
             "fillmode": "overlay",
             "size": 10,
             "solidity": 0.2
            },
            "type": "scatter"
           }
          ],
          "scatter3d": [
           {
            "line": {
             "colorbar": {
              "outlinewidth": 0,
              "ticks": ""
             }
            },
            "marker": {
             "colorbar": {
              "outlinewidth": 0,
              "ticks": ""
             }
            },
            "type": "scatter3d"
           }
          ],
          "scattercarpet": [
           {
            "marker": {
             "colorbar": {
              "outlinewidth": 0,
              "ticks": ""
             }
            },
            "type": "scattercarpet"
           }
          ],
          "scattergeo": [
           {
            "marker": {
             "colorbar": {
              "outlinewidth": 0,
              "ticks": ""
             }
            },
            "type": "scattergeo"
           }
          ],
          "scattergl": [
           {
            "marker": {
             "colorbar": {
              "outlinewidth": 0,
              "ticks": ""
             }
            },
            "type": "scattergl"
           }
          ],
          "scattermapbox": [
           {
            "marker": {
             "colorbar": {
              "outlinewidth": 0,
              "ticks": ""
             }
            },
            "type": "scattermapbox"
           }
          ],
          "scatterpolar": [
           {
            "marker": {
             "colorbar": {
              "outlinewidth": 0,
              "ticks": ""
             }
            },
            "type": "scatterpolar"
           }
          ],
          "scatterpolargl": [
           {
            "marker": {
             "colorbar": {
              "outlinewidth": 0,
              "ticks": ""
             }
            },
            "type": "scatterpolargl"
           }
          ],
          "scatterternary": [
           {
            "marker": {
             "colorbar": {
              "outlinewidth": 0,
              "ticks": ""
             }
            },
            "type": "scatterternary"
           }
          ],
          "surface": [
           {
            "colorbar": {
             "outlinewidth": 0,
             "ticks": ""
            },
            "colorscale": [
             [
              0,
              "#0d0887"
             ],
             [
              0.1111111111111111,
              "#46039f"
             ],
             [
              0.2222222222222222,
              "#7201a8"
             ],
             [
              0.3333333333333333,
              "#9c179e"
             ],
             [
              0.4444444444444444,
              "#bd3786"
             ],
             [
              0.5555555555555556,
              "#d8576b"
             ],
             [
              0.6666666666666666,
              "#ed7953"
             ],
             [
              0.7777777777777778,
              "#fb9f3a"
             ],
             [
              0.8888888888888888,
              "#fdca26"
             ],
             [
              1,
              "#f0f921"
             ]
            ],
            "type": "surface"
           }
          ],
          "table": [
           {
            "cells": {
             "fill": {
              "color": "#EBF0F8"
             },
             "line": {
              "color": "white"
             }
            },
            "header": {
             "fill": {
              "color": "#C8D4E3"
             },
             "line": {
              "color": "white"
             }
            },
            "type": "table"
           }
          ]
         },
         "layout": {
          "annotationdefaults": {
           "arrowcolor": "#2a3f5f",
           "arrowhead": 0,
           "arrowwidth": 1
          },
          "autotypenumbers": "strict",
          "coloraxis": {
           "colorbar": {
            "outlinewidth": 0,
            "ticks": ""
           }
          },
          "colorscale": {
           "diverging": [
            [
             0,
             "#8e0152"
            ],
            [
             0.1,
             "#c51b7d"
            ],
            [
             0.2,
             "#de77ae"
            ],
            [
             0.3,
             "#f1b6da"
            ],
            [
             0.4,
             "#fde0ef"
            ],
            [
             0.5,
             "#f7f7f7"
            ],
            [
             0.6,
             "#e6f5d0"
            ],
            [
             0.7,
             "#b8e186"
            ],
            [
             0.8,
             "#7fbc41"
            ],
            [
             0.9,
             "#4d9221"
            ],
            [
             1,
             "#276419"
            ]
           ],
           "sequential": [
            [
             0,
             "#0d0887"
            ],
            [
             0.1111111111111111,
             "#46039f"
            ],
            [
             0.2222222222222222,
             "#7201a8"
            ],
            [
             0.3333333333333333,
             "#9c179e"
            ],
            [
             0.4444444444444444,
             "#bd3786"
            ],
            [
             0.5555555555555556,
             "#d8576b"
            ],
            [
             0.6666666666666666,
             "#ed7953"
            ],
            [
             0.7777777777777778,
             "#fb9f3a"
            ],
            [
             0.8888888888888888,
             "#fdca26"
            ],
            [
             1,
             "#f0f921"
            ]
           ],
           "sequentialminus": [
            [
             0,
             "#0d0887"
            ],
            [
             0.1111111111111111,
             "#46039f"
            ],
            [
             0.2222222222222222,
             "#7201a8"
            ],
            [
             0.3333333333333333,
             "#9c179e"
            ],
            [
             0.4444444444444444,
             "#bd3786"
            ],
            [
             0.5555555555555556,
             "#d8576b"
            ],
            [
             0.6666666666666666,
             "#ed7953"
            ],
            [
             0.7777777777777778,
             "#fb9f3a"
            ],
            [
             0.8888888888888888,
             "#fdca26"
            ],
            [
             1,
             "#f0f921"
            ]
           ]
          },
          "colorway": [
           "#636efa",
           "#EF553B",
           "#00cc96",
           "#ab63fa",
           "#FFA15A",
           "#19d3f3",
           "#FF6692",
           "#B6E880",
           "#FF97FF",
           "#FECB52"
          ],
          "font": {
           "color": "#2a3f5f"
          },
          "geo": {
           "bgcolor": "white",
           "lakecolor": "white",
           "landcolor": "#E5ECF6",
           "showlakes": true,
           "showland": true,
           "subunitcolor": "white"
          },
          "hoverlabel": {
           "align": "left"
          },
          "hovermode": "closest",
          "mapbox": {
           "style": "light"
          },
          "paper_bgcolor": "white",
          "plot_bgcolor": "#E5ECF6",
          "polar": {
           "angularaxis": {
            "gridcolor": "white",
            "linecolor": "white",
            "ticks": ""
           },
           "bgcolor": "#E5ECF6",
           "radialaxis": {
            "gridcolor": "white",
            "linecolor": "white",
            "ticks": ""
           }
          },
          "scene": {
           "xaxis": {
            "backgroundcolor": "#E5ECF6",
            "gridcolor": "white",
            "gridwidth": 2,
            "linecolor": "white",
            "showbackground": true,
            "ticks": "",
            "zerolinecolor": "white"
           },
           "yaxis": {
            "backgroundcolor": "#E5ECF6",
            "gridcolor": "white",
            "gridwidth": 2,
            "linecolor": "white",
            "showbackground": true,
            "ticks": "",
            "zerolinecolor": "white"
           },
           "zaxis": {
            "backgroundcolor": "#E5ECF6",
            "gridcolor": "white",
            "gridwidth": 2,
            "linecolor": "white",
            "showbackground": true,
            "ticks": "",
            "zerolinecolor": "white"
           }
          },
          "shapedefaults": {
           "line": {
            "color": "#2a3f5f"
           }
          },
          "ternary": {
           "aaxis": {
            "gridcolor": "white",
            "linecolor": "white",
            "ticks": ""
           },
           "baxis": {
            "gridcolor": "white",
            "linecolor": "white",
            "ticks": ""
           },
           "bgcolor": "#E5ECF6",
           "caxis": {
            "gridcolor": "white",
            "linecolor": "white",
            "ticks": ""
           }
          },
          "title": {
           "x": 0.05
          },
          "xaxis": {
           "automargin": true,
           "gridcolor": "white",
           "linecolor": "white",
           "ticks": "",
           "title": {
            "standoff": 15
           },
           "zerolinecolor": "white",
           "zerolinewidth": 2
          },
          "yaxis": {
           "automargin": true,
           "gridcolor": "white",
           "linecolor": "white",
           "ticks": "",
           "title": {
            "standoff": 15
           },
           "zerolinecolor": "white",
           "zerolinewidth": 2
          }
         }
        },
        "title": {
         "text": "Elbow Method for Optimal Clusters"
        },
        "xaxis": {
         "title": {
          "text": "Number of Clusters"
         }
        },
        "yaxis": {
         "title": {
          "text": "Inertia"
         }
        }
       }
      }
     },
     "metadata": {},
     "output_type": "display_data"
    },
    {
     "name": "stdout",
     "output_type": "stream",
     "text": [
      "\n",
      "🎯 USER SEGMENTS ANALYSIS:\n",
      "==============================\n",
      "\n",
      "📊 Segment 0:\n",
      "  Size: 693 users (12.6%)\n",
      "  Avg Views: 6.4\n",
      "  Avg Purchases: 0.01\n",
      "  Total Revenue: $4,153,416.58\n",
      "  Conversion Rate: 0.04%\n",
      "  Avg Order Value: $5930.67\n",
      "  Avg Products Viewed: 2.2\n",
      "\n",
      "📊 Segment 1:\n",
      "  Size: 572 users (10.4%)\n",
      "  Avg Views: 34.0\n",
      "  Avg Purchases: 0.09\n",
      "  Total Revenue: $5,502,826.48\n",
      "  Conversion Rate: 0.25%\n",
      "  Avg Order Value: $9331.99\n",
      "  Avg Products Viewed: 11.1\n",
      "\n",
      "📊 Segment 2:\n",
      "  Size: 4,058 users (73.9%)\n",
      "  Avg Views: 5.8\n",
      "  Avg Purchases: 0.00\n",
      "  Total Revenue: $4,249,119.63\n",
      "  Conversion Rate: 0.00%\n",
      "  Avg Order Value: $1046.73\n",
      "  Avg Products Viewed: 2.1\n",
      "\n",
      "📊 Segment 3:\n",
      "  Size: 170 users (3.1%)\n",
      "  Avg Views: 9.0\n",
      "  Avg Purchases: 2.42\n",
      "  Total Revenue: $678,288.96\n",
      "  Conversion Rate: 41.03%\n",
      "  Avg Order Value: $1567.81\n",
      "  Avg Products Viewed: 2.4\n"
     ]
    },
    {
     "data": {
      "application/vnd.plotly.v1+json": {
       "config": {
        "plotlyServerURL": "https://plot.ly"
       },
       "data": [
        {
         "domain": {
          "x": [
           0,
           0.45
          ],
          "y": [
           0.625,
           1
          ]
         },
         "labels": [
          "Segment 0",
          "Segment 1",
          "Segment 2",
          "Segment 3"
         ],
         "name": "Segment Sizes",
         "type": "pie",
         "values": [
          693,
          572,
          4058,
          170
         ]
        },
        {
         "name": "Revenue",
         "type": "bar",
         "x": [
          "Segment 0",
          "Segment 1",
          "Segment 2",
          "Segment 3"
         ],
         "xaxis": "x",
         "y": [
          4153416.58,
          5502826.48,
          4249119.630000001,
          678288.9600000001
         ],
         "yaxis": "y"
        },
        {
         "name": "Conversion Rate %",
         "type": "bar",
         "x": [
          "Segment 0",
          "Segment 1",
          "Segment 2",
          "Segment 3"
         ],
         "xaxis": "x2",
         "y": [
          0.043581558733073886,
          0.2454214734020526,
          0.0022402437385187508,
          41.0295586766175
         ],
         "yaxis": "y2"
        },
        {
         "name": "AOV",
         "type": "bar",
         "x": [
          "Segment 0",
          "Segment 1",
          "Segment 2",
          "Segment 3"
         ],
         "xaxis": "x3",
         "y": [
          5930.671096681097,
          9331.989055944056,
          1046.727629374076,
          1567.809891876751
         ],
         "yaxis": "y3"
        }
       ],
       "layout": {
        "annotations": [
         {
          "font": {
           "size": 16
          },
          "showarrow": false,
          "text": "Segment Sizes",
          "x": 0.225,
          "xanchor": "center",
          "xref": "paper",
          "y": 1,
          "yanchor": "bottom",
          "yref": "paper"
         },
         {
          "font": {
           "size": 16
          },
          "showarrow": false,
          "text": "Revenue by Segment",
          "x": 0.775,
          "xanchor": "center",
          "xref": "paper",
          "y": 1,
          "yanchor": "bottom",
          "yref": "paper"
         },
         {
          "font": {
           "size": 16
          },
          "showarrow": false,
          "text": "Conversion Rates",
          "x": 0.225,
          "xanchor": "center",
          "xref": "paper",
          "y": 0.375,
          "yanchor": "bottom",
          "yref": "paper"
         },
         {
          "font": {
           "size": 16
          },
          "showarrow": false,
          "text": "Average Order Values",
          "x": 0.775,
          "xanchor": "center",
          "xref": "paper",
          "y": 0.375,
          "yanchor": "bottom",
          "yref": "paper"
         }
        ],
        "height": 700,
        "template": {
         "data": {
          "bar": [
           {
            "error_x": {
             "color": "#2a3f5f"
            },
            "error_y": {
             "color": "#2a3f5f"
            },
            "marker": {
             "line": {
              "color": "#E5ECF6",
              "width": 0.5
             },
             "pattern": {
              "fillmode": "overlay",
              "size": 10,
              "solidity": 0.2
             }
            },
            "type": "bar"
           }
          ],
          "barpolar": [
           {
            "marker": {
             "line": {
              "color": "#E5ECF6",
              "width": 0.5
             },
             "pattern": {
              "fillmode": "overlay",
              "size": 10,
              "solidity": 0.2
             }
            },
            "type": "barpolar"
           }
          ],
          "carpet": [
           {
            "aaxis": {
             "endlinecolor": "#2a3f5f",
             "gridcolor": "white",
             "linecolor": "white",
             "minorgridcolor": "white",
             "startlinecolor": "#2a3f5f"
            },
            "baxis": {
             "endlinecolor": "#2a3f5f",
             "gridcolor": "white",
             "linecolor": "white",
             "minorgridcolor": "white",
             "startlinecolor": "#2a3f5f"
            },
            "type": "carpet"
           }
          ],
          "choropleth": [
           {
            "colorbar": {
             "outlinewidth": 0,
             "ticks": ""
            },
            "type": "choropleth"
           }
          ],
          "contour": [
           {
            "colorbar": {
             "outlinewidth": 0,
             "ticks": ""
            },
            "colorscale": [
             [
              0,
              "#0d0887"
             ],
             [
              0.1111111111111111,
              "#46039f"
             ],
             [
              0.2222222222222222,
              "#7201a8"
             ],
             [
              0.3333333333333333,
              "#9c179e"
             ],
             [
              0.4444444444444444,
              "#bd3786"
             ],
             [
              0.5555555555555556,
              "#d8576b"
             ],
             [
              0.6666666666666666,
              "#ed7953"
             ],
             [
              0.7777777777777778,
              "#fb9f3a"
             ],
             [
              0.8888888888888888,
              "#fdca26"
             ],
             [
              1,
              "#f0f921"
             ]
            ],
            "type": "contour"
           }
          ],
          "contourcarpet": [
           {
            "colorbar": {
             "outlinewidth": 0,
             "ticks": ""
            },
            "type": "contourcarpet"
           }
          ],
          "heatmap": [
           {
            "colorbar": {
             "outlinewidth": 0,
             "ticks": ""
            },
            "colorscale": [
             [
              0,
              "#0d0887"
             ],
             [
              0.1111111111111111,
              "#46039f"
             ],
             [
              0.2222222222222222,
              "#7201a8"
             ],
             [
              0.3333333333333333,
              "#9c179e"
             ],
             [
              0.4444444444444444,
              "#bd3786"
             ],
             [
              0.5555555555555556,
              "#d8576b"
             ],
             [
              0.6666666666666666,
              "#ed7953"
             ],
             [
              0.7777777777777778,
              "#fb9f3a"
             ],
             [
              0.8888888888888888,
              "#fdca26"
             ],
             [
              1,
              "#f0f921"
             ]
            ],
            "type": "heatmap"
           }
          ],
          "heatmapgl": [
           {
            "colorbar": {
             "outlinewidth": 0,
             "ticks": ""
            },
            "colorscale": [
             [
              0,
              "#0d0887"
             ],
             [
              0.1111111111111111,
              "#46039f"
             ],
             [
              0.2222222222222222,
              "#7201a8"
             ],
             [
              0.3333333333333333,
              "#9c179e"
             ],
             [
              0.4444444444444444,
              "#bd3786"
             ],
             [
              0.5555555555555556,
              "#d8576b"
             ],
             [
              0.6666666666666666,
              "#ed7953"
             ],
             [
              0.7777777777777778,
              "#fb9f3a"
             ],
             [
              0.8888888888888888,
              "#fdca26"
             ],
             [
              1,
              "#f0f921"
             ]
            ],
            "type": "heatmapgl"
           }
          ],
          "histogram": [
           {
            "marker": {
             "pattern": {
              "fillmode": "overlay",
              "size": 10,
              "solidity": 0.2
             }
            },
            "type": "histogram"
           }
          ],
          "histogram2d": [
           {
            "colorbar": {
             "outlinewidth": 0,
             "ticks": ""
            },
            "colorscale": [
             [
              0,
              "#0d0887"
             ],
             [
              0.1111111111111111,
              "#46039f"
             ],
             [
              0.2222222222222222,
              "#7201a8"
             ],
             [
              0.3333333333333333,
              "#9c179e"
             ],
             [
              0.4444444444444444,
              "#bd3786"
             ],
             [
              0.5555555555555556,
              "#d8576b"
             ],
             [
              0.6666666666666666,
              "#ed7953"
             ],
             [
              0.7777777777777778,
              "#fb9f3a"
             ],
             [
              0.8888888888888888,
              "#fdca26"
             ],
             [
              1,
              "#f0f921"
             ]
            ],
            "type": "histogram2d"
           }
          ],
          "histogram2dcontour": [
           {
            "colorbar": {
             "outlinewidth": 0,
             "ticks": ""
            },
            "colorscale": [
             [
              0,
              "#0d0887"
             ],
             [
              0.1111111111111111,
              "#46039f"
             ],
             [
              0.2222222222222222,
              "#7201a8"
             ],
             [
              0.3333333333333333,
              "#9c179e"
             ],
             [
              0.4444444444444444,
              "#bd3786"
             ],
             [
              0.5555555555555556,
              "#d8576b"
             ],
             [
              0.6666666666666666,
              "#ed7953"
             ],
             [
              0.7777777777777778,
              "#fb9f3a"
             ],
             [
              0.8888888888888888,
              "#fdca26"
             ],
             [
              1,
              "#f0f921"
             ]
            ],
            "type": "histogram2dcontour"
           }
          ],
          "mesh3d": [
           {
            "colorbar": {
             "outlinewidth": 0,
             "ticks": ""
            },
            "type": "mesh3d"
           }
          ],
          "parcoords": [
           {
            "line": {
             "colorbar": {
              "outlinewidth": 0,
              "ticks": ""
             }
            },
            "type": "parcoords"
           }
          ],
          "pie": [
           {
            "automargin": true,
            "type": "pie"
           }
          ],
          "scatter": [
           {
            "fillpattern": {
             "fillmode": "overlay",
             "size": 10,
             "solidity": 0.2
            },
            "type": "scatter"
           }
          ],
          "scatter3d": [
           {
            "line": {
             "colorbar": {
              "outlinewidth": 0,
              "ticks": ""
             }
            },
            "marker": {
             "colorbar": {
              "outlinewidth": 0,
              "ticks": ""
             }
            },
            "type": "scatter3d"
           }
          ],
          "scattercarpet": [
           {
            "marker": {
             "colorbar": {
              "outlinewidth": 0,
              "ticks": ""
             }
            },
            "type": "scattercarpet"
           }
          ],
          "scattergeo": [
           {
            "marker": {
             "colorbar": {
              "outlinewidth": 0,
              "ticks": ""
             }
            },
            "type": "scattergeo"
           }
          ],
          "scattergl": [
           {
            "marker": {
             "colorbar": {
              "outlinewidth": 0,
              "ticks": ""
             }
            },
            "type": "scattergl"
           }
          ],
          "scattermapbox": [
           {
            "marker": {
             "colorbar": {
              "outlinewidth": 0,
              "ticks": ""
             }
            },
            "type": "scattermapbox"
           }
          ],
          "scatterpolar": [
           {
            "marker": {
             "colorbar": {
              "outlinewidth": 0,
              "ticks": ""
             }
            },
            "type": "scatterpolar"
           }
          ],
          "scatterpolargl": [
           {
            "marker": {
             "colorbar": {
              "outlinewidth": 0,
              "ticks": ""
             }
            },
            "type": "scatterpolargl"
           }
          ],
          "scatterternary": [
           {
            "marker": {
             "colorbar": {
              "outlinewidth": 0,
              "ticks": ""
             }
            },
            "type": "scatterternary"
           }
          ],
          "surface": [
           {
            "colorbar": {
             "outlinewidth": 0,
             "ticks": ""
            },
            "colorscale": [
             [
              0,
              "#0d0887"
             ],
             [
              0.1111111111111111,
              "#46039f"
             ],
             [
              0.2222222222222222,
              "#7201a8"
             ],
             [
              0.3333333333333333,
              "#9c179e"
             ],
             [
              0.4444444444444444,
              "#bd3786"
             ],
             [
              0.5555555555555556,
              "#d8576b"
             ],
             [
              0.6666666666666666,
              "#ed7953"
             ],
             [
              0.7777777777777778,
              "#fb9f3a"
             ],
             [
              0.8888888888888888,
              "#fdca26"
             ],
             [
              1,
              "#f0f921"
             ]
            ],
            "type": "surface"
           }
          ],
          "table": [
           {
            "cells": {
             "fill": {
              "color": "#EBF0F8"
             },
             "line": {
              "color": "white"
             }
            },
            "header": {
             "fill": {
              "color": "#C8D4E3"
             },
             "line": {
              "color": "white"
             }
            },
            "type": "table"
           }
          ]
         },
         "layout": {
          "annotationdefaults": {
           "arrowcolor": "#2a3f5f",
           "arrowhead": 0,
           "arrowwidth": 1
          },
          "autotypenumbers": "strict",
          "coloraxis": {
           "colorbar": {
            "outlinewidth": 0,
            "ticks": ""
           }
          },
          "colorscale": {
           "diverging": [
            [
             0,
             "#8e0152"
            ],
            [
             0.1,
             "#c51b7d"
            ],
            [
             0.2,
             "#de77ae"
            ],
            [
             0.3,
             "#f1b6da"
            ],
            [
             0.4,
             "#fde0ef"
            ],
            [
             0.5,
             "#f7f7f7"
            ],
            [
             0.6,
             "#e6f5d0"
            ],
            [
             0.7,
             "#b8e186"
            ],
            [
             0.8,
             "#7fbc41"
            ],
            [
             0.9,
             "#4d9221"
            ],
            [
             1,
             "#276419"
            ]
           ],
           "sequential": [
            [
             0,
             "#0d0887"
            ],
            [
             0.1111111111111111,
             "#46039f"
            ],
            [
             0.2222222222222222,
             "#7201a8"
            ],
            [
             0.3333333333333333,
             "#9c179e"
            ],
            [
             0.4444444444444444,
             "#bd3786"
            ],
            [
             0.5555555555555556,
             "#d8576b"
            ],
            [
             0.6666666666666666,
             "#ed7953"
            ],
            [
             0.7777777777777778,
             "#fb9f3a"
            ],
            [
             0.8888888888888888,
             "#fdca26"
            ],
            [
             1,
             "#f0f921"
            ]
           ],
           "sequentialminus": [
            [
             0,
             "#0d0887"
            ],
            [
             0.1111111111111111,
             "#46039f"
            ],
            [
             0.2222222222222222,
             "#7201a8"
            ],
            [
             0.3333333333333333,
             "#9c179e"
            ],
            [
             0.4444444444444444,
             "#bd3786"
            ],
            [
             0.5555555555555556,
             "#d8576b"
            ],
            [
             0.6666666666666666,
             "#ed7953"
            ],
            [
             0.7777777777777778,
             "#fb9f3a"
            ],
            [
             0.8888888888888888,
             "#fdca26"
            ],
            [
             1,
             "#f0f921"
            ]
           ]
          },
          "colorway": [
           "#636efa",
           "#EF553B",
           "#00cc96",
           "#ab63fa",
           "#FFA15A",
           "#19d3f3",
           "#FF6692",
           "#B6E880",
           "#FF97FF",
           "#FECB52"
          ],
          "font": {
           "color": "#2a3f5f"
          },
          "geo": {
           "bgcolor": "white",
           "lakecolor": "white",
           "landcolor": "#E5ECF6",
           "showlakes": true,
           "showland": true,
           "subunitcolor": "white"
          },
          "hoverlabel": {
           "align": "left"
          },
          "hovermode": "closest",
          "mapbox": {
           "style": "light"
          },
          "paper_bgcolor": "white",
          "plot_bgcolor": "#E5ECF6",
          "polar": {
           "angularaxis": {
            "gridcolor": "white",
            "linecolor": "white",
            "ticks": ""
           },
           "bgcolor": "#E5ECF6",
           "radialaxis": {
            "gridcolor": "white",
            "linecolor": "white",
            "ticks": ""
           }
          },
          "scene": {
           "xaxis": {
            "backgroundcolor": "#E5ECF6",
            "gridcolor": "white",
            "gridwidth": 2,
            "linecolor": "white",
            "showbackground": true,
            "ticks": "",
            "zerolinecolor": "white"
           },
           "yaxis": {
            "backgroundcolor": "#E5ECF6",
            "gridcolor": "white",
            "gridwidth": 2,
            "linecolor": "white",
            "showbackground": true,
            "ticks": "",
            "zerolinecolor": "white"
           },
           "zaxis": {
            "backgroundcolor": "#E5ECF6",
            "gridcolor": "white",
            "gridwidth": 2,
            "linecolor": "white",
            "showbackground": true,
            "ticks": "",
            "zerolinecolor": "white"
           }
          },
          "shapedefaults": {
           "line": {
            "color": "#2a3f5f"
           }
          },
          "ternary": {
           "aaxis": {
            "gridcolor": "white",
            "linecolor": "white",
            "ticks": ""
           },
           "baxis": {
            "gridcolor": "white",
            "linecolor": "white",
            "ticks": ""
           },
           "bgcolor": "#E5ECF6",
           "caxis": {
            "gridcolor": "white",
            "linecolor": "white",
            "ticks": ""
           }
          },
          "title": {
           "x": 0.05
          },
          "xaxis": {
           "automargin": true,
           "gridcolor": "white",
           "linecolor": "white",
           "ticks": "",
           "title": {
            "standoff": 15
           },
           "zerolinecolor": "white",
           "zerolinewidth": 2
          },
          "yaxis": {
           "automargin": true,
           "gridcolor": "white",
           "linecolor": "white",
           "ticks": "",
           "title": {
            "standoff": 15
           },
           "zerolinecolor": "white",
           "zerolinewidth": 2
          }
         }
        },
        "title": {
         "text": "User Segmentation Analysis"
        },
        "xaxis": {
         "anchor": "y",
         "domain": [
          0.55,
          1
         ]
        },
        "xaxis2": {
         "anchor": "y2",
         "domain": [
          0,
          0.45
         ]
        },
        "xaxis3": {
         "anchor": "y3",
         "domain": [
          0.55,
          1
         ]
        },
        "yaxis": {
         "anchor": "x",
         "domain": [
          0.625,
          1
         ]
        },
        "yaxis2": {
         "anchor": "x2",
         "domain": [
          0,
          0.375
         ]
        },
        "yaxis3": {
         "anchor": "x3",
         "domain": [
          0,
          0.375
         ]
        }
       }
      }
     },
     "metadata": {},
     "output_type": "display_data"
    },
    {
     "name": "stdout",
     "output_type": "stream",
     "text": [
      "\n",
      "🏷️ SEGMENT LABELS:\n",
      "====================\n",
      "Segment 0: Browser/Researcher\n",
      "Segment 1: Casual Shopper\n",
      "Segment 2: VIP Customer\n",
      "Segment 3: Bargain Hunter\n"
     ]
    }
   ],
   "source": [
    "def segment_users_by_behavior(df):\n",
    "    \"\"\"\n",
    "    Advanced user segmentation using behavioral patterns\n",
    "    \"\"\"\n",
    "    if df is None:\n",
    "        return None\n",
    "    \n",
    "    print(\"👥 USER BEHAVIOR SEGMENTATION\")\n",
    "    print(\"=\" * 40)\n",
    "    \n",
    "    # Create user-level features for segmentation\n",
    "    user_features = df.groupby('user_id').agg({\n",
    "        'event_type': [\n",
    "            lambda x: (x == 'view').sum(),\n",
    "            lambda x: (x == 'cart').sum(), \n",
    "            lambda x: (x == 'purchase').sum(),\n",
    "            lambda x: len(x.unique())  # variety of actions\n",
    "        ],\n",
    "        'price': ['mean', 'std', 'sum'],  # price behavior\n",
    "        'product_id': 'nunique',  # product diversity\n",
    "        'main_category': 'nunique' if 'main_category' in df.columns else lambda x: 0,  # category diversity\n",
    "        'event_time': lambda x: (x.max() - x.min()).total_seconds() / 3600,  # session duration in hours\n",
    "        'hour': lambda x: x.std(),  # time consistency\n",
    "        'is_weekend': lambda x: x.mean()  # weekend preference\n",
    "    }).round(2)\n",
    "    \n",
    "    # Flatten column names\n",
    "    user_features.columns = [\n",
    "        'views', 'cart_adds', 'purchases', 'action_variety',\n",
    "        'avg_price', 'price_std', 'total_spent', 'product_diversity',\n",
    "        'category_diversity', 'session_duration', 'time_consistency', 'weekend_preference'\n",
    "    ]\n",
    "    \n",
    "    # Fill NaN values\n",
    "    user_features = user_features.fillna(0)\n",
    "    \n",
    "    # Calculate derived metrics\n",
    "    user_features['conversion_rate'] = user_features['purchases'] / user_features['views'].replace(0, 1)\n",
    "    user_features['cart_conversion'] = user_features['purchases'] / user_features['cart_adds'].replace(0, 1)\n",
    "    user_features['avg_order_value'] = user_features['total_spent'] / user_features['purchases'].replace(0, 1)\n",
    "    \n",
    "    print(f\"📊 User Features Shape: {user_features.shape}\")\n",
    "    print(f\"👥 Total Users: {len(user_features):,}\")\n",
    "    \n",
    "    # Prepare data for clustering\n",
    "    feature_cols = ['views', 'cart_adds', 'purchases', 'avg_price', 'total_spent', \n",
    "                   'product_diversity', 'category_diversity', 'session_duration', \n",
    "                   'conversion_rate']\n",
    "    \n",
    "    # Handle infinite values\n",
    "    clustering_data = user_features[feature_cols].replace([np.inf, -np.inf], 0)\n",
    "    \n",
    "    # Scale the features\n",
    "    scaler = StandardScaler()\n",
    "    scaled_features = scaler.fit_transform(clustering_data)\n",
    "    \n",
    "    # Determine optimal number of clusters using elbow method\n",
    "    inertias = []\n",
    "    k_range = range(2, 8)\n",
    "    \n",
    "    for k in k_range:\n",
    "        kmeans = KMeans(n_clusters=k, random_state=42, n_init=10)\n",
    "        kmeans.fit(scaled_features)\n",
    "        inertias.append(kmeans.inertia_)\n",
    "    \n",
    "    # Plot elbow curve\n",
    "    fig = go.Figure()\n",
    "    fig.add_trace(go.Scatter(x=list(k_range), y=inertias, mode='lines+markers', name='Inertia'))\n",
    "    fig.update_layout(title='Elbow Method for Optimal Clusters', \n",
    "                     xaxis_title='Number of Clusters', \n",
    "                     yaxis_title='Inertia')\n",
    "    fig.show()\n",
    "    \n",
    "    # Use 4 clusters (good balance)\n",
    "    n_clusters = 4\n",
    "    kmeans = KMeans(n_clusters=n_clusters, random_state=42, n_init=10)\n",
    "    user_features['segment'] = kmeans.fit_predict(scaled_features)\n",
    "    \n",
    "    # Analyze segments\n",
    "    print(f\"\\n🎯 USER SEGMENTS ANALYSIS:\")\n",
    "    print(\"=\" * 30)\n",
    "    \n",
    "    segment_summary = user_features.groupby('segment').agg({\n",
    "        'views': ['count', 'mean'],\n",
    "        'purchases': ['sum', 'mean'],\n",
    "        'total_spent': ['sum', 'mean'],\n",
    "        'conversion_rate': 'mean',\n",
    "        'avg_order_value': 'mean',\n",
    "        'product_diversity': 'mean',\n",
    "        'session_duration': 'mean'\n",
    "    }).round(2)\n",
    "    \n",
    "    # Create segment profiles\n",
    "    segment_profiles = {}\n",
    "    \n",
    "    for segment in range(n_clusters):\n",
    "        segment_data = user_features[user_features['segment'] == segment]\n",
    "        profile = {\n",
    "            'size': len(segment_data),\n",
    "            'avg_views': segment_data['views'].mean(),\n",
    "            'avg_purchases': segment_data['purchases'].mean(),\n",
    "            'total_revenue': segment_data['total_spent'].sum(),\n",
    "            'conversion_rate': segment_data['conversion_rate'].mean() * 100,\n",
    "            'avg_order_value': segment_data['avg_order_value'].mean(),\n",
    "            'avg_products': segment_data['product_diversity'].mean()\n",
    "        }\n",
    "        segment_profiles[segment] = profile\n",
    "        \n",
    "        print(f\"\\n📊 Segment {segment}:\")\n",
    "        print(f\"  Size: {profile['size']:,} users ({profile['size']/len(user_features)*100:.1f}%)\")\n",
    "        print(f\"  Avg Views: {profile['avg_views']:.1f}\")\n",
    "        print(f\"  Avg Purchases: {profile['avg_purchases']:.2f}\")\n",
    "        print(f\"  Total Revenue: ${profile['total_revenue']:,.2f}\")\n",
    "        print(f\"  Conversion Rate: {profile['conversion_rate']:.2f}%\")\n",
    "        print(f\"  Avg Order Value: ${profile['avg_order_value']:.2f}\")\n",
    "        print(f\"  Avg Products Viewed: {profile['avg_products']:.1f}\")\n",
    "    \n",
    "    # Create segment visualization\n",
    "    fig = make_subplots(\n",
    "        rows=2, cols=2,\n",
    "        subplot_titles=['Segment Sizes', 'Revenue by Segment', \n",
    "                       'Conversion Rates', 'Average Order Values'],\n",
    "        specs=[[{\"type\": \"pie\"}, {\"type\": \"bar\"}],\n",
    "               [{\"type\": \"bar\"}, {\"type\": \"bar\"}]]\n",
    "    )\n",
    "    \n",
    "    # Segment sizes\n",
    "    segment_sizes = [segment_profiles[i]['size'] for i in range(n_clusters)]\n",
    "    fig.add_trace(\n",
    "        go.Pie(labels=[f'Segment {i}' for i in range(n_clusters)], \n",
    "               values=segment_sizes, name=\"Segment Sizes\"),\n",
    "        row=1, col=1\n",
    "    )\n",
    "    \n",
    "    # Revenue by segment\n",
    "    revenues = [segment_profiles[i]['total_revenue'] for i in range(n_clusters)]\n",
    "    fig.add_trace(\n",
    "        go.Bar(x=[f'Segment {i}' for i in range(n_clusters)], \n",
    "               y=revenues, name=\"Revenue\"),\n",
    "        row=1, col=2\n",
    "    )\n",
    "    \n",
    "    # Conversion rates\n",
    "    conv_rates = [segment_profiles[i]['conversion_rate'] for i in range(n_clusters)]\n",
    "    fig.add_trace(\n",
    "        go.Bar(x=[f'Segment {i}' for i in range(n_clusters)], \n",
    "               y=conv_rates, name=\"Conversion Rate %\"),\n",
    "        row=2, col=1\n",
    "    )\n",
    "    \n",
    "    # Average order values\n",
    "    aovs = [segment_profiles[i]['avg_order_value'] for i in range(n_clusters)]\n",
    "    fig.add_trace(\n",
    "        go.Bar(x=[f'Segment {i}' for i in range(n_clusters)], \n",
    "               y=aovs, name=\"AOV\"),\n",
    "        row=2, col=2\n",
    "    )\n",
    "    \n",
    "    fig.update_layout(height=700, title_text=\"User Segmentation Analysis\")\n",
    "    fig.show()\n",
    "    \n",
    "    # Assign segment names based on characteristics\n",
    "    segment_names = {\n",
    "        0: \"Browser/Researcher\",  # High views, low purchases\n",
    "        1: \"Casual Shopper\",      # Medium engagement\n",
    "        2: \"VIP Customer\",        # High purchases, high AOV\n",
    "        3: \"Bargain Hunter\"       # Price-sensitive\n",
    "    }\n",
    "    \n",
    "    # This is a simplified naming - in practice you'd analyze the actual characteristics\n",
    "    print(f\"\\n🏷️ SEGMENT LABELS:\")\n",
    "    print(\"=\" * 20)\n",
    "    for i, name in segment_names.items():\n",
    "        if i in segment_profiles:\n",
    "            print(f\"Segment {i}: {name}\")\n",
    "    \n",
    "    return user_features, segment_profiles\n",
    "\n",
    "# Run user segmentation\n",
    "if df_clean is not None:\n",
    "    user_segments, segment_info = segment_users_by_behavior(df_clean)"
   ]
  },
  {
   "cell_type": "markdown",
   "id": "61b3a607",
   "metadata": {},
   "source": [
    "## 6. Pattern-Based API Generation\n",
    "\n",
    "Generate intelligent API endpoints and insights based on discovered patterns - the core of your AI-powered Segment platform."
   ]
  },
  {
   "cell_type": "code",
   "execution_count": 45,
   "id": "792f10e3",
   "metadata": {},
   "outputs": [
    {
     "name": "stdout",
     "output_type": "stream",
     "text": [
      "🚀 INITIALIZING AI PATTERN ENGINE...\n",
      "🧠 AI PATTERN DISCOVERY ENGINE\n",
      "========================================\n",
      "✅ Pattern discovery complete!\n",
      "\n",
      "🚀 AI-POWERED API GENERATION\n",
      "========================================\n",
      "✅ Generated AI-Powered API Endpoints:\n",
      "=============================================\n",
      "\n",
      "📂 CUSTOMER INTELLIGENCE APIs:\n",
      "  🔗 GET /api/customers/high-value\n",
      "     📝 Get high-value customer insights and characteristics\n",
      "  🔗 GET /api/customers/{user_id}/segment\n",
      "     📝 Get AI-determined customer segment and personalization data\n",
      "\n",
      "📂 CONVERSION OPTIMIZATION APIs:\n",
      "  🔗 GET /api/conversion/funnel-analysis\n",
      "     📝 Get real-time conversion funnel metrics and optimization suggestions\n",
      "  🔗 POST /api/conversion/predict\n",
      "     📝 Predict conversion probability for a user session\n",
      "\n",
      "📂 PERSONALIZATION APIs:\n",
      "  🔗 POST /api/personalization/recommendations\n",
      "     📝 Get AI-powered product recommendations based on behavior patterns\n",
      "  🔗 GET /api/personalization/optimal-timing\n",
      "     📝 Get optimal engagement timing for users\n",
      "\n",
      "📂 CHURN PREVENTION APIs:\n",
      "  🔗 GET /api/churn/risk-assessment\n",
      "     📝 Identify users at risk of churning and get retention strategies\n",
      "  🔗 GET /api/churn/predict/{user_id}\n",
      "     📝 Predict churn probability for specific user\n",
      "\n",
      "📂 BUSINESS INTELLIGENCE APIs:\n",
      "  🔗 GET /api/insights/revenue-optimization\n",
      "     📝 Get AI-driven revenue optimization insights\n",
      "\n",
      "🎯 Total API Endpoints Generated: 9\n",
      "\n",
      "📚 AI-POWERED API DOCUMENTATION\n",
      "=============================================\n",
      "💾 API Documentation Generated Successfully!\n",
      "📊 Based on analysis of 50,000 events from 5,493 users\n",
      "\n",
      "🎉 AI-POWERED SEGMENT PLATFORM READY!\n",
      "==================================================\n",
      "Your AI engine has analyzed the behavioral data and generated\n",
      "intelligent APIs that can power personalization, conversion\n",
      "optimization, and customer intelligence - just like Segment\n",
      "but enhanced with AI-driven insights! 🚀\n"
     ]
    }
   ],
   "source": [
    "class PatternBasedAPIGenerator:\n",
    "    \"\"\"\n",
    "    Generate intelligent APIs based on discovered behavioral patterns\n",
    "    This is the core AI engine that transforms patterns into actionable APIs\n",
    "    \"\"\"\n",
    "    \n",
    "    def __init__(self, df, user_segments=None):\n",
    "        self.df = df\n",
    "        self.user_segments = user_segments\n",
    "        self.patterns = {}\n",
    "        self.api_endpoints = {}\n",
    "        \n",
    "    def discover_patterns(self):\n",
    "        \"\"\"Extract key behavioral patterns from the data\"\"\"\n",
    "        print(\"🧠 AI PATTERN DISCOVERY ENGINE\")\n",
    "        print(\"=\" * 40)\n",
    "        \n",
    "        patterns = {}\n",
    "        \n",
    "        # 1. High-Value Customer Patterns\n",
    "        if self.user_segments is not None:\n",
    "            high_value_users = self.user_segments.nlargest(100, 'total_spent').index.tolist()\n",
    "            high_value_behavior = self.df[self.df['user_id'].isin(high_value_users)]\n",
    "            \n",
    "            patterns['high_value_customers'] = {\n",
    "                'user_count': len(high_value_users),\n",
    "                'top_categories': high_value_behavior['main_category'].value_counts().head(5).to_dict(),\n",
    "                'avg_session_duration': high_value_behavior.groupby('user_id')['event_time'].apply(lambda x: (x.max() - x.min()).total_seconds() / 3600).mean(),\n",
    "                'preferred_hours': high_value_behavior['hour'].value_counts().head(3).to_dict(),\n",
    "                'avg_order_value': high_value_behavior[high_value_behavior['event_type'] == 'purchase']['price'].mean()\n",
    "            }\n",
    "        \n",
    "        # 2. Conversion Optimization Patterns\n",
    "        converters = self.df.groupby('user_id')['event_type'].apply(lambda x: 'purchase' in x.values)\n",
    "        converter_ids = converters[converters == True].index.tolist()\n",
    "        \n",
    "        if len(converter_ids) > 0:\n",
    "            converter_behavior = self.df[self.df['user_id'].isin(converter_ids)]\n",
    "            \n",
    "            patterns['conversion_patterns'] = {\n",
    "                'conversion_rate': len(converter_ids) / self.df['user_id'].nunique() * 100,\n",
    "                'avg_views_before_purchase': converter_behavior[converter_behavior['event_type'] == 'view'].groupby('user_id').size().mean(),\n",
    "                'top_converting_categories': converter_behavior[converter_behavior['event_type'] == 'purchase']['main_category'].value_counts().head(5).to_dict(),\n",
    "                'optimal_price_ranges': self._find_optimal_price_ranges(),\n",
    "            }\n",
    "        \n",
    "        # 3. Churn Risk Patterns\n",
    "        recent_activity = self.df['event_time'].max() - pd.Timedelta(days=7)\n",
    "        recent_users = set(self.df[self.df['event_time'] > recent_activity]['user_id'].unique())\n",
    "        all_users = set(self.df['user_id'].unique())\n",
    "        inactive_users = all_users - recent_users\n",
    "        \n",
    "        patterns['churn_risk'] = {\n",
    "            'total_inactive_users': len(inactive_users),\n",
    "            'churn_risk_percentage': len(inactive_users) / len(all_users) * 100,\n",
    "            'last_activity_patterns': self._analyze_churn_patterns(inactive_users)\n",
    "        }\n",
    "        \n",
    "        # 4. Product Affinity Patterns\n",
    "        patterns['product_affinity'] = self._discover_product_affinities()\n",
    "        \n",
    "        # 5. Temporal Engagement Patterns\n",
    "        patterns['temporal_engagement'] = {\n",
    "            'peak_hours': self.df['hour'].value_counts().head(3).to_dict(),\n",
    "            'peak_days': self.df['day_name'].value_counts().head(3).to_dict(),\n",
    "            'weekend_vs_weekday': {\n",
    "                'weekend_engagement': self.df[self.df['is_weekend']]['user_id'].count(),\n",
    "                'weekday_engagement': self.df[~self.df['is_weekend']]['user_id'].count()\n",
    "            }\n",
    "        }\n",
    "        \n",
    "        self.patterns = patterns\n",
    "        print(\"✅ Pattern discovery complete!\")\n",
    "        return patterns\n",
    "    \n",
    "    def _find_optimal_price_ranges(self):\n",
    "        \"\"\"Find price ranges with highest conversion rates\"\"\"\n",
    "        if 'price' not in self.df.columns:\n",
    "            return {}\n",
    "            \n",
    "        # Create price bins\n",
    "        price_bins = pd.qcut(self.df[self.df['price'].notna()]['price'], \n",
    "                           q=10, duplicates='drop')\n",
    "        \n",
    "        df_with_bins = self.df[self.df['price'].notna()].copy()\n",
    "        df_with_bins['price_bin'] = price_bins\n",
    "        \n",
    "        # Calculate conversion rate by price bin\n",
    "        conversion_by_price = df_with_bins.groupby('price_bin').agg({\n",
    "            'event_type': [\n",
    "                lambda x: (x == 'view').sum(),\n",
    "                lambda x: (x == 'purchase').sum()\n",
    "            ]\n",
    "        })\n",
    "        \n",
    "        conversion_by_price.columns = ['views', 'purchases']\n",
    "        conversion_by_price['conversion_rate'] = (\n",
    "            conversion_by_price['purchases'] / conversion_by_price['views'] * 100\n",
    "        )\n",
    "        \n",
    "        return conversion_by_price.nlargest(3, 'conversion_rate')['conversion_rate'].to_dict()\n",
    "    \n",
    "    def _analyze_churn_patterns(self, inactive_users):\n",
    "        \"\"\"Analyze patterns of users at risk of churning\"\"\"\n",
    "        if len(inactive_users) == 0:\n",
    "            return {}\n",
    "            \n",
    "        inactive_sample = list(inactive_users)[:1000]  # Sample for performance\n",
    "        inactive_behavior = self.df[self.df['user_id'].isin(inactive_sample)]\n",
    "        \n",
    "        return {\n",
    "            'last_categories_viewed': inactive_behavior['main_category'].value_counts().head(5).to_dict(),\n",
    "            'avg_session_length': inactive_behavior.groupby('user_id')['event_time'].apply(\n",
    "                lambda x: (x.max() - x.min()).total_seconds() / 3600\n",
    "            ).mean(),\n",
    "            'last_actions': inactive_behavior['event_type'].value_counts().to_dict()\n",
    "        }\n",
    "    \n",
    "    def _discover_product_affinities(self):\n",
    "        \"\"\"Find products frequently viewed together\"\"\"\n",
    "        # Group by user sessions to find product co-occurrences\n",
    "        user_sessions = self.df.groupby('user_session')['product_id'].apply(list).reset_index()\n",
    "        \n",
    "        # Find pairs of products viewed in same session\n",
    "        product_pairs = {}\n",
    "        for products in user_sessions['product_id']:\n",
    "            if len(products) > 1:\n",
    "                for i in range(len(products)):\n",
    "                    for j in range(i+1, len(products)):\n",
    "                        pair = tuple(sorted([products[i], products[j]]))\n",
    "                        product_pairs[pair] = product_pairs.get(pair, 0) + 1\n",
    "        \n",
    "        # Get top product affinities\n",
    "        top_affinities = dict(sorted(product_pairs.items(), \n",
    "                                   key=lambda x: x[1], reverse=True)[:10])\n",
    "        \n",
    "        return top_affinities\n",
    "    \n",
    "    def generate_api_endpoints(self):\n",
    "        \"\"\"Generate intelligent API endpoints based on discovered patterns\"\"\"\n",
    "        print(\"\\n🚀 AI-POWERED API GENERATION\")\n",
    "        print(\"=\" * 40)\n",
    "        \n",
    "        if not self.patterns:\n",
    "            self.discover_patterns()\n",
    "        \n",
    "        endpoints = {}\n",
    "        \n",
    "        # 1. Customer Intelligence APIs\n",
    "        endpoints['customer_intelligence'] = {\n",
    "            '/api/customers/high-value': {\n",
    "                'description': 'Get high-value customer insights and characteristics',\n",
    "                'method': 'GET',\n",
    "                'response_example': {\n",
    "                    'total_high_value_customers': self.patterns.get('high_value_customers', {}).get('user_count', 0),\n",
    "                    'avg_order_value': self.patterns.get('high_value_customers', {}).get('avg_order_value', 0),\n",
    "                    'top_categories': self.patterns.get('high_value_customers', {}).get('top_categories', {}),\n",
    "                    'recommended_targeting_hours': self.patterns.get('high_value_customers', {}).get('preferred_hours', {})\n",
    "                }\n",
    "            },\n",
    "            '/api/customers/{user_id}/segment': {\n",
    "                'description': 'Get AI-determined customer segment and personalization data',\n",
    "                'method': 'GET',\n",
    "                'response_example': {\n",
    "                    'segment': 'VIP Customer',\n",
    "                    'conversion_probability': 0.75,\n",
    "                    'recommended_products': ['product_123', 'product_456'],\n",
    "                    'optimal_contact_time': '14:00-16:00'\n",
    "                }\n",
    "            }\n",
    "        }\n",
    "        \n",
    "        # 2. Conversion Optimization APIs\n",
    "        endpoints['conversion_optimization'] = {\n",
    "            '/api/conversion/funnel-analysis': {\n",
    "                'description': 'Get real-time conversion funnel metrics and optimization suggestions',\n",
    "                'method': 'GET',\n",
    "                'response_example': {\n",
    "                    'conversion_rate': self.patterns.get('conversion_patterns', {}).get('conversion_rate', 0),\n",
    "                    'bottlenecks': ['cart_abandonment', 'pricing_sensitivity'],\n",
    "                    'optimization_suggestions': [\n",
    "                        'Reduce cart abandonment with exit-intent popups',\n",
    "                        'A/B test pricing in optimal ranges'\n",
    "                    ]\n",
    "                }\n",
    "            },\n",
    "            '/api/conversion/predict': {\n",
    "                'description': 'Predict conversion probability for a user session',\n",
    "                'method': 'POST',\n",
    "                'payload_example': {\n",
    "                    'user_id': 'user_123',\n",
    "                    'current_session_events': ['view', 'view', 'cart'],\n",
    "                    'products_viewed': ['product_456', 'product_789']\n",
    "                },\n",
    "                'response_example': {\n",
    "                    'conversion_probability': 0.68,\n",
    "                    'recommended_actions': ['send_discount_offer', 'show_similar_products'],\n",
    "                    'optimal_price_range': '$50-$100'\n",
    "                }\n",
    "            }\n",
    "        }\n",
    "        \n",
    "        # 3. Personalization APIs\n",
    "        endpoints['personalization'] = {\n",
    "            '/api/personalization/recommendations': {\n",
    "                'description': 'Get AI-powered product recommendations based on behavior patterns',\n",
    "                'method': 'POST',\n",
    "                'payload_example': {'user_id': 'user_123', 'context': 'homepage'},\n",
    "                'response_example': {\n",
    "                    'recommended_products': [\n",
    "                        {'product_id': 'prod_123', 'score': 0.92, 'reason': 'similar_users_purchased'},\n",
    "                        {'product_id': 'prod_456', 'score': 0.87, 'reason': 'frequently_bought_together'}\n",
    "                    ],\n",
    "                    'recommended_categories': ['electronics.smartphone', 'computers.notebook']\n",
    "                }\n",
    "            },\n",
    "            '/api/personalization/optimal-timing': {\n",
    "                'description': 'Get optimal engagement timing for users',\n",
    "                'method': 'GET',\n",
    "                'response_example': {\n",
    "                    'peak_engagement_hours': self.patterns.get('temporal_engagement', {}).get('peak_hours', {}),\n",
    "                    'user_specific_timing': '14:00-16:00 weekdays',\n",
    "                    'campaign_recommendations': ['email_at_2pm', 'push_notifications_evening']\n",
    "                }\n",
    "            }\n",
    "        }\n",
    "        \n",
    "        # 4. Churn Prevention APIs\n",
    "        endpoints['churn_prevention'] = {\n",
    "            '/api/churn/risk-assessment': {\n",
    "                'description': 'Identify users at risk of churning and get retention strategies',\n",
    "                'method': 'GET',\n",
    "                'response_example': {\n",
    "                    'high_risk_users_count': len(self.patterns.get('churn_risk', {}).get('last_activity_patterns', {})),\n",
    "                    'churn_probability_threshold': 0.7,\n",
    "                    'retention_strategies': [\n",
    "                        'personalized_discount_campaign',\n",
    "                        'win_back_email_series',\n",
    "                        'exclusive_early_access'\n",
    "                    ]\n",
    "                }\n",
    "            },\n",
    "            '/api/churn/predict/{user_id}': {\n",
    "                'description': 'Predict churn probability for specific user',\n",
    "                'method': 'GET',\n",
    "                'response_example': {\n",
    "                    'churn_probability': 0.23,\n",
    "                    'risk_level': 'low',\n",
    "                    'last_activity': '2019-11-15',\n",
    "                    'recommended_actions': ['no_action_needed']\n",
    "                }\n",
    "            }\n",
    "        }\n",
    "        \n",
    "        # 5. Business Intelligence APIs\n",
    "        endpoints['business_intelligence'] = {\n",
    "            '/api/insights/revenue-optimization': {\n",
    "                'description': 'Get AI-driven revenue optimization insights',\n",
    "                'method': 'GET',\n",
    "                'response_example': {\n",
    "                    'revenue_opportunities': [\n",
    "                        {'opportunity': 'price_optimization', 'potential_lift': '15%'},\n",
    "                        {'opportunity': 'cross_sell_campaign', 'potential_lift': '8%'}\n",
    "                    ],\n",
    "                    'optimal_price_ranges': self.patterns.get('conversion_patterns', {}).get('optimal_price_ranges', {}),\n",
    "                    'product_affinities': self.patterns.get('product_affinity', {})\n",
    "                }\n",
    "            }\n",
    "        }\n",
    "        \n",
    "        self.api_endpoints = endpoints\n",
    "        \n",
    "        # Display generated APIs\n",
    "        print(\"✅ Generated AI-Powered API Endpoints:\")\n",
    "        print(\"=\" * 45)\n",
    "        \n",
    "        for category, apis in endpoints.items():\n",
    "            print(f\"\\n📂 {category.upper().replace('_', ' ')} APIs:\")\n",
    "            for endpoint, details in apis.items():\n",
    "                print(f\"  🔗 {details['method']} {endpoint}\")\n",
    "                print(f\"     📝 {details['description']}\")\n",
    "        \n",
    "        print(f\"\\n🎯 Total API Endpoints Generated: {sum(len(apis) for apis in endpoints.values())}\")\n",
    "        \n",
    "        return endpoints\n",
    "    \n",
    "    def generate_api_documentation(self):\n",
    "        \"\"\"Generate comprehensive API documentation\"\"\"\n",
    "        if not self.api_endpoints:\n",
    "            self.generate_api_endpoints()\n",
    "        \n",
    "        print(\"\\n📚 AI-POWERED API DOCUMENTATION\")\n",
    "        print(\"=\" * 45)\n",
    "        \n",
    "        doc = {\n",
    "            'title': 'AI-Powered Customer Data Intelligence API',\n",
    "            'version': '1.0.0',\n",
    "            'description': 'Intelligent APIs generated from behavioral pattern analysis',\n",
    "            'base_url': 'https://api.yourdomain.com',\n",
    "            'authentication': 'Bearer Token',\n",
    "            'endpoints': self.api_endpoints,\n",
    "            'pattern_insights': self.patterns\n",
    "        }\n",
    "        \n",
    "        # Save documentation as JSON (in practice, you'd save to file)\n",
    "        print(\"💾 API Documentation Generated Successfully!\")\n",
    "        print(f\"📊 Based on analysis of {len(self.df):,} events from {self.df['user_id'].nunique():,} users\")\n",
    "        \n",
    "        return doc\n",
    "\n",
    "# Generate Pattern-Based APIs\n",
    "if df_clean is not None:\n",
    "    print(\"🚀 INITIALIZING AI PATTERN ENGINE...\")\n",
    "    \n",
    "    # Initialize the AI API generator\n",
    "    api_generator = PatternBasedAPIGenerator(df_clean, user_segments)\n",
    "    \n",
    "    # Discover patterns\n",
    "    discovered_patterns = api_generator.discover_patterns()\n",
    "    \n",
    "    # Generate APIs\n",
    "    generated_apis = api_generator.generate_api_endpoints()\n",
    "    \n",
    "    # Generate documentation\n",
    "    api_docs = api_generator.generate_api_documentation()\n",
    "    \n",
    "    print(\"\\n🎉 AI-POWERED SEGMENT PLATFORM READY!\")\n",
    "    print(\"=\" * 50)\n",
    "    print(\"Your AI engine has analyzed the behavioral data and generated\")\n",
    "    print(\"intelligent APIs that can power personalization, conversion\")\n",
    "    print(\"optimization, and customer intelligence - just like Segment\")\n",
    "    print(\"but enhanced with AI-driven insights! 🚀\")"
   ]
  }
 ],
 "metadata": {
  "kernelspec": {
   "display_name": "Python 3",
   "language": "python",
   "name": "python3"
  },
  "language_info": {
   "codemirror_mode": {
    "name": "ipython",
    "version": 3
   },
   "file_extension": ".py",
   "mimetype": "text/x-python",
   "name": "python",
   "nbconvert_exporter": "python",
   "pygments_lexer": "ipython3",
   "version": "3.11.9"
  }
 },
 "nbformat": 4,
 "nbformat_minor": 5
}
