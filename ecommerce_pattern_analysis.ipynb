{
 "cells": [
  {
   "cell_type": "markdown",
   "id": "9756a260",
   "metadata": {},
   "source": [
    "# E-Commerce Pattern Recognition Analysis\n",
    "## Building AI-Powered Customer Data Intelligence\n",
    "\n",
    "This notebook demonstrates advanced pattern recognition techniques for e-commerce behavioral data, similar to what Segment provides but enhanced with AI-powered insights.\n",
    "\n",
    "### Dataset Overview\n",
    "- **67M+ events** from November 2019\n",
    "- **Event types**: view (94%), cart (4%), purchase (1%), remove_from_cart\n",
    "- **Key fields**: user_id, product_id, category, brand, price, timestamp\n",
    "- **Goal**: Extract actionable patterns for customer segmentation and personalization"
   ]
  },
  {
   "cell_type": "code",
   "execution_count": 62,
   "id": "0ca579bd",
   "metadata": {},
   "outputs": [
    {
     "name": "stdout",
     "output_type": "stream",
     "text": [
      "✅ Libraries imported successfully!\n",
      "📊 Ready for pattern analysis on 2025-10-25 15:18:39\n"
     ]
    }
   ],
   "source": [
    "# Import required libraries for comprehensive analysis\n",
    "import pandas as pd\n",
    "import numpy as np\n",
    "import matplotlib.pyplot as plt\n",
    "import seaborn as sns\n",
    "import plotly.express as px\n",
    "import plotly.graph_objects as go\n",
    "from plotly.subplots import make_subplots\n",
    "from datetime import datetime, timedelta\n",
    "import warnings\n",
    "warnings.filterwarnings('ignore')\n",
    "\n",
    "# Data processing and ML libraries\n",
    "from sklearn.cluster import KMeans\n",
    "from sklearn.preprocessing import StandardScaler\n",
    "from sklearn.decomposition import PCA\n",
    "from sklearn.ensemble import RandomForestClassifier\n",
    "from sklearn.model_selection import train_test_split\n",
    "from sklearn.metrics import classification_report, confusion_matrix\n",
    "\n",
    "# Statistical libraries\n",
    "from scipy.stats import chi2_contingency\n",
    "import networkx as nx\n",
    "# Install mlxtend if not available\n",
    "try:\n",
    "    from mlxtend.frequent_patterns import association_rules, apriori\n",
    "except ImportError:\n",
    "    import subprocess\n",
    "    import sys\n",
    "    print(\"📦 Installing mlxtend...\")\n",
    "    subprocess.check_call([sys.executable, \"-m\", \"pip\", \"install\", \"mlxtend\"])\n",
    "    from mlxtend.frequent_patterns import association_rules, apriori\n",
    "    print(\"✅ mlxtend installed and imported successfully!\")\n",
    "\n",
    "# Set display options\n",
    "pd.set_option('display.max_columns', None)\n",
    "pd.set_option('display.width', None)\n",
    "plt.style.use('default')\n",
    "sns.set_palette(\"husl\")\n",
    "\n",
    "print(\"✅ Libraries imported successfully!\")\n",
    "print(f\"📊 Ready for pattern analysis on {datetime.now().strftime('%Y-%m-%d %H:%M:%S')}\")"
   ]
  },
  {
   "cell_type": "markdown",
   "id": "55c0d9a1",
   "metadata": {},
   "source": [
    "## 1. Data Loading and Initial Exploration\n",
    "\n",
    "Load the e-commerce events data from Supabase and perform initial analysis to understand the data structure and quality."
   ]
  },
  {
   "cell_type": "code",
   "execution_count": 63,
   "id": "3fdd1556",
   "metadata": {},
   "outputs": [
    {
     "name": "stdout",
     "output_type": "stream",
     "text": [
      "🔄 Loading 100,000 records from Supabase...\n",
      "✅ Successfully loaded 1,000 records\n",
      "\n",
      "📊 Dataset Shape: (1000, 11)\n",
      "📅 Date Range: 2019-11-01T00:00:00+00:00 to 2019-11-01T00:03:23+00:00\n",
      "👥 Unique Users: 199\n",
      "🛍️ Unique Products: 376\n",
      "📈 Event Types: {'view': 994, 'purchase': 4, 'cart': 2}\n",
      "✅ Successfully loaded 1,000 records\n",
      "\n",
      "📊 Dataset Shape: (1000, 11)\n",
      "📅 Date Range: 2019-11-01T00:00:00+00:00 to 2019-11-01T00:03:23+00:00\n",
      "👥 Unique Users: 199\n",
      "🛍️ Unique Products: 376\n",
      "📈 Event Types: {'view': 994, 'purchase': 4, 'cart': 2}\n"
     ]
    }
   ],
   "source": [
    "# Load environment variables and connect to Supabase\n",
    "import os\n",
    "from dotenv import load_dotenv\n",
    "import requests\n",
    "\n",
    "load_dotenv()\n",
    "\n",
    "# Supabase configuration\n",
    "SUPABASE_URL = os.getenv('SUPABASE_URL')\n",
    "SUPABASE_ANON_KEY = os.getenv('SUPABASE_ANON_KEY')\n",
    "\n",
    "def load_ecommerce_data(limit=100000):\n",
    "    \"\"\"Load e-commerce events data from Supabase\"\"\"\n",
    "    \n",
    "    headers = {\n",
    "        \"apikey\": SUPABASE_ANON_KEY,\n",
    "        \"Authorization\": f\"Bearer {SUPABASE_ANON_KEY}\",\n",
    "    }\n",
    "    \n",
    "    # Query parameters for data loading\n",
    "    params = {\n",
    "        \"select\": \"*\",\n",
    "        \"order\": \"event_time.asc\",\n",
    "        \"limit\": str(limit)\n",
    "    }\n",
    "    \n",
    "    try:\n",
    "        print(f\"🔄 Loading {limit:,} records from Supabase...\")\n",
    "        response = requests.get(\n",
    "            f\"{SUPABASE_URL}/rest/v1/ecommerce_events\",\n",
    "            headers=headers,\n",
    "            params=params\n",
    "        )\n",
    "        \n",
    "        if response.status_code == 200:\n",
    "            data = response.json()\n",
    "            df = pd.DataFrame(data)\n",
    "            print(f\"✅ Successfully loaded {len(df):,} records\")\n",
    "            return df\n",
    "        else:\n",
    "            print(f\"❌ Error: Status {response.status_code}\")\n",
    "            return None\n",
    "            \n",
    "    except Exception as e:\n",
    "        print(f\"❌ Error loading data: {e}\")\n",
    "        return None\n",
    "\n",
    "# Load the data\n",
    "df = load_ecommerce_data()\n",
    "\n",
    "if df is not None:\n",
    "    print(f\"\\n📊 Dataset Shape: {df.shape}\")\n",
    "    print(f\"📅 Date Range: {df['event_time'].min()} to {df['event_time'].max()}\")\n",
    "    print(f\"👥 Unique Users: {df['user_id'].nunique():,}\")\n",
    "    print(f\"🛍️ Unique Products: {df['product_id'].nunique():,}\")\n",
    "    print(f\"📈 Event Types: {df['event_type'].value_counts().to_dict()}\")"
   ]
  },
  {
   "cell_type": "code",
   "execution_count": 64,
   "id": "5be5a001",
   "metadata": {},
   "outputs": [
    {
     "name": "stdout",
     "output_type": "stream",
     "text": [
      "🔍 CHECKING SUPABASE LIMITS\n",
      "========================================\n",
      "\n",
      "🧪 Testing limit=1,000...\n",
      "  ✅ Requested: 1,000 | Received: 1,000\n",
      "\n",
      "🧪 Testing limit=5,000...\n",
      "\n",
      "🧪 Testing limit=1,000...\n",
      "  ✅ Requested: 1,000 | Received: 1,000\n",
      "\n",
      "🧪 Testing limit=5,000...\n",
      "  ✅ Requested: 5,000 | Received: 1,000\n",
      "  🚨 Hit limit at 1,000 records\n",
      "  ✅ Requested: 5,000 | Received: 1,000\n",
      "  🚨 Hit limit at 1,000 records\n"
     ]
    }
   ],
   "source": [
    "# Check actual table size and Supabase limits\n",
    "def check_supabase_limits():\n",
    "    \"\"\"Check total records and Supabase query limits\"\"\"\n",
    "    \n",
    "    headers = {\n",
    "        \"apikey\": SUPABASE_ANON_KEY,\n",
    "        \"Authorization\": f\"Bearer {SUPABASE_ANON_KEY}\",\n",
    "        \"Prefer\": \"count=exact\"\n",
    "    }\n",
    "    \n",
    "    print(\"🔍 CHECKING SUPABASE LIMITS\")\n",
    "    print(\"=\" * 40)\n",
    "    \n",
    "    try:\n",
    "        # Get total record count\n",
    "        response = requests.head(\n",
    "            f\"{SUPABASE_URL}/rest/v1/ecommerce_events\",\n",
    "            headers=headers\n",
    "        )\n",
    "        \n",
    "        if response.status_code == 200:\n",
    "            content_range = response.headers.get('content-range', '')\n",
    "            print(f\"📊 Content-Range Header: {content_range}\")\n",
    "            \n",
    "            if content_range:\n",
    "                total = content_range.split('/')[-1]\n",
    "                print(f\"📈 Total Records in Table: {total:,}\")\n",
    "            else:\n",
    "                print(\"⚠️ No content-range header found\")\n",
    "        \n",
    "        # Test different limit sizes\n",
    "        test_limits = [1000, 5000, 10000, 50000]\n",
    "        \n",
    "        for test_limit in test_limits:\n",
    "            print(f\"\\n🧪 Testing limit={test_limit:,}...\")\n",
    "            \n",
    "            params = {\n",
    "                \"select\": \"id\",\n",
    "                \"limit\": str(test_limit)\n",
    "            }\n",
    "            \n",
    "            test_response = requests.get(\n",
    "                f\"{SUPABASE_URL}/rest/v1/ecommerce_events\",\n",
    "                headers={\"apikey\": SUPABASE_ANON_KEY, \"Authorization\": f\"Bearer {SUPABASE_ANON_KEY}\"},\n",
    "                params=params,\n",
    "                timeout=30  # Add timeout\n",
    "            )\n",
    "            \n",
    "            if test_response.status_code == 200:\n",
    "                actual_count = len(test_response.json())\n",
    "                print(f\"  ✅ Requested: {test_limit:,} | Received: {actual_count:,}\")\n",
    "                \n",
    "                if actual_count < test_limit:\n",
    "                    print(f\"  🚨 Hit limit at {actual_count:,} records\")\n",
    "                    break\n",
    "            else:\n",
    "                print(f\"  ❌ Failed: Status {test_response.status_code}\")\n",
    "                break\n",
    "    \n",
    "    except Exception as e:\n",
    "        print(f\"❌ Error checking limits: {e}\")\n",
    "\n",
    "# Run the limit check\n",
    "check_supabase_limits()"
   ]
  },
  {
   "cell_type": "code",
   "execution_count": 65,
   "id": "94859130",
   "metadata": {},
   "outputs": [
    {
     "name": "stdout",
     "output_type": "stream",
     "text": [
      "🎯 Attempting to load larger dataset...\n",
      "🚀 LOADING LARGE DATASET\n",
      "Target: 50,000 records in batches of 1,000\n",
      "==================================================\n",
      "📥 Fetching batch 1: offset=0, limit=1,000\n",
      "  ✅ Loaded 1,000 records | Total: 1,000\n",
      "📥 Fetching batch 2: offset=1,000, limit=1,000\n",
      "  ✅ Loaded 1,000 records | Total: 1,000\n",
      "📥 Fetching batch 2: offset=1,000, limit=1,000\n",
      "  ✅ Loaded 1,000 records | Total: 2,000\n",
      "📥 Fetching batch 3: offset=2,000, limit=1,000\n",
      "  ✅ Loaded 1,000 records | Total: 2,000\n",
      "📥 Fetching batch 3: offset=2,000, limit=1,000\n",
      "  ✅ Loaded 1,000 records | Total: 3,000\n",
      "📥 Fetching batch 4: offset=3,000, limit=1,000\n",
      "  ✅ Loaded 1,000 records | Total: 3,000\n",
      "📥 Fetching batch 4: offset=3,000, limit=1,000\n",
      "  ✅ Loaded 1,000 records | Total: 4,000\n",
      "📥 Fetching batch 5: offset=4,000, limit=1,000\n",
      "  ✅ Loaded 1,000 records | Total: 4,000\n",
      "📥 Fetching batch 5: offset=4,000, limit=1,000\n",
      "  ✅ Loaded 1,000 records | Total: 5,000\n",
      "📥 Fetching batch 6: offset=5,000, limit=1,000\n",
      "  ✅ Loaded 1,000 records | Total: 5,000\n",
      "📥 Fetching batch 6: offset=5,000, limit=1,000\n",
      "  ✅ Loaded 1,000 records | Total: 6,000\n",
      "📥 Fetching batch 7: offset=6,000, limit=1,000\n",
      "  ✅ Loaded 1,000 records | Total: 6,000\n",
      "📥 Fetching batch 7: offset=6,000, limit=1,000\n",
      "  ✅ Loaded 1,000 records | Total: 7,000\n",
      "📥 Fetching batch 8: offset=7,000, limit=1,000\n",
      "  ✅ Loaded 1,000 records | Total: 7,000\n",
      "📥 Fetching batch 8: offset=7,000, limit=1,000\n",
      "  ✅ Loaded 1,000 records | Total: 8,000\n",
      "📥 Fetching batch 9: offset=8,000, limit=1,000\n",
      "  ✅ Loaded 1,000 records | Total: 8,000\n",
      "📥 Fetching batch 9: offset=8,000, limit=1,000\n",
      "  ✅ Loaded 1,000 records | Total: 9,000\n",
      "📥 Fetching batch 10: offset=9,000, limit=1,000\n",
      "  ✅ Loaded 1,000 records | Total: 9,000\n",
      "📥 Fetching batch 10: offset=9,000, limit=1,000\n",
      "  ✅ Loaded 1,000 records | Total: 10,000\n",
      "📥 Fetching batch 11: offset=10,000, limit=1,000\n",
      "  ✅ Loaded 1,000 records | Total: 10,000\n",
      "📥 Fetching batch 11: offset=10,000, limit=1,000\n",
      "  ✅ Loaded 1,000 records | Total: 11,000\n",
      "📥 Fetching batch 12: offset=11,000, limit=1,000\n",
      "  ✅ Loaded 1,000 records | Total: 11,000\n",
      "📥 Fetching batch 12: offset=11,000, limit=1,000\n",
      "  ✅ Loaded 1,000 records | Total: 12,000\n",
      "📥 Fetching batch 13: offset=12,000, limit=1,000\n",
      "  ✅ Loaded 1,000 records | Total: 12,000\n",
      "📥 Fetching batch 13: offset=12,000, limit=1,000\n",
      "  ✅ Loaded 1,000 records | Total: 13,000\n",
      "📥 Fetching batch 14: offset=13,000, limit=1,000\n",
      "  ✅ Loaded 1,000 records | Total: 13,000\n",
      "📥 Fetching batch 14: offset=13,000, limit=1,000\n",
      "  ✅ Loaded 1,000 records | Total: 14,000\n",
      "📥 Fetching batch 15: offset=14,000, limit=1,000\n",
      "  ✅ Loaded 1,000 records | Total: 14,000\n",
      "📥 Fetching batch 15: offset=14,000, limit=1,000\n",
      "  ✅ Loaded 1,000 records | Total: 15,000\n",
      "📥 Fetching batch 16: offset=15,000, limit=1,000\n",
      "  ✅ Loaded 1,000 records | Total: 15,000\n",
      "📥 Fetching batch 16: offset=15,000, limit=1,000\n",
      "  ✅ Loaded 1,000 records | Total: 16,000\n",
      "📥 Fetching batch 17: offset=16,000, limit=1,000\n",
      "  ✅ Loaded 1,000 records | Total: 16,000\n",
      "📥 Fetching batch 17: offset=16,000, limit=1,000\n",
      "  ✅ Loaded 1,000 records | Total: 17,000\n",
      "📥 Fetching batch 18: offset=17,000, limit=1,000\n",
      "  ✅ Loaded 1,000 records | Total: 17,000\n",
      "📥 Fetching batch 18: offset=17,000, limit=1,000\n",
      "  ✅ Loaded 1,000 records | Total: 18,000\n",
      "📥 Fetching batch 19: offset=18,000, limit=1,000\n",
      "  ✅ Loaded 1,000 records | Total: 18,000\n",
      "📥 Fetching batch 19: offset=18,000, limit=1,000\n",
      "  ✅ Loaded 1,000 records | Total: 19,000\n",
      "📥 Fetching batch 20: offset=19,000, limit=1,000\n",
      "  ✅ Loaded 1,000 records | Total: 19,000\n",
      "📥 Fetching batch 20: offset=19,000, limit=1,000\n",
      "  ✅ Loaded 1,000 records | Total: 20,000\n",
      "📥 Fetching batch 21: offset=20,000, limit=1,000\n",
      "  ✅ Loaded 1,000 records | Total: 20,000\n",
      "📥 Fetching batch 21: offset=20,000, limit=1,000\n",
      "  ✅ Loaded 1,000 records | Total: 21,000\n",
      "📥 Fetching batch 22: offset=21,000, limit=1,000\n",
      "  ✅ Loaded 1,000 records | Total: 21,000\n",
      "📥 Fetching batch 22: offset=21,000, limit=1,000\n",
      "  ✅ Loaded 1,000 records | Total: 22,000\n",
      "📥 Fetching batch 23: offset=22,000, limit=1,000\n",
      "  ✅ Loaded 1,000 records | Total: 23,000\n",
      "📥 Fetching batch 24: offset=23,000, limit=1,000\n",
      "  ✅ Loaded 1,000 records | Total: 22,000\n",
      "📥 Fetching batch 23: offset=22,000, limit=1,000\n",
      "  ✅ Loaded 1,000 records | Total: 23,000\n",
      "📥 Fetching batch 24: offset=23,000, limit=1,000\n",
      "  ✅ Loaded 1,000 records | Total: 24,000\n",
      "📥 Fetching batch 25: offset=24,000, limit=1,000\n",
      "  ✅ Loaded 1,000 records | Total: 24,000\n",
      "📥 Fetching batch 25: offset=24,000, limit=1,000\n",
      "  ✅ Loaded 1,000 records | Total: 25,000\n",
      "📥 Fetching batch 26: offset=25,000, limit=1,000\n",
      "  ✅ Loaded 1,000 records | Total: 25,000\n",
      "📥 Fetching batch 26: offset=25,000, limit=1,000\n",
      "  ✅ Loaded 1,000 records | Total: 26,000\n",
      "📥 Fetching batch 27: offset=26,000, limit=1,000\n",
      "  ✅ Loaded 1,000 records | Total: 26,000\n",
      "📥 Fetching batch 27: offset=26,000, limit=1,000\n",
      "  ✅ Loaded 1,000 records | Total: 27,000\n",
      "📥 Fetching batch 28: offset=27,000, limit=1,000\n",
      "  ✅ Loaded 1,000 records | Total: 28,000\n",
      "📥 Fetching batch 29: offset=28,000, limit=1,000\n",
      "  ✅ Loaded 1,000 records | Total: 27,000\n",
      "📥 Fetching batch 28: offset=27,000, limit=1,000\n",
      "  ✅ Loaded 1,000 records | Total: 28,000\n",
      "📥 Fetching batch 29: offset=28,000, limit=1,000\n",
      "  ✅ Loaded 1,000 records | Total: 29,000\n",
      "📥 Fetching batch 30: offset=29,000, limit=1,000\n",
      "  ✅ Loaded 1,000 records | Total: 29,000\n",
      "📥 Fetching batch 30: offset=29,000, limit=1,000\n",
      "  ✅ Loaded 1,000 records | Total: 30,000\n",
      "📥 Fetching batch 31: offset=30,000, limit=1,000\n",
      "  ✅ Loaded 1,000 records | Total: 30,000\n",
      "📥 Fetching batch 31: offset=30,000, limit=1,000\n",
      "  ✅ Loaded 1,000 records | Total: 31,000\n",
      "📥 Fetching batch 32: offset=31,000, limit=1,000\n",
      "  ✅ Loaded 1,000 records | Total: 31,000\n",
      "📥 Fetching batch 32: offset=31,000, limit=1,000\n",
      "  ✅ Loaded 1,000 records | Total: 32,000\n",
      "📥 Fetching batch 33: offset=32,000, limit=1,000\n",
      "  ✅ Loaded 1,000 records | Total: 32,000\n",
      "📥 Fetching batch 33: offset=32,000, limit=1,000\n",
      "  ✅ Loaded 1,000 records | Total: 33,000\n",
      "📥 Fetching batch 34: offset=33,000, limit=1,000\n",
      "  ✅ Loaded 1,000 records | Total: 34,000\n",
      "📥 Fetching batch 35: offset=34,000, limit=1,000\n",
      "  ✅ Loaded 1,000 records | Total: 33,000\n",
      "📥 Fetching batch 34: offset=33,000, limit=1,000\n",
      "  ✅ Loaded 1,000 records | Total: 34,000\n",
      "📥 Fetching batch 35: offset=34,000, limit=1,000\n",
      "  ✅ Loaded 1,000 records | Total: 35,000\n",
      "📥 Fetching batch 36: offset=35,000, limit=1,000\n",
      "  ✅ Loaded 1,000 records | Total: 35,000\n",
      "📥 Fetching batch 36: offset=35,000, limit=1,000\n",
      "  ✅ Loaded 1,000 records | Total: 36,000\n",
      "📥 Fetching batch 37: offset=36,000, limit=1,000\n",
      "  ✅ Loaded 1,000 records | Total: 36,000\n",
      "📥 Fetching batch 37: offset=36,000, limit=1,000\n",
      "  ✅ Loaded 1,000 records | Total: 37,000\n",
      "📥 Fetching batch 38: offset=37,000, limit=1,000\n",
      "  ✅ Loaded 1,000 records | Total: 37,000\n",
      "📥 Fetching batch 38: offset=37,000, limit=1,000\n",
      "  ✅ Loaded 1,000 records | Total: 38,000\n",
      "📥 Fetching batch 39: offset=38,000, limit=1,000\n",
      "  ✅ Loaded 1,000 records | Total: 38,000\n",
      "📥 Fetching batch 39: offset=38,000, limit=1,000\n",
      "  ✅ Loaded 1,000 records | Total: 39,000\n",
      "📥 Fetching batch 40: offset=39,000, limit=1,000\n",
      "  ✅ Loaded 1,000 records | Total: 39,000\n",
      "📥 Fetching batch 40: offset=39,000, limit=1,000\n",
      "  ✅ Loaded 1,000 records | Total: 40,000\n",
      "📥 Fetching batch 41: offset=40,000, limit=1,000\n",
      "  ✅ Loaded 1,000 records | Total: 40,000\n",
      "📥 Fetching batch 41: offset=40,000, limit=1,000\n",
      "  ✅ Loaded 1,000 records | Total: 41,000\n",
      "📥 Fetching batch 42: offset=41,000, limit=1,000\n",
      "  ✅ Loaded 1,000 records | Total: 41,000\n",
      "📥 Fetching batch 42: offset=41,000, limit=1,000\n",
      "  ✅ Loaded 1,000 records | Total: 42,000\n",
      "📥 Fetching batch 43: offset=42,000, limit=1,000\n",
      "  ✅ Loaded 1,000 records | Total: 42,000\n",
      "📥 Fetching batch 43: offset=42,000, limit=1,000\n",
      "  ✅ Loaded 1,000 records | Total: 43,000\n",
      "📥 Fetching batch 44: offset=43,000, limit=1,000\n",
      "  ✅ Loaded 1,000 records | Total: 43,000\n",
      "📥 Fetching batch 44: offset=43,000, limit=1,000\n",
      "  ✅ Loaded 1,000 records | Total: 44,000\n",
      "📥 Fetching batch 45: offset=44,000, limit=1,000\n",
      "  ✅ Loaded 1,000 records | Total: 44,000\n",
      "📥 Fetching batch 45: offset=44,000, limit=1,000\n",
      "  ✅ Loaded 1,000 records | Total: 45,000\n",
      "📥 Fetching batch 46: offset=45,000, limit=1,000\n",
      "  ✅ Loaded 1,000 records | Total: 45,000\n",
      "📥 Fetching batch 46: offset=45,000, limit=1,000\n",
      "  ✅ Loaded 1,000 records | Total: 46,000\n",
      "📥 Fetching batch 47: offset=46,000, limit=1,000\n",
      "  ✅ Loaded 1,000 records | Total: 46,000\n",
      "📥 Fetching batch 47: offset=46,000, limit=1,000\n",
      "  ✅ Loaded 1,000 records | Total: 47,000\n",
      "📥 Fetching batch 48: offset=47,000, limit=1,000\n",
      "  ✅ Loaded 1,000 records | Total: 47,000\n",
      "📥 Fetching batch 48: offset=47,000, limit=1,000\n",
      "  ✅ Loaded 1,000 records | Total: 48,000\n",
      "📥 Fetching batch 49: offset=48,000, limit=1,000\n",
      "  ✅ Loaded 1,000 records | Total: 48,000\n",
      "📥 Fetching batch 49: offset=48,000, limit=1,000\n",
      "  ✅ Loaded 1,000 records | Total: 49,000\n",
      "📥 Fetching batch 50: offset=49,000, limit=1,000\n",
      "  ✅ Loaded 1,000 records | Total: 49,000\n",
      "📥 Fetching batch 50: offset=49,000, limit=1,000\n",
      "  ✅ Loaded 1,000 records | Total: 50,000\n",
      "\n",
      "✅ Successfully loaded 50,000 records\n",
      "📊 Shape: (50000, 11)\n",
      "  ✅ Loaded 1,000 records | Total: 50,000\n",
      "\n",
      "✅ Successfully loaded 50,000 records\n",
      "📊 Shape: (50000, 11)\n"
     ]
    }
   ],
   "source": [
    "# Enhanced data loading with pagination support\n",
    "def load_large_dataset(total_limit=100000, batch_size=1000):\n",
    "    \"\"\"\n",
    "    Load large datasets using pagination to bypass Supabase limits\n",
    "    \"\"\"\n",
    "    \n",
    "    headers = {\n",
    "        \"apikey\": SUPABASE_ANON_KEY,\n",
    "        \"Authorization\": f\"Bearer {SUPABASE_ANON_KEY}\",\n",
    "    }\n",
    "    \n",
    "    all_data = []\n",
    "    offset = 0\n",
    "    \n",
    "    print(f\"🚀 LOADING LARGE DATASET\")\n",
    "    print(f\"Target: {total_limit:,} records in batches of {batch_size:,}\")\n",
    "    print(\"=\" * 50)\n",
    "    \n",
    "    while len(all_data) < total_limit:\n",
    "        current_batch_size = min(batch_size, total_limit - len(all_data))\n",
    "        \n",
    "        params = {\n",
    "            \"select\": \"*\",\n",
    "            \"order\": \"event_time.asc\",\n",
    "            \"limit\": str(current_batch_size),\n",
    "            \"offset\": str(offset)\n",
    "        }\n",
    "        \n",
    "        try:\n",
    "            print(f\"📥 Fetching batch {offset//batch_size + 1}: offset={offset:,}, limit={current_batch_size:,}\")\n",
    "            \n",
    "            response = requests.get(\n",
    "                f\"{SUPABASE_URL}/rest/v1/ecommerce_events\",\n",
    "                headers=headers,\n",
    "                params=params,\n",
    "                timeout=60\n",
    "            )\n",
    "            \n",
    "            if response.status_code == 200:\n",
    "                batch_data = response.json()\n",
    "                \n",
    "                if not batch_data:  # No more data\n",
    "                    print(f\"📊 No more data available. Total loaded: {len(all_data):,}\")\n",
    "                    break\n",
    "                \n",
    "                all_data.extend(batch_data)\n",
    "                offset += len(batch_data)\n",
    "                \n",
    "                print(f\"  ✅ Loaded {len(batch_data):,} records | Total: {len(all_data):,}\")\n",
    "                \n",
    "                # If we got fewer records than requested, we've hit the end\n",
    "                if len(batch_data) < current_batch_size:\n",
    "                    print(f\"📊 Reached end of data. Final count: {len(all_data):,}\")\n",
    "                    break\n",
    "                    \n",
    "            else:\n",
    "                print(f\"❌ Error: Status {response.status_code}\")\n",
    "                print(f\"Response: {response.text}\")\n",
    "                break\n",
    "                \n",
    "        except Exception as e:\n",
    "            print(f\"❌ Error in batch {offset//batch_size + 1}: {e}\")\n",
    "            break\n",
    "    \n",
    "    if all_data:\n",
    "        df = pd.DataFrame(all_data)\n",
    "        print(f\"\\n✅ Successfully loaded {len(df):,} records\")\n",
    "        print(f\"📊 Shape: {df.shape}\")\n",
    "        return df\n",
    "    else:\n",
    "        print(\"❌ No data loaded\")\n",
    "        return None\n",
    "\n",
    "# Try the enhanced loader\n",
    "print(\"🎯 Attempting to load larger dataset...\")\n",
    "df_large = load_large_dataset(total_limit=50000, batch_size=1000)"
   ]
  },
  {
   "cell_type": "code",
   "execution_count": 66,
   "id": "73816a1b",
   "metadata": {},
   "outputs": [],
   "source": [
    "df = df_large # <-- use the large dset?"
   ]
  },
  {
   "cell_type": "code",
   "execution_count": 67,
   "id": "298c352b",
   "metadata": {},
   "outputs": [
    {
     "name": "stdout",
     "output_type": "stream",
     "text": [
      "🔍 DATA QUALITY ASSESSMENT\n",
      "==================================================\n",
      "\n",
      "📋 Column Information:\n",
      "<class 'pandas.core.frame.DataFrame'>\n",
      "RangeIndex: 50000 entries, 0 to 49999\n",
      "Data columns (total 11 columns):\n",
      " #   Column         Non-Null Count  Dtype  \n",
      "---  ------         --------------  -----  \n",
      " 0   id             50000 non-null  int64  \n",
      " 1   event_time     50000 non-null  object \n",
      " 2   event_type     50000 non-null  object \n",
      " 3   product_id     50000 non-null  int64  \n",
      " 4   category_id    50000 non-null  int64  \n",
      " 5   category_code  32122 non-null  object \n",
      " 6   brand          41644 non-null  object \n",
      " 7   price          49976 non-null  float64\n",
      " 8   user_id        50000 non-null  int64  \n",
      " 9   user_session   50000 non-null  object \n",
      " 10  created_at     50000 non-null  object \n",
      "dtypes: float64(1), int64(4), object(6)\n",
      "memory usage: 4.2+ MB\n",
      "None\n",
      "\n",
      "❓ Missing Values:\n",
      "               Missing Count  Missing %\n",
      "category_code          17878     35.756\n",
      "brand                   8356     16.712\n",
      "price                     24      0.048\n",
      "\n",
      "📊 Sample Data (First 5 rows):\n"
     ]
    },
    {
     "data": {
      "text/html": [
       "<div>\n",
       "<style scoped>\n",
       "    .dataframe tbody tr th:only-of-type {\n",
       "        vertical-align: middle;\n",
       "    }\n",
       "\n",
       "    .dataframe tbody tr th {\n",
       "        vertical-align: top;\n",
       "    }\n",
       "\n",
       "    .dataframe thead th {\n",
       "        text-align: right;\n",
       "    }\n",
       "</style>\n",
       "<table border=\"1\" class=\"dataframe\">\n",
       "  <thead>\n",
       "    <tr style=\"text-align: right;\">\n",
       "      <th></th>\n",
       "      <th>id</th>\n",
       "      <th>event_time</th>\n",
       "      <th>event_type</th>\n",
       "      <th>product_id</th>\n",
       "      <th>category_id</th>\n",
       "      <th>category_code</th>\n",
       "      <th>brand</th>\n",
       "      <th>price</th>\n",
       "      <th>user_id</th>\n",
       "      <th>user_session</th>\n",
       "      <th>created_at</th>\n",
       "    </tr>\n",
       "  </thead>\n",
       "  <tbody>\n",
       "    <tr>\n",
       "      <th>0</th>\n",
       "      <td>1</td>\n",
       "      <td>2019-11-01T00:00:00+00:00</td>\n",
       "      <td>view</td>\n",
       "      <td>1003461</td>\n",
       "      <td>2053013555631882655</td>\n",
       "      <td>electronics.smartphone</td>\n",
       "      <td>xiaomi</td>\n",
       "      <td>489.07</td>\n",
       "      <td>520088904</td>\n",
       "      <td>4d3b30da-a5e4-49df-b1a8-ba5943f1dd33</td>\n",
       "      <td>2025-10-25T05:51:55.280937+00:00</td>\n",
       "    </tr>\n",
       "    <tr>\n",
       "      <th>1</th>\n",
       "      <td>2</td>\n",
       "      <td>2019-11-01T00:00:00+00:00</td>\n",
       "      <td>view</td>\n",
       "      <td>5000088</td>\n",
       "      <td>2053013566100866035</td>\n",
       "      <td>appliances.sewing_machine</td>\n",
       "      <td>janome</td>\n",
       "      <td>293.65</td>\n",
       "      <td>530496790</td>\n",
       "      <td>8e5f4f83-366c-4f70-860e-ca7417414283</td>\n",
       "      <td>2025-10-25T05:51:55.280937+00:00</td>\n",
       "    </tr>\n",
       "    <tr>\n",
       "      <th>2</th>\n",
       "      <td>50001</td>\n",
       "      <td>2019-11-01T00:00:00+00:00</td>\n",
       "      <td>view</td>\n",
       "      <td>1003461</td>\n",
       "      <td>2053013555631882655</td>\n",
       "      <td>electronics.smartphone</td>\n",
       "      <td>xiaomi</td>\n",
       "      <td>489.07</td>\n",
       "      <td>520088904</td>\n",
       "      <td>4d3b30da-a5e4-49df-b1a8-ba5943f1dd33</td>\n",
       "      <td>2025-10-25T06:00:37.683386+00:00</td>\n",
       "    </tr>\n",
       "    <tr>\n",
       "      <th>3</th>\n",
       "      <td>50002</td>\n",
       "      <td>2019-11-01T00:00:00+00:00</td>\n",
       "      <td>view</td>\n",
       "      <td>5000088</td>\n",
       "      <td>2053013566100866035</td>\n",
       "      <td>appliances.sewing_machine</td>\n",
       "      <td>janome</td>\n",
       "      <td>293.65</td>\n",
       "      <td>530496790</td>\n",
       "      <td>8e5f4f83-366c-4f70-860e-ca7417414283</td>\n",
       "      <td>2025-10-25T06:00:37.683386+00:00</td>\n",
       "    </tr>\n",
       "    <tr>\n",
       "      <th>4</th>\n",
       "      <td>3</td>\n",
       "      <td>2019-11-01T00:00:01+00:00</td>\n",
       "      <td>view</td>\n",
       "      <td>17302664</td>\n",
       "      <td>2053013553853497655</td>\n",
       "      <td>None</td>\n",
       "      <td>creed</td>\n",
       "      <td>28.31</td>\n",
       "      <td>561587266</td>\n",
       "      <td>755422e7-9040-477b-9bd2-6a6e8fd97387</td>\n",
       "      <td>2025-10-25T05:51:55.280937+00:00</td>\n",
       "    </tr>\n",
       "  </tbody>\n",
       "</table>\n",
       "</div>"
      ],
      "text/plain": [
       "      id                 event_time event_type  product_id  \\\n",
       "0      1  2019-11-01T00:00:00+00:00       view     1003461   \n",
       "1      2  2019-11-01T00:00:00+00:00       view     5000088   \n",
       "2  50001  2019-11-01T00:00:00+00:00       view     1003461   \n",
       "3  50002  2019-11-01T00:00:00+00:00       view     5000088   \n",
       "4      3  2019-11-01T00:00:01+00:00       view    17302664   \n",
       "\n",
       "           category_id              category_code   brand   price    user_id  \\\n",
       "0  2053013555631882655     electronics.smartphone  xiaomi  489.07  520088904   \n",
       "1  2053013566100866035  appliances.sewing_machine  janome  293.65  530496790   \n",
       "2  2053013555631882655     electronics.smartphone  xiaomi  489.07  520088904   \n",
       "3  2053013566100866035  appliances.sewing_machine  janome  293.65  530496790   \n",
       "4  2053013553853497655                       None   creed   28.31  561587266   \n",
       "\n",
       "                           user_session                        created_at  \n",
       "0  4d3b30da-a5e4-49df-b1a8-ba5943f1dd33  2025-10-25T05:51:55.280937+00:00  \n",
       "1  8e5f4f83-366c-4f70-860e-ca7417414283  2025-10-25T05:51:55.280937+00:00  \n",
       "2  4d3b30da-a5e4-49df-b1a8-ba5943f1dd33  2025-10-25T06:00:37.683386+00:00  \n",
       "3  8e5f4f83-366c-4f70-860e-ca7417414283  2025-10-25T06:00:37.683386+00:00  \n",
       "4  755422e7-9040-477b-9bd2-6a6e8fd97387  2025-10-25T05:51:55.280937+00:00  "
      ]
     },
     "metadata": {},
     "output_type": "display_data"
    },
    {
     "name": "stdout",
     "output_type": "stream",
     "text": [
      "\n",
      "📈 Statistical Summary:\n"
     ]
    },
    {
     "data": {
      "text/html": [
       "<div>\n",
       "<style scoped>\n",
       "    .dataframe tbody tr th:only-of-type {\n",
       "        vertical-align: middle;\n",
       "    }\n",
       "\n",
       "    .dataframe tbody tr th {\n",
       "        vertical-align: top;\n",
       "    }\n",
       "\n",
       "    .dataframe thead th {\n",
       "        text-align: right;\n",
       "    }\n",
       "</style>\n",
       "<table border=\"1\" class=\"dataframe\">\n",
       "  <thead>\n",
       "    <tr style=\"text-align: right;\">\n",
       "      <th></th>\n",
       "      <th>id</th>\n",
       "      <th>event_time</th>\n",
       "      <th>event_type</th>\n",
       "      <th>product_id</th>\n",
       "      <th>category_id</th>\n",
       "      <th>category_code</th>\n",
       "      <th>brand</th>\n",
       "      <th>price</th>\n",
       "      <th>user_id</th>\n",
       "      <th>user_session</th>\n",
       "      <th>created_at</th>\n",
       "    </tr>\n",
       "  </thead>\n",
       "  <tbody>\n",
       "    <tr>\n",
       "      <th>count</th>\n",
       "      <td>50000.000000</td>\n",
       "      <td>50000</td>\n",
       "      <td>50000</td>\n",
       "      <td>5.000000e+04</td>\n",
       "      <td>5.000000e+04</td>\n",
       "      <td>32122</td>\n",
       "      <td>41644</td>\n",
       "      <td>49976.000000</td>\n",
       "      <td>5.000000e+04</td>\n",
       "      <td>50000</td>\n",
       "      <td>50000</td>\n",
       "    </tr>\n",
       "    <tr>\n",
       "      <th>unique</th>\n",
       "      <td>NaN</td>\n",
       "      <td>6178</td>\n",
       "      <td>3</td>\n",
       "      <td>NaN</td>\n",
       "      <td>NaN</td>\n",
       "      <td>108</td>\n",
       "      <td>996</td>\n",
       "      <td>NaN</td>\n",
       "      <td>NaN</td>\n",
       "      <td>6417</td>\n",
       "      <td>51</td>\n",
       "    </tr>\n",
       "    <tr>\n",
       "      <th>top</th>\n",
       "      <td>NaN</td>\n",
       "      <td>2019-11-01T01:49:06+00:00</td>\n",
       "      <td>view</td>\n",
       "      <td>NaN</td>\n",
       "      <td>NaN</td>\n",
       "      <td>electronics.smartphone</td>\n",
       "      <td>samsung</td>\n",
       "      <td>NaN</td>\n",
       "      <td>NaN</td>\n",
       "      <td>59f9573a-87ea-47c3-af23-a9778e545443</td>\n",
       "      <td>2025-10-25T05:51:55.280937+00:00</td>\n",
       "    </tr>\n",
       "    <tr>\n",
       "      <th>freq</th>\n",
       "      <td>NaN</td>\n",
       "      <td>34</td>\n",
       "      <td>49126</td>\n",
       "      <td>NaN</td>\n",
       "      <td>NaN</td>\n",
       "      <td>11360</td>\n",
       "      <td>5444</td>\n",
       "      <td>NaN</td>\n",
       "      <td>NaN</td>\n",
       "      <td>180</td>\n",
       "      <td>1000</td>\n",
       "    </tr>\n",
       "    <tr>\n",
       "      <th>mean</th>\n",
       "      <td>37496.500320</td>\n",
       "      <td>NaN</td>\n",
       "      <td>NaN</td>\n",
       "      <td>1.190485e+07</td>\n",
       "      <td>2.057861e+18</td>\n",
       "      <td>NaN</td>\n",
       "      <td>NaN</td>\n",
       "      <td>291.813103</td>\n",
       "      <td>5.356246e+08</td>\n",
       "      <td>NaN</td>\n",
       "      <td>NaN</td>\n",
       "    </tr>\n",
       "    <tr>\n",
       "      <th>std</th>\n",
       "      <td>26019.163422</td>\n",
       "      <td>NaN</td>\n",
       "      <td>NaN</td>\n",
       "      <td>1.230750e+07</td>\n",
       "      <td>1.927457e+16</td>\n",
       "      <td>NaN</td>\n",
       "      <td>NaN</td>\n",
       "      <td>357.742941</td>\n",
       "      <td>2.032619e+07</td>\n",
       "      <td>NaN</td>\n",
       "      <td>NaN</td>\n",
       "    </tr>\n",
       "    <tr>\n",
       "      <th>min</th>\n",
       "      <td>1.000000</td>\n",
       "      <td>NaN</td>\n",
       "      <td>NaN</td>\n",
       "      <td>1.001588e+06</td>\n",
       "      <td>2.053014e+18</td>\n",
       "      <td>NaN</td>\n",
       "      <td>NaN</td>\n",
       "      <td>1.060000</td>\n",
       "      <td>3.899798e+08</td>\n",
       "      <td>NaN</td>\n",
       "      <td>NaN</td>\n",
       "    </tr>\n",
       "    <tr>\n",
       "      <th>25%</th>\n",
       "      <td>12500.750000</td>\n",
       "      <td>NaN</td>\n",
       "      <td>NaN</td>\n",
       "      <td>1.307338e+06</td>\n",
       "      <td>2.053014e+18</td>\n",
       "      <td>NaN</td>\n",
       "      <td>NaN</td>\n",
       "      <td>65.900000</td>\n",
       "      <td>5.160589e+08</td>\n",
       "      <td>NaN</td>\n",
       "      <td>NaN</td>\n",
       "    </tr>\n",
       "    <tr>\n",
       "      <th>50%</th>\n",
       "      <td>25000.500000</td>\n",
       "      <td>NaN</td>\n",
       "      <td>NaN</td>\n",
       "      <td>6.701107e+06</td>\n",
       "      <td>2.053014e+18</td>\n",
       "      <td>NaN</td>\n",
       "      <td>NaN</td>\n",
       "      <td>168.860000</td>\n",
       "      <td>5.320839e+08</td>\n",
       "      <td>NaN</td>\n",
       "      <td>NaN</td>\n",
       "    </tr>\n",
       "    <tr>\n",
       "      <th>75%</th>\n",
       "      <td>62496.250000</td>\n",
       "      <td>NaN</td>\n",
       "      <td>NaN</td>\n",
       "      <td>1.720096e+07</td>\n",
       "      <td>2.053014e+18</td>\n",
       "      <td>NaN</td>\n",
       "      <td>NaN</td>\n",
       "      <td>361.605000</td>\n",
       "      <td>5.550423e+08</td>\n",
       "      <td>NaN</td>\n",
       "      <td>NaN</td>\n",
       "    </tr>\n",
       "    <tr>\n",
       "      <th>max</th>\n",
       "      <td>74996.000000</td>\n",
       "      <td>NaN</td>\n",
       "      <td>NaN</td>\n",
       "      <td>6.050000e+07</td>\n",
       "      <td>2.175420e+18</td>\n",
       "      <td>NaN</td>\n",
       "      <td>NaN</td>\n",
       "      <td>2574.070000</td>\n",
       "      <td>5.662942e+08</td>\n",
       "      <td>NaN</td>\n",
       "      <td>NaN</td>\n",
       "    </tr>\n",
       "  </tbody>\n",
       "</table>\n",
       "</div>"
      ],
      "text/plain": [
       "                  id                 event_time event_type    product_id  \\\n",
       "count   50000.000000                      50000      50000  5.000000e+04   \n",
       "unique           NaN                       6178          3           NaN   \n",
       "top              NaN  2019-11-01T01:49:06+00:00       view           NaN   \n",
       "freq             NaN                         34      49126           NaN   \n",
       "mean    37496.500320                        NaN        NaN  1.190485e+07   \n",
       "std     26019.163422                        NaN        NaN  1.230750e+07   \n",
       "min         1.000000                        NaN        NaN  1.001588e+06   \n",
       "25%     12500.750000                        NaN        NaN  1.307338e+06   \n",
       "50%     25000.500000                        NaN        NaN  6.701107e+06   \n",
       "75%     62496.250000                        NaN        NaN  1.720096e+07   \n",
       "max     74996.000000                        NaN        NaN  6.050000e+07   \n",
       "\n",
       "         category_id           category_code    brand         price  \\\n",
       "count   5.000000e+04                   32122    41644  49976.000000   \n",
       "unique           NaN                     108      996           NaN   \n",
       "top              NaN  electronics.smartphone  samsung           NaN   \n",
       "freq             NaN                   11360     5444           NaN   \n",
       "mean    2.057861e+18                     NaN      NaN    291.813103   \n",
       "std     1.927457e+16                     NaN      NaN    357.742941   \n",
       "min     2.053014e+18                     NaN      NaN      1.060000   \n",
       "25%     2.053014e+18                     NaN      NaN     65.900000   \n",
       "50%     2.053014e+18                     NaN      NaN    168.860000   \n",
       "75%     2.053014e+18                     NaN      NaN    361.605000   \n",
       "max     2.175420e+18                     NaN      NaN   2574.070000   \n",
       "\n",
       "             user_id                          user_session  \\\n",
       "count   5.000000e+04                                 50000   \n",
       "unique           NaN                                  6417   \n",
       "top              NaN  59f9573a-87ea-47c3-af23-a9778e545443   \n",
       "freq             NaN                                   180   \n",
       "mean    5.356246e+08                                   NaN   \n",
       "std     2.032619e+07                                   NaN   \n",
       "min     3.899798e+08                                   NaN   \n",
       "25%     5.160589e+08                                   NaN   \n",
       "50%     5.320839e+08                                   NaN   \n",
       "75%     5.550423e+08                                   NaN   \n",
       "max     5.662942e+08                                   NaN   \n",
       "\n",
       "                              created_at  \n",
       "count                              50000  \n",
       "unique                                51  \n",
       "top     2025-10-25T05:51:55.280937+00:00  \n",
       "freq                                1000  \n",
       "mean                                 NaN  \n",
       "std                                  NaN  \n",
       "min                                  NaN  \n",
       "25%                                  NaN  \n",
       "50%                                  NaN  \n",
       "75%                                  NaN  \n",
       "max                                  NaN  "
      ]
     },
     "metadata": {},
     "output_type": "display_data"
    },
    {
     "name": "stdout",
     "output_type": "stream",
     "text": [
      "\n",
      "🎯 Event Distribution:\n",
      "  view: 98.3%\n",
      "  purchase: 0.9%\n",
      "  cart: 0.8%\n",
      "\n",
      "💰 Price Statistics:\n",
      "  Average: $291.81\n",
      "  Median: $168.86\n",
      "  Range: $1.06 - $2574.07\n",
      "  Null prices: 24 (0.0%)\n"
     ]
    }
   ],
   "source": [
    "# Initial data exploration and quality assessment\n",
    "if df is not None:\n",
    "    print(\"🔍 DATA QUALITY ASSESSMENT\")\n",
    "    print(\"=\" * 50)\n",
    "    \n",
    "    # Basic info\n",
    "    print(f\"\\n📋 Column Information:\")\n",
    "    print(df.info())\n",
    "    \n",
    "    # Missing values analysis\n",
    "    print(f\"\\n❓ Missing Values:\")\n",
    "    missing_data = df.isnull().sum()\n",
    "    missing_pct = (missing_data / len(df)) * 100\n",
    "    missing_summary = pd.DataFrame({\n",
    "        'Missing Count': missing_data,\n",
    "        'Missing %': missing_pct\n",
    "    })\n",
    "    print(missing_summary[missing_summary['Missing Count'] > 0])\n",
    "    \n",
    "    # Data types and sample values\n",
    "    print(f\"\\n📊 Sample Data (First 5 rows):\")\n",
    "    display(df.head())\n",
    "    \n",
    "    # Statistical summary\n",
    "    print(f\"\\n📈 Statistical Summary:\")\n",
    "    display(df.describe(include='all'))\n",
    "    \n",
    "    # Event type distribution\n",
    "    event_dist = df['event_type'].value_counts(normalize=True) * 100\n",
    "    print(f\"\\n🎯 Event Distribution:\")\n",
    "    for event, pct in event_dist.items():\n",
    "        print(f\"  {event}: {pct:.1f}%\")\n",
    "    \n",
    "    # Price analysis\n",
    "    if 'price' in df.columns:\n",
    "        print(f\"\\n💰 Price Statistics:\")\n",
    "        print(f\"  Average: ${df['price'].mean():.2f}\")\n",
    "        print(f\"  Median: ${df['price'].median():.2f}\")\n",
    "        print(f\"  Range: ${df['price'].min():.2f} - ${df['price'].max():.2f}\")\n",
    "        print(f\"  Null prices: {df['price'].isnull().sum():,} ({df['price'].isnull().mean()*100:.1f}%)\")"
   ]
  },
  {
   "cell_type": "markdown",
   "id": "15949659",
   "metadata": {},
   "source": [
    "## 2. Data Preprocessing and Feature Engineering\n",
    "\n",
    "Clean the data and create additional features that will help in pattern recognition."
   ]
  },
  {
   "cell_type": "code",
   "execution_count": 68,
   "id": "1ec8fcd7",
   "metadata": {},
   "outputs": [
    {
     "name": "stdout",
     "output_type": "stream",
     "text": [
      "🔧 PREPROCESSING DATA\n",
      "========================================\n",
      "✅ Converted event_time to datetime\n",
      "✅ Created time-based features✅ Created time-based features\n",
      "✅ Handled missing values\n",
      "✅ Created price categories\n",
      "\n",
      "✅ Handled missing values\n",
      "✅ Created price categories\n",
      "✅ Created category hierarchy\n",
      "✅ Created user activity features\n",
      "✅ Sorted data for session analysis\n",
      "\n",
      "📊 Processed Dataset Shape: (50000, 21)\n",
      "🆕 New Columns: {'total_events', 'day_name', 'is_weekend', 'hour', 'user_activity_level', 'sub_category', 'date', 'main_category', 'day_of_week', 'price_category'}\n",
      "\n",
      "✨ Preprocessing Complete!\n",
      "Original shape: (50000, 11)\n",
      "Processed shape: (50000, 21)\n",
      "✅ Created category hierarchy\n",
      "✅ Created user activity features\n",
      "✅ Sorted data for session analysis\n",
      "\n",
      "📊 Processed Dataset Shape: (50000, 21)\n",
      "🆕 New Columns: {'total_events', 'day_name', 'is_weekend', 'hour', 'user_activity_level', 'sub_category', 'date', 'main_category', 'day_of_week', 'price_category'}\n",
      "\n",
      "✨ Preprocessing Complete!\n",
      "Original shape: (50000, 11)\n",
      "Processed shape: (50000, 21)\n"
     ]
    }
   ],
   "source": [
    "def preprocess_ecommerce_data(df):\n",
    "    \"\"\"\n",
    "    Comprehensive data preprocessing and feature engineering\n",
    "    \"\"\"\n",
    "    if df is None:\n",
    "        return None\n",
    "    \n",
    "    # Create a copy to avoid modifying original\n",
    "    df_processed = df.copy()\n",
    "    \n",
    "    print(\"🔧 PREPROCESSING DATA\")\n",
    "    print(\"=\" * 40)\n",
    "    \n",
    "    # 1. Convert event_time to datetime\n",
    "    df_processed['event_time'] = pd.to_datetime(df_processed['event_time'])\n",
    "    print(\"✅ Converted event_time to datetime\")\n",
    "    \n",
    "    # 2. Extract time-based features\n",
    "    df_processed['hour'] = df_processed['event_time'].dt.hour\n",
    "    df_processed['day_of_week'] = df_processed['event_time'].dt.dayofweek  # 0=Monday\n",
    "    df_processed['day_name'] = df_processed['event_time'].dt.day_name()\n",
    "    df_processed['is_weekend'] = df_processed['day_of_week'].isin([5, 6])\n",
    "    df_processed['date'] = df_processed['event_time'].dt.date\n",
    "    print(\"✅ Created time-based features\")\n",
    "    \n",
    "    # 3. Handle missing values\n",
    "    if 'category_code' in df_processed.columns:\n",
    "        df_processed['category_code'] = df_processed['category_code'].fillna('unknown')\n",
    "    if 'brand' in df_processed.columns:\n",
    "        df_processed['brand'] = df_processed['brand'].fillna('unknown')\n",
    "    print(\"✅ Handled missing values\")\n",
    "    \n",
    "    # 4. Create price categories\n",
    "    if 'price' in df_processed.columns:\n",
    "        # Remove rows with null prices for price analysis\n",
    "        price_data = df_processed[df_processed['price'].notna()]\n",
    "        if len(price_data) > 0:\n",
    "            df_processed['price_category'] = pd.cut(\n",
    "                df_processed['price'], \n",
    "                bins=[0, 50, 100, 200, 500, float('inf')], \n",
    "                labels=['Budget', 'Low', 'Medium', 'High', 'Premium'],\n",
    "                include_lowest=True\n",
    "            )\n",
    "        print(\"✅ Created price categories\")\n",
    "    \n",
    "    # 5. Create category hierarchy\n",
    "    if 'category_code' in df_processed.columns:\n",
    "        # Extract main category (first part before '.')\n",
    "        df_processed['main_category'] = df_processed['category_code'].str.split('.').str[0]\n",
    "        # Extract sub category (second part)\n",
    "        df_processed['sub_category'] = df_processed['category_code'].str.split('.').str[1]\n",
    "        print(\"✅ Created category hierarchy\")\n",
    "    \n",
    "    # 6. Create user engagement score (events per user)\n",
    "    user_activity = df_processed.groupby('user_id').size().reset_index(name='total_events')\n",
    "    df_processed = df_processed.merge(user_activity, on='user_id', how='left')\n",
    "    \n",
    "    # Categorize users by activity level\n",
    "    activity_percentiles = user_activity['total_events'].quantile([0.33, 0.66, 1.0])\n",
    "    df_processed['user_activity_level'] = pd.cut(\n",
    "        df_processed['total_events'],\n",
    "        bins=[0, activity_percentiles[0.33], activity_percentiles[0.66], activity_percentiles[1.0]],\n",
    "        labels=['Low', 'Medium', 'High'],\n",
    "        include_lowest=True\n",
    "    )\n",
    "    print(\"✅ Created user activity features\")\n",
    "    \n",
    "    # 7. Session analysis preparation\n",
    "    # Sort by user and time for session analysis\n",
    "    df_processed = df_processed.sort_values(['user_id', 'event_time'])\n",
    "    print(\"✅ Sorted data for session analysis\")\n",
    "    \n",
    "    print(f\"\\n📊 Processed Dataset Shape: {df_processed.shape}\")\n",
    "    print(f\"🆕 New Columns: {set(df_processed.columns) - set(df.columns)}\")\n",
    "    \n",
    "    return df_processed\n",
    "\n",
    "# Apply preprocessing\n",
    "df_clean = preprocess_ecommerce_data(df)\n",
    "\n",
    "if df_clean is not None:\n",
    "    print(f\"\\n✨ Preprocessing Complete!\")\n",
    "    print(f\"Original shape: {df.shape}\")\n",
    "    print(f\"Processed shape: {df_clean.shape}\")"
   ]
  },
  {
   "cell_type": "markdown",
   "id": "7e9fc9d9",
   "metadata": {},
   "source": [
    "## 3. Temporal Pattern Analysis\n",
    "\n",
    "Analyze time-based patterns to understand when and how users interact with the platform."
   ]
  },
  {
   "cell_type": "code",
   "execution_count": 69,
   "id": "b6683da6",
   "metadata": {},
   "outputs": [
    {
     "name": "stdout",
     "output_type": "stream",
     "text": [
      "📅 TEMPORAL PATTERN ANALYSIS\n",
      "=============================================\n"
     ]
    },
    {
     "data": {
      "application/vnd.plotly.v1+json": {
       "config": {
        "plotlyServerURL": "https://plot.ly"
       },
       "data": [
        {
         "line": {
          "color": "blue"
         },
         "name": "Total Events",
         "type": "scatter",
         "x": [
          0,
          1,
          2
         ],
         "xaxis": "x",
         "y": [
          21774,
          28000,
          226
         ],
         "yaxis": "y"
        },
        {
         "line": {
          "color": "red"
         },
         "name": "Purchases",
         "type": "scatter",
         "x": [
          0,
          1,
          2
         ],
         "xaxis": "x",
         "y": [
          228,
          238,
          6
         ],
         "yaxis": "y2"
        },
        {
         "marker": {
          "color": "lightblue"
         },
         "name": "Events by Day",
         "type": "bar",
         "x": [
          "Monday",
          "Tuesday",
          "Wednesday",
          "Thursday",
          "Friday",
          "Saturday",
          "Sunday"
         ],
         "xaxis": "x2",
         "y": [
          null,
          null,
          null,
          null,
          50000,
          null,
          null
         ],
         "yaxis": "y3"
        },
        {
         "line": {
          "color": "green"
         },
         "name": "Purchase Rate %",
         "type": "scatter",
         "x": [
          0,
          1,
          2
         ],
         "xaxis": "x3",
         "y": [
          1.0471204188481675,
          0.8500000000000001,
          2.6548672566371683
         ],
         "yaxis": "y5"
        },
        {
         "name": "Cart",
         "type": "bar",
         "x": [
          "Weekday",
          "Weekend"
         ],
         "xaxis": "x4",
         "y": [
          0.804,
          0
         ],
         "yaxis": "y6"
        },
        {
         "name": "Purchase",
         "type": "bar",
         "x": [
          "Weekday",
          "Weekend"
         ],
         "xaxis": "x4",
         "y": [
          0.9440000000000001,
          0
         ],
         "yaxis": "y6"
        },
        {
         "name": "View",
         "type": "bar",
         "x": [
          "Weekday",
          "Weekend"
         ],
         "xaxis": "x4",
         "y": [
          98.252,
          0
         ],
         "yaxis": "y6"
        }
       ],
       "layout": {
        "annotations": [
         {
          "font": {
           "size": 16
          },
          "showarrow": false,
          "text": "Hourly Activity Pattern",
          "x": 0.185,
          "xanchor": "center",
          "xref": "paper",
          "y": 1,
          "yanchor": "bottom",
          "yref": "paper"
         },
         {
          "font": {
           "size": 16
          },
          "showarrow": false,
          "text": "Daily Activity Pattern",
          "x": 0.7550000000000001,
          "xanchor": "center",
          "xref": "paper",
          "y": 1,
          "yanchor": "bottom",
          "yref": "paper"
         },
         {
          "font": {
           "size": 16
          },
          "showarrow": false,
          "text": "Event Types by Hour",
          "x": 0.185,
          "xanchor": "center",
          "xref": "paper",
          "y": 0.375,
          "yanchor": "bottom",
          "yref": "paper"
         },
         {
          "font": {
           "size": 16
          },
          "showarrow": false,
          "text": "Weekend vs Weekday",
          "x": 0.7550000000000001,
          "xanchor": "center",
          "xref": "paper",
          "y": 0.375,
          "yanchor": "bottom",
          "yref": "paper"
         }
        ],
        "height": 800,
        "showlegend": true,
        "template": {
         "data": {
          "bar": [
           {
            "error_x": {
             "color": "#2a3f5f"
            },
            "error_y": {
             "color": "#2a3f5f"
            },
            "marker": {
             "line": {
              "color": "#E5ECF6",
              "width": 0.5
             },
             "pattern": {
              "fillmode": "overlay",
              "size": 10,
              "solidity": 0.2
             }
            },
            "type": "bar"
           }
          ],
          "barpolar": [
           {
            "marker": {
             "line": {
              "color": "#E5ECF6",
              "width": 0.5
             },
             "pattern": {
              "fillmode": "overlay",
              "size": 10,
              "solidity": 0.2
             }
            },
            "type": "barpolar"
           }
          ],
          "carpet": [
           {
            "aaxis": {
             "endlinecolor": "#2a3f5f",
             "gridcolor": "white",
             "linecolor": "white",
             "minorgridcolor": "white",
             "startlinecolor": "#2a3f5f"
            },
            "baxis": {
             "endlinecolor": "#2a3f5f",
             "gridcolor": "white",
             "linecolor": "white",
             "minorgridcolor": "white",
             "startlinecolor": "#2a3f5f"
            },
            "type": "carpet"
           }
          ],
          "choropleth": [
           {
            "colorbar": {
             "outlinewidth": 0,
             "ticks": ""
            },
            "type": "choropleth"
           }
          ],
          "contour": [
           {
            "colorbar": {
             "outlinewidth": 0,
             "ticks": ""
            },
            "colorscale": [
             [
              0,
              "#0d0887"
             ],
             [
              0.1111111111111111,
              "#46039f"
             ],
             [
              0.2222222222222222,
              "#7201a8"
             ],
             [
              0.3333333333333333,
              "#9c179e"
             ],
             [
              0.4444444444444444,
              "#bd3786"
             ],
             [
              0.5555555555555556,
              "#d8576b"
             ],
             [
              0.6666666666666666,
              "#ed7953"
             ],
             [
              0.7777777777777778,
              "#fb9f3a"
             ],
             [
              0.8888888888888888,
              "#fdca26"
             ],
             [
              1,
              "#f0f921"
             ]
            ],
            "type": "contour"
           }
          ],
          "contourcarpet": [
           {
            "colorbar": {
             "outlinewidth": 0,
             "ticks": ""
            },
            "type": "contourcarpet"
           }
          ],
          "heatmap": [
           {
            "colorbar": {
             "outlinewidth": 0,
             "ticks": ""
            },
            "colorscale": [
             [
              0,
              "#0d0887"
             ],
             [
              0.1111111111111111,
              "#46039f"
             ],
             [
              0.2222222222222222,
              "#7201a8"
             ],
             [
              0.3333333333333333,
              "#9c179e"
             ],
             [
              0.4444444444444444,
              "#bd3786"
             ],
             [
              0.5555555555555556,
              "#d8576b"
             ],
             [
              0.6666666666666666,
              "#ed7953"
             ],
             [
              0.7777777777777778,
              "#fb9f3a"
             ],
             [
              0.8888888888888888,
              "#fdca26"
             ],
             [
              1,
              "#f0f921"
             ]
            ],
            "type": "heatmap"
           }
          ],
          "heatmapgl": [
           {
            "colorbar": {
             "outlinewidth": 0,
             "ticks": ""
            },
            "colorscale": [
             [
              0,
              "#0d0887"
             ],
             [
              0.1111111111111111,
              "#46039f"
             ],
             [
              0.2222222222222222,
              "#7201a8"
             ],
             [
              0.3333333333333333,
              "#9c179e"
             ],
             [
              0.4444444444444444,
              "#bd3786"
             ],
             [
              0.5555555555555556,
              "#d8576b"
             ],
             [
              0.6666666666666666,
              "#ed7953"
             ],
             [
              0.7777777777777778,
              "#fb9f3a"
             ],
             [
              0.8888888888888888,
              "#fdca26"
             ],
             [
              1,
              "#f0f921"
             ]
            ],
            "type": "heatmapgl"
           }
          ],
          "histogram": [
           {
            "marker": {
             "pattern": {
              "fillmode": "overlay",
              "size": 10,
              "solidity": 0.2
             }
            },
            "type": "histogram"
           }
          ],
          "histogram2d": [
           {
            "colorbar": {
             "outlinewidth": 0,
             "ticks": ""
            },
            "colorscale": [
             [
              0,
              "#0d0887"
             ],
             [
              0.1111111111111111,
              "#46039f"
             ],
             [
              0.2222222222222222,
              "#7201a8"
             ],
             [
              0.3333333333333333,
              "#9c179e"
             ],
             [
              0.4444444444444444,
              "#bd3786"
             ],
             [
              0.5555555555555556,
              "#d8576b"
             ],
             [
              0.6666666666666666,
              "#ed7953"
             ],
             [
              0.7777777777777778,
              "#fb9f3a"
             ],
             [
              0.8888888888888888,
              "#fdca26"
             ],
             [
              1,
              "#f0f921"
             ]
            ],
            "type": "histogram2d"
           }
          ],
          "histogram2dcontour": [
           {
            "colorbar": {
             "outlinewidth": 0,
             "ticks": ""
            },
            "colorscale": [
             [
              0,
              "#0d0887"
             ],
             [
              0.1111111111111111,
              "#46039f"
             ],
             [
              0.2222222222222222,
              "#7201a8"
             ],
             [
              0.3333333333333333,
              "#9c179e"
             ],
             [
              0.4444444444444444,
              "#bd3786"
             ],
             [
              0.5555555555555556,
              "#d8576b"
             ],
             [
              0.6666666666666666,
              "#ed7953"
             ],
             [
              0.7777777777777778,
              "#fb9f3a"
             ],
             [
              0.8888888888888888,
              "#fdca26"
             ],
             [
              1,
              "#f0f921"
             ]
            ],
            "type": "histogram2dcontour"
           }
          ],
          "mesh3d": [
           {
            "colorbar": {
             "outlinewidth": 0,
             "ticks": ""
            },
            "type": "mesh3d"
           }
          ],
          "parcoords": [
           {
            "line": {
             "colorbar": {
              "outlinewidth": 0,
              "ticks": ""
             }
            },
            "type": "parcoords"
           }
          ],
          "pie": [
           {
            "automargin": true,
            "type": "pie"
           }
          ],
          "scatter": [
           {
            "fillpattern": {
             "fillmode": "overlay",
             "size": 10,
             "solidity": 0.2
            },
            "type": "scatter"
           }
          ],
          "scatter3d": [
           {
            "line": {
             "colorbar": {
              "outlinewidth": 0,
              "ticks": ""
             }
            },
            "marker": {
             "colorbar": {
              "outlinewidth": 0,
              "ticks": ""
             }
            },
            "type": "scatter3d"
           }
          ],
          "scattercarpet": [
           {
            "marker": {
             "colorbar": {
              "outlinewidth": 0,
              "ticks": ""
             }
            },
            "type": "scattercarpet"
           }
          ],
          "scattergeo": [
           {
            "marker": {
             "colorbar": {
              "outlinewidth": 0,
              "ticks": ""
             }
            },
            "type": "scattergeo"
           }
          ],
          "scattergl": [
           {
            "marker": {
             "colorbar": {
              "outlinewidth": 0,
              "ticks": ""
             }
            },
            "type": "scattergl"
           }
          ],
          "scattermapbox": [
           {
            "marker": {
             "colorbar": {
              "outlinewidth": 0,
              "ticks": ""
             }
            },
            "type": "scattermapbox"
           }
          ],
          "scatterpolar": [
           {
            "marker": {
             "colorbar": {
              "outlinewidth": 0,
              "ticks": ""
             }
            },
            "type": "scatterpolar"
           }
          ],
          "scatterpolargl": [
           {
            "marker": {
             "colorbar": {
              "outlinewidth": 0,
              "ticks": ""
             }
            },
            "type": "scatterpolargl"
           }
          ],
          "scatterternary": [
           {
            "marker": {
             "colorbar": {
              "outlinewidth": 0,
              "ticks": ""
             }
            },
            "type": "scatterternary"
           }
          ],
          "surface": [
           {
            "colorbar": {
             "outlinewidth": 0,
             "ticks": ""
            },
            "colorscale": [
             [
              0,
              "#0d0887"
             ],
             [
              0.1111111111111111,
              "#46039f"
             ],
             [
              0.2222222222222222,
              "#7201a8"
             ],
             [
              0.3333333333333333,
              "#9c179e"
             ],
             [
              0.4444444444444444,
              "#bd3786"
             ],
             [
              0.5555555555555556,
              "#d8576b"
             ],
             [
              0.6666666666666666,
              "#ed7953"
             ],
             [
              0.7777777777777778,
              "#fb9f3a"
             ],
             [
              0.8888888888888888,
              "#fdca26"
             ],
             [
              1,
              "#f0f921"
             ]
            ],
            "type": "surface"
           }
          ],
          "table": [
           {
            "cells": {
             "fill": {
              "color": "#EBF0F8"
             },
             "line": {
              "color": "white"
             }
            },
            "header": {
             "fill": {
              "color": "#C8D4E3"
             },
             "line": {
              "color": "white"
             }
            },
            "type": "table"
           }
          ]
         },
         "layout": {
          "annotationdefaults": {
           "arrowcolor": "#2a3f5f",
           "arrowhead": 0,
           "arrowwidth": 1
          },
          "autotypenumbers": "strict",
          "coloraxis": {
           "colorbar": {
            "outlinewidth": 0,
            "ticks": ""
           }
          },
          "colorscale": {
           "diverging": [
            [
             0,
             "#8e0152"
            ],
            [
             0.1,
             "#c51b7d"
            ],
            [
             0.2,
             "#de77ae"
            ],
            [
             0.3,
             "#f1b6da"
            ],
            [
             0.4,
             "#fde0ef"
            ],
            [
             0.5,
             "#f7f7f7"
            ],
            [
             0.6,
             "#e6f5d0"
            ],
            [
             0.7,
             "#b8e186"
            ],
            [
             0.8,
             "#7fbc41"
            ],
            [
             0.9,
             "#4d9221"
            ],
            [
             1,
             "#276419"
            ]
           ],
           "sequential": [
            [
             0,
             "#0d0887"
            ],
            [
             0.1111111111111111,
             "#46039f"
            ],
            [
             0.2222222222222222,
             "#7201a8"
            ],
            [
             0.3333333333333333,
             "#9c179e"
            ],
            [
             0.4444444444444444,
             "#bd3786"
            ],
            [
             0.5555555555555556,
             "#d8576b"
            ],
            [
             0.6666666666666666,
             "#ed7953"
            ],
            [
             0.7777777777777778,
             "#fb9f3a"
            ],
            [
             0.8888888888888888,
             "#fdca26"
            ],
            [
             1,
             "#f0f921"
            ]
           ],
           "sequentialminus": [
            [
             0,
             "#0d0887"
            ],
            [
             0.1111111111111111,
             "#46039f"
            ],
            [
             0.2222222222222222,
             "#7201a8"
            ],
            [
             0.3333333333333333,
             "#9c179e"
            ],
            [
             0.4444444444444444,
             "#bd3786"
            ],
            [
             0.5555555555555556,
             "#d8576b"
            ],
            [
             0.6666666666666666,
             "#ed7953"
            ],
            [
             0.7777777777777778,
             "#fb9f3a"
            ],
            [
             0.8888888888888888,
             "#fdca26"
            ],
            [
             1,
             "#f0f921"
            ]
           ]
          },
          "colorway": [
           "#636efa",
           "#EF553B",
           "#00cc96",
           "#ab63fa",
           "#FFA15A",
           "#19d3f3",
           "#FF6692",
           "#B6E880",
           "#FF97FF",
           "#FECB52"
          ],
          "font": {
           "color": "#2a3f5f"
          },
          "geo": {
           "bgcolor": "white",
           "lakecolor": "white",
           "landcolor": "#E5ECF6",
           "showlakes": true,
           "showland": true,
           "subunitcolor": "white"
          },
          "hoverlabel": {
           "align": "left"
          },
          "hovermode": "closest",
          "mapbox": {
           "style": "light"
          },
          "paper_bgcolor": "white",
          "plot_bgcolor": "#E5ECF6",
          "polar": {
           "angularaxis": {
            "gridcolor": "white",
            "linecolor": "white",
            "ticks": ""
           },
           "bgcolor": "#E5ECF6",
           "radialaxis": {
            "gridcolor": "white",
            "linecolor": "white",
            "ticks": ""
           }
          },
          "scene": {
           "xaxis": {
            "backgroundcolor": "#E5ECF6",
            "gridcolor": "white",
            "gridwidth": 2,
            "linecolor": "white",
            "showbackground": true,
            "ticks": "",
            "zerolinecolor": "white"
           },
           "yaxis": {
            "backgroundcolor": "#E5ECF6",
            "gridcolor": "white",
            "gridwidth": 2,
            "linecolor": "white",
            "showbackground": true,
            "ticks": "",
            "zerolinecolor": "white"
           },
           "zaxis": {
            "backgroundcolor": "#E5ECF6",
            "gridcolor": "white",
            "gridwidth": 2,
            "linecolor": "white",
            "showbackground": true,
            "ticks": "",
            "zerolinecolor": "white"
           }
          },
          "shapedefaults": {
           "line": {
            "color": "#2a3f5f"
           }
          },
          "ternary": {
           "aaxis": {
            "gridcolor": "white",
            "linecolor": "white",
            "ticks": ""
           },
           "baxis": {
            "gridcolor": "white",
            "linecolor": "white",
            "ticks": ""
           },
           "bgcolor": "#E5ECF6",
           "caxis": {
            "gridcolor": "white",
            "linecolor": "white",
            "ticks": ""
           }
          },
          "title": {
           "x": 0.05
          },
          "xaxis": {
           "automargin": true,
           "gridcolor": "white",
           "linecolor": "white",
           "ticks": "",
           "title": {
            "standoff": 15
           },
           "zerolinecolor": "white",
           "zerolinewidth": 2
          },
          "yaxis": {
           "automargin": true,
           "gridcolor": "white",
           "linecolor": "white",
           "ticks": "",
           "title": {
            "standoff": 15
           },
           "zerolinecolor": "white",
           "zerolinewidth": 2
          }
         }
        },
        "title": {
         "text": "Temporal Activity Patterns Analysis"
        },
        "xaxis": {
         "anchor": "y",
         "domain": [
          0,
          0.37
         ]
        },
        "xaxis2": {
         "anchor": "y3",
         "domain": [
          0.5700000000000001,
          0.9400000000000001
         ]
        },
        "xaxis3": {
         "anchor": "y5",
         "domain": [
          0,
          0.37
         ]
        },
        "xaxis4": {
         "anchor": "y6",
         "domain": [
          0.5700000000000001,
          0.9400000000000001
         ]
        },
        "yaxis": {
         "anchor": "x",
         "domain": [
          0.625,
          1
         ]
        },
        "yaxis2": {
         "anchor": "x",
         "overlaying": "y",
         "side": "right"
        },
        "yaxis3": {
         "anchor": "x2",
         "domain": [
          0.625,
          1
         ]
        },
        "yaxis4": {
         "anchor": "x2",
         "overlaying": "y3",
         "side": "right"
        },
        "yaxis5": {
         "anchor": "x3",
         "domain": [
          0,
          0.375
         ]
        },
        "yaxis6": {
         "anchor": "x4",
         "domain": [
          0,
          0.375
         ]
        }
       }
      }
     },
     "metadata": {},
     "output_type": "display_data"
    },
    {
     "name": "stdout",
     "output_type": "stream",
     "text": [
      "\n",
      "🔍 KEY TEMPORAL INSIGHTS:\n",
      "==============================\n",
      "🕐 Peak Activity Hour: 1:00 (28,000 events)\n",
      "💰 Best Conversion Hour: 2:00 (2.65%)\n",
      "📊 Weekend Activity: 0.0% of all events\n",
      "📅 Most Active Day: Friday (50,000.0 events)\n"
     ]
    }
   ],
   "source": [
    "def analyze_temporal_patterns(df):\n",
    "    \"\"\"\n",
    "    Comprehensive temporal pattern analysis\n",
    "    \"\"\"\n",
    "    if df is None:\n",
    "        return\n",
    "    \n",
    "    print(\"📅 TEMPORAL PATTERN ANALYSIS\")\n",
    "    print(\"=\" * 45)\n",
    "    \n",
    "    # Create subplots for multiple visualizations\n",
    "    fig = make_subplots(\n",
    "        rows=2, cols=2,\n",
    "        subplot_titles=['Hourly Activity Pattern', 'Daily Activity Pattern', \n",
    "                       'Event Types by Hour', 'Weekend vs Weekday'],\n",
    "        specs=[[{\"secondary_y\": True}, {\"secondary_y\": True}],\n",
    "               [{\"secondary_y\": False}, {\"secondary_y\": False}]]\n",
    "    )\n",
    "    \n",
    "    # 1. Hourly patterns\n",
    "    hourly_activity = df.groupby('hour').agg({\n",
    "        'user_id': 'count',\n",
    "        'event_type': lambda x: (x == 'purchase').sum()\n",
    "    }).rename(columns={'user_id': 'total_events', 'event_type': 'purchases'})\n",
    "    \n",
    "    fig.add_trace(\n",
    "        go.Scatter(x=hourly_activity.index, y=hourly_activity['total_events'],\n",
    "                  name='Total Events', line=dict(color='blue')),\n",
    "        row=1, col=1\n",
    "    )\n",
    "    \n",
    "    fig.add_trace(\n",
    "        go.Scatter(x=hourly_activity.index, y=hourly_activity['purchases'],\n",
    "                  name='Purchases', line=dict(color='red')),\n",
    "        row=1, col=1, secondary_y=True\n",
    "    )\n",
    "    \n",
    "    # 2. Daily patterns\n",
    "    daily_activity = df.groupby('day_name').size().reindex([\n",
    "        'Monday', 'Tuesday', 'Wednesday', 'Thursday', 'Friday', 'Saturday', 'Sunday'\n",
    "    ])\n",
    "    \n",
    "    fig.add_trace(\n",
    "        go.Bar(x=daily_activity.index, y=daily_activity.values,\n",
    "               name='Events by Day', marker_color='lightblue'),\n",
    "        row=1, col=2\n",
    "    )\n",
    "    \n",
    "    # 3. Event types by hour (heatmap style)\n",
    "    event_hour_pivot = df.pivot_table(\n",
    "        values='user_id', index='hour', columns='event_type', \n",
    "        aggfunc='count', fill_value=0\n",
    "    )\n",
    "    \n",
    "    # Convert to percentage for better visualization\n",
    "    event_hour_pct = event_hour_pivot.div(event_hour_pivot.sum(axis=1), axis=0) * 100\n",
    "    \n",
    "    # Show purchase rate by hour\n",
    "    if 'purchase' in event_hour_pct.columns:\n",
    "        fig.add_trace(\n",
    "            go.Scatter(x=event_hour_pct.index, y=event_hour_pct['purchase'],\n",
    "                      name='Purchase Rate %', line=dict(color='green')),\n",
    "            row=2, col=1\n",
    "        )\n",
    "    \n",
    "    # 4. Weekend vs Weekday comparison\n",
    "    weekend_comparison = df.groupby(['is_weekend', 'event_type']).size().unstack(fill_value=0)\n",
    "    weekend_comparison_pct = weekend_comparison.div(weekend_comparison.sum(axis=1), axis=0) * 100\n",
    "    \n",
    "    for event_type in weekend_comparison_pct.columns:\n",
    "        fig.add_trace(\n",
    "            go.Bar(x=['Weekday', 'Weekend'], \n",
    "                  y=[weekend_comparison_pct.loc[False, event_type] if False in weekend_comparison_pct.index else 0,\n",
    "                     weekend_comparison_pct.loc[True, event_type] if True in weekend_comparison_pct.index else 0],\n",
    "                  name=f'{event_type.title()}'),\n",
    "            row=2, col=2\n",
    "        )\n",
    "    \n",
    "    # Update layout\n",
    "    fig.update_layout(\n",
    "        height=800,\n",
    "        title_text=\"Temporal Activity Patterns Analysis\",\n",
    "        showlegend=True\n",
    "    )\n",
    "    \n",
    "    fig.show()\n",
    "    \n",
    "    # Print insights\n",
    "    print(\"\\n🔍 KEY TEMPORAL INSIGHTS:\")\n",
    "    print(\"=\" * 30)\n",
    "    \n",
    "    # Peak hours\n",
    "    peak_hour = hourly_activity['total_events'].idxmax()\n",
    "    peak_events = hourly_activity['total_events'].max()\n",
    "    print(f\"🕐 Peak Activity Hour: {peak_hour}:00 ({peak_events:,} events)\")\n",
    "    \n",
    "    # Best conversion hours\n",
    "    if 'purchases' in hourly_activity.columns and hourly_activity['purchases'].sum() > 0:\n",
    "        conversion_rate = (hourly_activity['purchases'] / hourly_activity['total_events'] * 100)\n",
    "        best_conversion_hour = conversion_rate.idxmax()\n",
    "        best_conversion_rate = conversion_rate.max()\n",
    "        print(f\"💰 Best Conversion Hour: {best_conversion_hour}:00 ({best_conversion_rate:.2f}%)\")\n",
    "    \n",
    "    # Weekend vs Weekday insights\n",
    "    weekend_events = df[df['is_weekend']]['user_id'].count()\n",
    "    weekday_events = df[~df['is_weekend']]['user_id'].count()\n",
    "    weekend_pct = weekend_events / (weekend_events + weekday_events) * 100\n",
    "    print(f\"📊 Weekend Activity: {weekend_pct:.1f}% of all events\")\n",
    "    \n",
    "    # Most active day\n",
    "    most_active_day = daily_activity.idxmax()\n",
    "    most_active_day_events = daily_activity.max()\n",
    "    print(f\"📅 Most Active Day: {most_active_day} ({most_active_day_events:,} events)\")\n",
    "\n",
    "# Run temporal analysis\n",
    "if df_clean is not None:\n",
    "    analyze_temporal_patterns(df_clean)"
   ]
  },
  {
   "cell_type": "markdown",
   "id": "e37f99bf",
   "metadata": {},
   "source": [
    "## 4. Purchase Funnel Analysis\n",
    "\n",
    "Track the customer journey from initial view to final purchase, identifying conversion rates and drop-off points."
   ]
  },
  {
   "cell_type": "code",
   "execution_count": 70,
   "id": "980405d2",
   "metadata": {},
   "outputs": [
    {
     "name": "stdout",
     "output_type": "stream",
     "text": [
      "🛒 PURCHASE FUNNEL ANALYSIS\n",
      "========================================\n"
     ]
    },
    {
     "data": {
      "application/vnd.plotly.v1+json": {
       "config": {
        "plotlyServerURL": "https://plot.ly"
       },
       "data": [
        {
         "connector": {
          "line": {
           "color": "royalblue",
           "dash": "dot",
           "width": 3
          }
         },
         "marker": {
          "color": [
           "deepskyblue",
           "lightsalmon",
           "lightgreen"
          ],
          "line": {
           "color": [
            "wheat",
            "wheat",
            "wheat"
           ],
           "width": [
            4,
            2,
            2
           ]
          }
         },
         "opacity": 0.65,
         "textinfo": "value+percent initial",
         "textposition": "inside",
         "type": "funnel",
         "x": [
          49126,
          402,
          472
         ],
         "y": [
          "View",
          "Cart",
          "Purchase"
         ]
        }
       ],
       "layout": {
        "height": 500,
        "template": {
         "data": {
          "bar": [
           {
            "error_x": {
             "color": "#2a3f5f"
            },
            "error_y": {
             "color": "#2a3f5f"
            },
            "marker": {
             "line": {
              "color": "#E5ECF6",
              "width": 0.5
             },
             "pattern": {
              "fillmode": "overlay",
              "size": 10,
              "solidity": 0.2
             }
            },
            "type": "bar"
           }
          ],
          "barpolar": [
           {
            "marker": {
             "line": {
              "color": "#E5ECF6",
              "width": 0.5
             },
             "pattern": {
              "fillmode": "overlay",
              "size": 10,
              "solidity": 0.2
             }
            },
            "type": "barpolar"
           }
          ],
          "carpet": [
           {
            "aaxis": {
             "endlinecolor": "#2a3f5f",
             "gridcolor": "white",
             "linecolor": "white",
             "minorgridcolor": "white",
             "startlinecolor": "#2a3f5f"
            },
            "baxis": {
             "endlinecolor": "#2a3f5f",
             "gridcolor": "white",
             "linecolor": "white",
             "minorgridcolor": "white",
             "startlinecolor": "#2a3f5f"
            },
            "type": "carpet"
           }
          ],
          "choropleth": [
           {
            "colorbar": {
             "outlinewidth": 0,
             "ticks": ""
            },
            "type": "choropleth"
           }
          ],
          "contour": [
           {
            "colorbar": {
             "outlinewidth": 0,
             "ticks": ""
            },
            "colorscale": [
             [
              0,
              "#0d0887"
             ],
             [
              0.1111111111111111,
              "#46039f"
             ],
             [
              0.2222222222222222,
              "#7201a8"
             ],
             [
              0.3333333333333333,
              "#9c179e"
             ],
             [
              0.4444444444444444,
              "#bd3786"
             ],
             [
              0.5555555555555556,
              "#d8576b"
             ],
             [
              0.6666666666666666,
              "#ed7953"
             ],
             [
              0.7777777777777778,
              "#fb9f3a"
             ],
             [
              0.8888888888888888,
              "#fdca26"
             ],
             [
              1,
              "#f0f921"
             ]
            ],
            "type": "contour"
           }
          ],
          "contourcarpet": [
           {
            "colorbar": {
             "outlinewidth": 0,
             "ticks": ""
            },
            "type": "contourcarpet"
           }
          ],
          "heatmap": [
           {
            "colorbar": {
             "outlinewidth": 0,
             "ticks": ""
            },
            "colorscale": [
             [
              0,
              "#0d0887"
             ],
             [
              0.1111111111111111,
              "#46039f"
             ],
             [
              0.2222222222222222,
              "#7201a8"
             ],
             [
              0.3333333333333333,
              "#9c179e"
             ],
             [
              0.4444444444444444,
              "#bd3786"
             ],
             [
              0.5555555555555556,
              "#d8576b"
             ],
             [
              0.6666666666666666,
              "#ed7953"
             ],
             [
              0.7777777777777778,
              "#fb9f3a"
             ],
             [
              0.8888888888888888,
              "#fdca26"
             ],
             [
              1,
              "#f0f921"
             ]
            ],
            "type": "heatmap"
           }
          ],
          "heatmapgl": [
           {
            "colorbar": {
             "outlinewidth": 0,
             "ticks": ""
            },
            "colorscale": [
             [
              0,
              "#0d0887"
             ],
             [
              0.1111111111111111,
              "#46039f"
             ],
             [
              0.2222222222222222,
              "#7201a8"
             ],
             [
              0.3333333333333333,
              "#9c179e"
             ],
             [
              0.4444444444444444,
              "#bd3786"
             ],
             [
              0.5555555555555556,
              "#d8576b"
             ],
             [
              0.6666666666666666,
              "#ed7953"
             ],
             [
              0.7777777777777778,
              "#fb9f3a"
             ],
             [
              0.8888888888888888,
              "#fdca26"
             ],
             [
              1,
              "#f0f921"
             ]
            ],
            "type": "heatmapgl"
           }
          ],
          "histogram": [
           {
            "marker": {
             "pattern": {
              "fillmode": "overlay",
              "size": 10,
              "solidity": 0.2
             }
            },
            "type": "histogram"
           }
          ],
          "histogram2d": [
           {
            "colorbar": {
             "outlinewidth": 0,
             "ticks": ""
            },
            "colorscale": [
             [
              0,
              "#0d0887"
             ],
             [
              0.1111111111111111,
              "#46039f"
             ],
             [
              0.2222222222222222,
              "#7201a8"
             ],
             [
              0.3333333333333333,
              "#9c179e"
             ],
             [
              0.4444444444444444,
              "#bd3786"
             ],
             [
              0.5555555555555556,
              "#d8576b"
             ],
             [
              0.6666666666666666,
              "#ed7953"
             ],
             [
              0.7777777777777778,
              "#fb9f3a"
             ],
             [
              0.8888888888888888,
              "#fdca26"
             ],
             [
              1,
              "#f0f921"
             ]
            ],
            "type": "histogram2d"
           }
          ],
          "histogram2dcontour": [
           {
            "colorbar": {
             "outlinewidth": 0,
             "ticks": ""
            },
            "colorscale": [
             [
              0,
              "#0d0887"
             ],
             [
              0.1111111111111111,
              "#46039f"
             ],
             [
              0.2222222222222222,
              "#7201a8"
             ],
             [
              0.3333333333333333,
              "#9c179e"
             ],
             [
              0.4444444444444444,
              "#bd3786"
             ],
             [
              0.5555555555555556,
              "#d8576b"
             ],
             [
              0.6666666666666666,
              "#ed7953"
             ],
             [
              0.7777777777777778,
              "#fb9f3a"
             ],
             [
              0.8888888888888888,
              "#fdca26"
             ],
             [
              1,
              "#f0f921"
             ]
            ],
            "type": "histogram2dcontour"
           }
          ],
          "mesh3d": [
           {
            "colorbar": {
             "outlinewidth": 0,
             "ticks": ""
            },
            "type": "mesh3d"
           }
          ],
          "parcoords": [
           {
            "line": {
             "colorbar": {
              "outlinewidth": 0,
              "ticks": ""
             }
            },
            "type": "parcoords"
           }
          ],
          "pie": [
           {
            "automargin": true,
            "type": "pie"
           }
          ],
          "scatter": [
           {
            "fillpattern": {
             "fillmode": "overlay",
             "size": 10,
             "solidity": 0.2
            },
            "type": "scatter"
           }
          ],
          "scatter3d": [
           {
            "line": {
             "colorbar": {
              "outlinewidth": 0,
              "ticks": ""
             }
            },
            "marker": {
             "colorbar": {
              "outlinewidth": 0,
              "ticks": ""
             }
            },
            "type": "scatter3d"
           }
          ],
          "scattercarpet": [
           {
            "marker": {
             "colorbar": {
              "outlinewidth": 0,
              "ticks": ""
             }
            },
            "type": "scattercarpet"
           }
          ],
          "scattergeo": [
           {
            "marker": {
             "colorbar": {
              "outlinewidth": 0,
              "ticks": ""
             }
            },
            "type": "scattergeo"
           }
          ],
          "scattergl": [
           {
            "marker": {
             "colorbar": {
              "outlinewidth": 0,
              "ticks": ""
             }
            },
            "type": "scattergl"
           }
          ],
          "scattermapbox": [
           {
            "marker": {
             "colorbar": {
              "outlinewidth": 0,
              "ticks": ""
             }
            },
            "type": "scattermapbox"
           }
          ],
          "scatterpolar": [
           {
            "marker": {
             "colorbar": {
              "outlinewidth": 0,
              "ticks": ""
             }
            },
            "type": "scatterpolar"
           }
          ],
          "scatterpolargl": [
           {
            "marker": {
             "colorbar": {
              "outlinewidth": 0,
              "ticks": ""
             }
            },
            "type": "scatterpolargl"
           }
          ],
          "scatterternary": [
           {
            "marker": {
             "colorbar": {
              "outlinewidth": 0,
              "ticks": ""
             }
            },
            "type": "scatterternary"
           }
          ],
          "surface": [
           {
            "colorbar": {
             "outlinewidth": 0,
             "ticks": ""
            },
            "colorscale": [
             [
              0,
              "#0d0887"
             ],
             [
              0.1111111111111111,
              "#46039f"
             ],
             [
              0.2222222222222222,
              "#7201a8"
             ],
             [
              0.3333333333333333,
              "#9c179e"
             ],
             [
              0.4444444444444444,
              "#bd3786"
             ],
             [
              0.5555555555555556,
              "#d8576b"
             ],
             [
              0.6666666666666666,
              "#ed7953"
             ],
             [
              0.7777777777777778,
              "#fb9f3a"
             ],
             [
              0.8888888888888888,
              "#fdca26"
             ],
             [
              1,
              "#f0f921"
             ]
            ],
            "type": "surface"
           }
          ],
          "table": [
           {
            "cells": {
             "fill": {
              "color": "#EBF0F8"
             },
             "line": {
              "color": "white"
             }
            },
            "header": {
             "fill": {
              "color": "#C8D4E3"
             },
             "line": {
              "color": "white"
             }
            },
            "type": "table"
           }
          ]
         },
         "layout": {
          "annotationdefaults": {
           "arrowcolor": "#2a3f5f",
           "arrowhead": 0,
           "arrowwidth": 1
          },
          "autotypenumbers": "strict",
          "coloraxis": {
           "colorbar": {
            "outlinewidth": 0,
            "ticks": ""
           }
          },
          "colorscale": {
           "diverging": [
            [
             0,
             "#8e0152"
            ],
            [
             0.1,
             "#c51b7d"
            ],
            [
             0.2,
             "#de77ae"
            ],
            [
             0.3,
             "#f1b6da"
            ],
            [
             0.4,
             "#fde0ef"
            ],
            [
             0.5,
             "#f7f7f7"
            ],
            [
             0.6,
             "#e6f5d0"
            ],
            [
             0.7,
             "#b8e186"
            ],
            [
             0.8,
             "#7fbc41"
            ],
            [
             0.9,
             "#4d9221"
            ],
            [
             1,
             "#276419"
            ]
           ],
           "sequential": [
            [
             0,
             "#0d0887"
            ],
            [
             0.1111111111111111,
             "#46039f"
            ],
            [
             0.2222222222222222,
             "#7201a8"
            ],
            [
             0.3333333333333333,
             "#9c179e"
            ],
            [
             0.4444444444444444,
             "#bd3786"
            ],
            [
             0.5555555555555556,
             "#d8576b"
            ],
            [
             0.6666666666666666,
             "#ed7953"
            ],
            [
             0.7777777777777778,
             "#fb9f3a"
            ],
            [
             0.8888888888888888,
             "#fdca26"
            ],
            [
             1,
             "#f0f921"
            ]
           ],
           "sequentialminus": [
            [
             0,
             "#0d0887"
            ],
            [
             0.1111111111111111,
             "#46039f"
            ],
            [
             0.2222222222222222,
             "#7201a8"
            ],
            [
             0.3333333333333333,
             "#9c179e"
            ],
            [
             0.4444444444444444,
             "#bd3786"
            ],
            [
             0.5555555555555556,
             "#d8576b"
            ],
            [
             0.6666666666666666,
             "#ed7953"
            ],
            [
             0.7777777777777778,
             "#fb9f3a"
            ],
            [
             0.8888888888888888,
             "#fdca26"
            ],
            [
             1,
             "#f0f921"
            ]
           ]
          },
          "colorway": [
           "#636efa",
           "#EF553B",
           "#00cc96",
           "#ab63fa",
           "#FFA15A",
           "#19d3f3",
           "#FF6692",
           "#B6E880",
           "#FF97FF",
           "#FECB52"
          ],
          "font": {
           "color": "#2a3f5f"
          },
          "geo": {
           "bgcolor": "white",
           "lakecolor": "white",
           "landcolor": "#E5ECF6",
           "showlakes": true,
           "showland": true,
           "subunitcolor": "white"
          },
          "hoverlabel": {
           "align": "left"
          },
          "hovermode": "closest",
          "mapbox": {
           "style": "light"
          },
          "paper_bgcolor": "white",
          "plot_bgcolor": "#E5ECF6",
          "polar": {
           "angularaxis": {
            "gridcolor": "white",
            "linecolor": "white",
            "ticks": ""
           },
           "bgcolor": "#E5ECF6",
           "radialaxis": {
            "gridcolor": "white",
            "linecolor": "white",
            "ticks": ""
           }
          },
          "scene": {
           "xaxis": {
            "backgroundcolor": "#E5ECF6",
            "gridcolor": "white",
            "gridwidth": 2,
            "linecolor": "white",
            "showbackground": true,
            "ticks": "",
            "zerolinecolor": "white"
           },
           "yaxis": {
            "backgroundcolor": "#E5ECF6",
            "gridcolor": "white",
            "gridwidth": 2,
            "linecolor": "white",
            "showbackground": true,
            "ticks": "",
            "zerolinecolor": "white"
           },
           "zaxis": {
            "backgroundcolor": "#E5ECF6",
            "gridcolor": "white",
            "gridwidth": 2,
            "linecolor": "white",
            "showbackground": true,
            "ticks": "",
            "zerolinecolor": "white"
           }
          },
          "shapedefaults": {
           "line": {
            "color": "#2a3f5f"
           }
          },
          "ternary": {
           "aaxis": {
            "gridcolor": "white",
            "linecolor": "white",
            "ticks": ""
           },
           "baxis": {
            "gridcolor": "white",
            "linecolor": "white",
            "ticks": ""
           },
           "bgcolor": "#E5ECF6",
           "caxis": {
            "gridcolor": "white",
            "linecolor": "white",
            "ticks": ""
           }
          },
          "title": {
           "x": 0.05
          },
          "xaxis": {
           "automargin": true,
           "gridcolor": "white",
           "linecolor": "white",
           "ticks": "",
           "title": {
            "standoff": 15
           },
           "zerolinecolor": "white",
           "zerolinewidth": 2
          },
          "yaxis": {
           "automargin": true,
           "gridcolor": "white",
           "linecolor": "white",
           "ticks": "",
           "title": {
            "standoff": 15
           },
           "zerolinecolor": "white",
           "zerolinewidth": 2
          }
         }
        },
        "title": {
         "text": "E-commerce Purchase Funnel"
        }
       }
      }
     },
     "metadata": {},
     "output_type": "display_data"
    },
    {
     "name": "stdout",
     "output_type": "stream",
     "text": [
      "📊 FUNNEL METRICS:\n",
      "====================\n",
      "👀 Viewers: 5,491 users (100.0%)\n",
      "🛒 Added to Cart: 130 users (2.4% of viewers)\n",
      "💰 Purchased: 194 users (149.2% of cart users)\n",
      "🎯 Overall Conversion Rate: 3.53%\n",
      "\n",
      "📈 CONVERSION BY CATEGORY:\n",
      "==============================\n",
      "  accessories: 0.53% (2/374)\n",
      "  apparel: 0.32% (6/1,886)\n",
      "  appliances: 0.66% (32/4,844)\n",
      "  auto: 0.25% (2/796)\n",
      "  computers: 0.61% (16/2,643)\n",
      "  construction: 0.89% (10/1,118)\n",
      "  country_yard: 0.00% (0/8)\n",
      "  electronics: 1.60% (256/15,976)\n",
      "  furniture: 0.35% (10/2,881)\n",
      "  kids: 0.00% (0/642)\n",
      "  medicine: 0.00% (0/6)\n",
      "  sport: 0.00% (0/270)\n",
      "\n",
      "⏱️ TIME TO CONVERSION ANALYSIS:\n",
      "===================================\n",
      "🕐 Average Time to Convert: 0.2 hours\n",
      "🕐 Median Time to Convert: 0.1 hours\n",
      "⚡ Quick Converters (<1h): 188 (96.9%)\n",
      "📅 Same Day Converters: 194 (100.0%)\n",
      "👀 Viewers: 5,491 users (100.0%)\n",
      "🛒 Added to Cart: 130 users (2.4% of viewers)\n",
      "💰 Purchased: 194 users (149.2% of cart users)\n",
      "🎯 Overall Conversion Rate: 3.53%\n",
      "\n",
      "📈 CONVERSION BY CATEGORY:\n",
      "==============================\n",
      "  accessories: 0.53% (2/374)\n",
      "  apparel: 0.32% (6/1,886)\n",
      "  appliances: 0.66% (32/4,844)\n",
      "  auto: 0.25% (2/796)\n",
      "  computers: 0.61% (16/2,643)\n",
      "  construction: 0.89% (10/1,118)\n",
      "  country_yard: 0.00% (0/8)\n",
      "  electronics: 1.60% (256/15,976)\n",
      "  furniture: 0.35% (10/2,881)\n",
      "  kids: 0.00% (0/642)\n",
      "  medicine: 0.00% (0/6)\n",
      "  sport: 0.00% (0/270)\n",
      "\n",
      "⏱️ TIME TO CONVERSION ANALYSIS:\n",
      "===================================\n",
      "🕐 Average Time to Convert: 0.2 hours\n",
      "🕐 Median Time to Convert: 0.1 hours\n",
      "⚡ Quick Converters (<1h): 188 (96.9%)\n",
      "📅 Same Day Converters: 194 (100.0%)\n"
     ]
    }
   ],
   "source": [
    "def analyze_purchase_funnel(df):\n",
    "    \"\"\"\n",
    "    Comprehensive purchase funnel analysis\n",
    "    \"\"\"\n",
    "    if df is None:\n",
    "        return\n",
    "    \n",
    "    print(\"🛒 PURCHASE FUNNEL ANALYSIS\")\n",
    "    print(\"=\" * 40)\n",
    "    \n",
    "    # Define funnel stages\n",
    "    funnel_stages = ['view', 'cart', 'purchase']\n",
    "    \n",
    "    # Calculate funnel metrics\n",
    "    funnel_data = df['event_type'].value_counts()\n",
    "    \n",
    "    # Create funnel visualization\n",
    "    fig = go.Figure()\n",
    "    \n",
    "    # Funnel chart\n",
    "    funnel_values = []\n",
    "    funnel_labels = []\n",
    "    \n",
    "    for stage in funnel_stages:\n",
    "        if stage in funnel_data.index:\n",
    "            funnel_values.append(funnel_data[stage])\n",
    "            funnel_labels.append(f\"{stage.title()}\")\n",
    "        else:\n",
    "            funnel_values.append(0)\n",
    "            funnel_labels.append(f\"{stage.title()}\")\n",
    "    \n",
    "    fig.add_trace(go.Funnel(\n",
    "        y=funnel_labels,\n",
    "        x=funnel_values,\n",
    "        textposition=\"inside\",\n",
    "        textinfo=\"value+percent initial\",\n",
    "        opacity=0.65,\n",
    "        marker={\"color\": [\"deepskyblue\", \"lightsalmon\", \"lightgreen\"],\n",
    "                \"line\": {\"width\": [4, 2, 2], \"color\": [\"wheat\", \"wheat\", \"wheat\"]}},\n",
    "        connector={\"line\": {\"color\": \"royalblue\", \"dash\": \"dot\", \"width\": 3}}\n",
    "    ))\n",
    "    \n",
    "    fig.update_layout(title=\"E-commerce Purchase Funnel\", height=500)\n",
    "    fig.show()\n",
    "    \n",
    "    # Calculate conversion rates\n",
    "    print(\"📊 FUNNEL METRICS:\")\n",
    "    print(\"=\" * 20)\n",
    "    \n",
    "    total_users = df['user_id'].nunique()\n",
    "    \n",
    "    # User-based funnel\n",
    "    user_funnel = df.groupby('user_id')['event_type'].apply(lambda x: x.unique()).reset_index()\n",
    "    \n",
    "    viewers = user_funnel[user_funnel['event_type'].apply(lambda x: 'view' in x)]['user_id'].nunique()\n",
    "    cart_users = user_funnel[user_funnel['event_type'].apply(lambda x: 'cart' in x)]['user_id'].nunique()\n",
    "    purchasers = user_funnel[user_funnel['event_type'].apply(lambda x: 'purchase' in x)]['user_id'].nunique()\n",
    "    \n",
    "    print(f\"👀 Viewers: {viewers:,} users ({viewers/total_users*100:.1f}%)\")\n",
    "    print(f\"🛒 Added to Cart: {cart_users:,} users ({cart_users/viewers*100:.1f}% of viewers)\")\n",
    "    print(f\"💰 Purchased: {purchasers:,} users ({purchasers/cart_users*100:.1f}% of cart users)\")\n",
    "    \n",
    "    # Overall conversion rate\n",
    "    if viewers > 0:\n",
    "        overall_conversion = purchasers / viewers * 100\n",
    "        print(f\"🎯 Overall Conversion Rate: {overall_conversion:.2f}%\")\n",
    "    \n",
    "    # Analyze funnel by category\n",
    "    if 'main_category' in df.columns:\n",
    "        print(f\"\\n📈 CONVERSION BY CATEGORY:\")\n",
    "        print(\"=\" * 30)\n",
    "        \n",
    "        category_funnel = df.groupby(['main_category', 'event_type']).size().unstack(fill_value=0)\n",
    "        \n",
    "        # Calculate conversion rates by category\n",
    "        for category in category_funnel.index:\n",
    "            if category != 'unknown':\n",
    "                views = category_funnel.loc[category, 'view'] if 'view' in category_funnel.columns else 0\n",
    "                purchases = category_funnel.loc[category, 'purchase'] if 'purchase' in category_funnel.columns else 0\n",
    "                \n",
    "                if views > 0:\n",
    "                    conv_rate = purchases / views * 100\n",
    "                    print(f\"  {category}: {conv_rate:.2f}% ({purchases:,}/{views:,})\")\n",
    "    \n",
    "    # Time to conversion analysis\n",
    "    print(f\"\\n⏱️ TIME TO CONVERSION ANALYSIS:\")\n",
    "    print(\"=\" * 35)\n",
    "    \n",
    "    # Find users who both viewed and purchased\n",
    "    user_events = df.groupby('user_id').agg({\n",
    "        'event_time': ['min', 'max'],\n",
    "        'event_type': lambda x: set(x)\n",
    "    }).reset_index()\n",
    "    \n",
    "    user_events.columns = ['user_id', 'first_event', 'last_event', 'event_types']\n",
    "    \n",
    "    # Users who converted (viewed and purchased)\n",
    "    converters = user_events[\n",
    "        user_events['event_types'].apply(lambda x: 'view' in x and 'purchase' in x)\n",
    "    ]\n",
    "    \n",
    "    if len(converters) > 0:\n",
    "        converters['time_to_convert'] = (converters['last_event'] - converters['first_event']).dt.total_seconds() / 3600  # hours\n",
    "        \n",
    "        avg_time_to_convert = converters['time_to_convert'].mean()\n",
    "        median_time_to_convert = converters['time_to_convert'].median()\n",
    "        \n",
    "        print(f\"🕐 Average Time to Convert: {avg_time_to_convert:.1f} hours\")\n",
    "        print(f\"🕐 Median Time to Convert: {median_time_to_convert:.1f} hours\")\n",
    "        \n",
    "        # Distribution of conversion times\n",
    "        quick_converters = (converters['time_to_convert'] < 1).sum()  # < 1 hour\n",
    "        same_day = (converters['time_to_convert'] < 24).sum()  # < 24 hours\n",
    "        \n",
    "        print(f\"⚡ Quick Converters (<1h): {quick_converters:,} ({quick_converters/len(converters)*100:.1f}%)\")\n",
    "        print(f\"📅 Same Day Converters: {same_day:,} ({same_day/len(converters)*100:.1f}%)\")\n",
    "\n",
    "# Run funnel analysis\n",
    "if df_clean is not None:\n",
    "    analyze_purchase_funnel(df_clean)"
   ]
  },
  {
   "cell_type": "markdown",
   "id": "c018b259",
   "metadata": {},
   "source": [
    "## 5. User Behavior Segmentation\n",
    "\n",
    "Identify distinct user segments based on their behavioral patterns using machine learning clustering techniques."
   ]
  },
  {
   "cell_type": "code",
   "execution_count": 71,
   "id": "c872b794",
   "metadata": {},
   "outputs": [
    {
     "name": "stdout",
     "output_type": "stream",
     "text": [
      "👥 USER BEHAVIOR SEGMENTATION\n",
      "========================================\n",
      "📊 User Features Shape: (5493, 15)\n",
      "👥 Total Users: 5,493\n",
      "📊 User Features Shape: (5493, 15)\n",
      "👥 Total Users: 5,493\n"
     ]
    },
    {
     "data": {
      "application/vnd.plotly.v1+json": {
       "config": {
        "plotlyServerURL": "https://plot.ly"
       },
       "data": [
        {
         "mode": "lines+markers",
         "name": "Inertia",
         "type": "scatter",
         "x": [
          2,
          3,
          4,
          5,
          6,
          7
         ],
         "y": [
          38557.377527844306,
          30910.680587892453,
          27131.672669890995,
          24105.949772952725,
          21540.77957154134,
          19431.962313943397
         ]
        }
       ],
       "layout": {
        "template": {
         "data": {
          "bar": [
           {
            "error_x": {
             "color": "#2a3f5f"
            },
            "error_y": {
             "color": "#2a3f5f"
            },
            "marker": {
             "line": {
              "color": "#E5ECF6",
              "width": 0.5
             },
             "pattern": {
              "fillmode": "overlay",
              "size": 10,
              "solidity": 0.2
             }
            },
            "type": "bar"
           }
          ],
          "barpolar": [
           {
            "marker": {
             "line": {
              "color": "#E5ECF6",
              "width": 0.5
             },
             "pattern": {
              "fillmode": "overlay",
              "size": 10,
              "solidity": 0.2
             }
            },
            "type": "barpolar"
           }
          ],
          "carpet": [
           {
            "aaxis": {
             "endlinecolor": "#2a3f5f",
             "gridcolor": "white",
             "linecolor": "white",
             "minorgridcolor": "white",
             "startlinecolor": "#2a3f5f"
            },
            "baxis": {
             "endlinecolor": "#2a3f5f",
             "gridcolor": "white",
             "linecolor": "white",
             "minorgridcolor": "white",
             "startlinecolor": "#2a3f5f"
            },
            "type": "carpet"
           }
          ],
          "choropleth": [
           {
            "colorbar": {
             "outlinewidth": 0,
             "ticks": ""
            },
            "type": "choropleth"
           }
          ],
          "contour": [
           {
            "colorbar": {
             "outlinewidth": 0,
             "ticks": ""
            },
            "colorscale": [
             [
              0,
              "#0d0887"
             ],
             [
              0.1111111111111111,
              "#46039f"
             ],
             [
              0.2222222222222222,
              "#7201a8"
             ],
             [
              0.3333333333333333,
              "#9c179e"
             ],
             [
              0.4444444444444444,
              "#bd3786"
             ],
             [
              0.5555555555555556,
              "#d8576b"
             ],
             [
              0.6666666666666666,
              "#ed7953"
             ],
             [
              0.7777777777777778,
              "#fb9f3a"
             ],
             [
              0.8888888888888888,
              "#fdca26"
             ],
             [
              1,
              "#f0f921"
             ]
            ],
            "type": "contour"
           }
          ],
          "contourcarpet": [
           {
            "colorbar": {
             "outlinewidth": 0,
             "ticks": ""
            },
            "type": "contourcarpet"
           }
          ],
          "heatmap": [
           {
            "colorbar": {
             "outlinewidth": 0,
             "ticks": ""
            },
            "colorscale": [
             [
              0,
              "#0d0887"
             ],
             [
              0.1111111111111111,
              "#46039f"
             ],
             [
              0.2222222222222222,
              "#7201a8"
             ],
             [
              0.3333333333333333,
              "#9c179e"
             ],
             [
              0.4444444444444444,
              "#bd3786"
             ],
             [
              0.5555555555555556,
              "#d8576b"
             ],
             [
              0.6666666666666666,
              "#ed7953"
             ],
             [
              0.7777777777777778,
              "#fb9f3a"
             ],
             [
              0.8888888888888888,
              "#fdca26"
             ],
             [
              1,
              "#f0f921"
             ]
            ],
            "type": "heatmap"
           }
          ],
          "heatmapgl": [
           {
            "colorbar": {
             "outlinewidth": 0,
             "ticks": ""
            },
            "colorscale": [
             [
              0,
              "#0d0887"
             ],
             [
              0.1111111111111111,
              "#46039f"
             ],
             [
              0.2222222222222222,
              "#7201a8"
             ],
             [
              0.3333333333333333,
              "#9c179e"
             ],
             [
              0.4444444444444444,
              "#bd3786"
             ],
             [
              0.5555555555555556,
              "#d8576b"
             ],
             [
              0.6666666666666666,
              "#ed7953"
             ],
             [
              0.7777777777777778,
              "#fb9f3a"
             ],
             [
              0.8888888888888888,
              "#fdca26"
             ],
             [
              1,
              "#f0f921"
             ]
            ],
            "type": "heatmapgl"
           }
          ],
          "histogram": [
           {
            "marker": {
             "pattern": {
              "fillmode": "overlay",
              "size": 10,
              "solidity": 0.2
             }
            },
            "type": "histogram"
           }
          ],
          "histogram2d": [
           {
            "colorbar": {
             "outlinewidth": 0,
             "ticks": ""
            },
            "colorscale": [
             [
              0,
              "#0d0887"
             ],
             [
              0.1111111111111111,
              "#46039f"
             ],
             [
              0.2222222222222222,
              "#7201a8"
             ],
             [
              0.3333333333333333,
              "#9c179e"
             ],
             [
              0.4444444444444444,
              "#bd3786"
             ],
             [
              0.5555555555555556,
              "#d8576b"
             ],
             [
              0.6666666666666666,
              "#ed7953"
             ],
             [
              0.7777777777777778,
              "#fb9f3a"
             ],
             [
              0.8888888888888888,
              "#fdca26"
             ],
             [
              1,
              "#f0f921"
             ]
            ],
            "type": "histogram2d"
           }
          ],
          "histogram2dcontour": [
           {
            "colorbar": {
             "outlinewidth": 0,
             "ticks": ""
            },
            "colorscale": [
             [
              0,
              "#0d0887"
             ],
             [
              0.1111111111111111,
              "#46039f"
             ],
             [
              0.2222222222222222,
              "#7201a8"
             ],
             [
              0.3333333333333333,
              "#9c179e"
             ],
             [
              0.4444444444444444,
              "#bd3786"
             ],
             [
              0.5555555555555556,
              "#d8576b"
             ],
             [
              0.6666666666666666,
              "#ed7953"
             ],
             [
              0.7777777777777778,
              "#fb9f3a"
             ],
             [
              0.8888888888888888,
              "#fdca26"
             ],
             [
              1,
              "#f0f921"
             ]
            ],
            "type": "histogram2dcontour"
           }
          ],
          "mesh3d": [
           {
            "colorbar": {
             "outlinewidth": 0,
             "ticks": ""
            },
            "type": "mesh3d"
           }
          ],
          "parcoords": [
           {
            "line": {
             "colorbar": {
              "outlinewidth": 0,
              "ticks": ""
             }
            },
            "type": "parcoords"
           }
          ],
          "pie": [
           {
            "automargin": true,
            "type": "pie"
           }
          ],
          "scatter": [
           {
            "fillpattern": {
             "fillmode": "overlay",
             "size": 10,
             "solidity": 0.2
            },
            "type": "scatter"
           }
          ],
          "scatter3d": [
           {
            "line": {
             "colorbar": {
              "outlinewidth": 0,
              "ticks": ""
             }
            },
            "marker": {
             "colorbar": {
              "outlinewidth": 0,
              "ticks": ""
             }
            },
            "type": "scatter3d"
           }
          ],
          "scattercarpet": [
           {
            "marker": {
             "colorbar": {
              "outlinewidth": 0,
              "ticks": ""
             }
            },
            "type": "scattercarpet"
           }
          ],
          "scattergeo": [
           {
            "marker": {
             "colorbar": {
              "outlinewidth": 0,
              "ticks": ""
             }
            },
            "type": "scattergeo"
           }
          ],
          "scattergl": [
           {
            "marker": {
             "colorbar": {
              "outlinewidth": 0,
              "ticks": ""
             }
            },
            "type": "scattergl"
           }
          ],
          "scattermapbox": [
           {
            "marker": {
             "colorbar": {
              "outlinewidth": 0,
              "ticks": ""
             }
            },
            "type": "scattermapbox"
           }
          ],
          "scatterpolar": [
           {
            "marker": {
             "colorbar": {
              "outlinewidth": 0,
              "ticks": ""
             }
            },
            "type": "scatterpolar"
           }
          ],
          "scatterpolargl": [
           {
            "marker": {
             "colorbar": {
              "outlinewidth": 0,
              "ticks": ""
             }
            },
            "type": "scatterpolargl"
           }
          ],
          "scatterternary": [
           {
            "marker": {
             "colorbar": {
              "outlinewidth": 0,
              "ticks": ""
             }
            },
            "type": "scatterternary"
           }
          ],
          "surface": [
           {
            "colorbar": {
             "outlinewidth": 0,
             "ticks": ""
            },
            "colorscale": [
             [
              0,
              "#0d0887"
             ],
             [
              0.1111111111111111,
              "#46039f"
             ],
             [
              0.2222222222222222,
              "#7201a8"
             ],
             [
              0.3333333333333333,
              "#9c179e"
             ],
             [
              0.4444444444444444,
              "#bd3786"
             ],
             [
              0.5555555555555556,
              "#d8576b"
             ],
             [
              0.6666666666666666,
              "#ed7953"
             ],
             [
              0.7777777777777778,
              "#fb9f3a"
             ],
             [
              0.8888888888888888,
              "#fdca26"
             ],
             [
              1,
              "#f0f921"
             ]
            ],
            "type": "surface"
           }
          ],
          "table": [
           {
            "cells": {
             "fill": {
              "color": "#EBF0F8"
             },
             "line": {
              "color": "white"
             }
            },
            "header": {
             "fill": {
              "color": "#C8D4E3"
             },
             "line": {
              "color": "white"
             }
            },
            "type": "table"
           }
          ]
         },
         "layout": {
          "annotationdefaults": {
           "arrowcolor": "#2a3f5f",
           "arrowhead": 0,
           "arrowwidth": 1
          },
          "autotypenumbers": "strict",
          "coloraxis": {
           "colorbar": {
            "outlinewidth": 0,
            "ticks": ""
           }
          },
          "colorscale": {
           "diverging": [
            [
             0,
             "#8e0152"
            ],
            [
             0.1,
             "#c51b7d"
            ],
            [
             0.2,
             "#de77ae"
            ],
            [
             0.3,
             "#f1b6da"
            ],
            [
             0.4,
             "#fde0ef"
            ],
            [
             0.5,
             "#f7f7f7"
            ],
            [
             0.6,
             "#e6f5d0"
            ],
            [
             0.7,
             "#b8e186"
            ],
            [
             0.8,
             "#7fbc41"
            ],
            [
             0.9,
             "#4d9221"
            ],
            [
             1,
             "#276419"
            ]
           ],
           "sequential": [
            [
             0,
             "#0d0887"
            ],
            [
             0.1111111111111111,
             "#46039f"
            ],
            [
             0.2222222222222222,
             "#7201a8"
            ],
            [
             0.3333333333333333,
             "#9c179e"
            ],
            [
             0.4444444444444444,
             "#bd3786"
            ],
            [
             0.5555555555555556,
             "#d8576b"
            ],
            [
             0.6666666666666666,
             "#ed7953"
            ],
            [
             0.7777777777777778,
             "#fb9f3a"
            ],
            [
             0.8888888888888888,
             "#fdca26"
            ],
            [
             1,
             "#f0f921"
            ]
           ],
           "sequentialminus": [
            [
             0,
             "#0d0887"
            ],
            [
             0.1111111111111111,
             "#46039f"
            ],
            [
             0.2222222222222222,
             "#7201a8"
            ],
            [
             0.3333333333333333,
             "#9c179e"
            ],
            [
             0.4444444444444444,
             "#bd3786"
            ],
            [
             0.5555555555555556,
             "#d8576b"
            ],
            [
             0.6666666666666666,
             "#ed7953"
            ],
            [
             0.7777777777777778,
             "#fb9f3a"
            ],
            [
             0.8888888888888888,
             "#fdca26"
            ],
            [
             1,
             "#f0f921"
            ]
           ]
          },
          "colorway": [
           "#636efa",
           "#EF553B",
           "#00cc96",
           "#ab63fa",
           "#FFA15A",
           "#19d3f3",
           "#FF6692",
           "#B6E880",
           "#FF97FF",
           "#FECB52"
          ],
          "font": {
           "color": "#2a3f5f"
          },
          "geo": {
           "bgcolor": "white",
           "lakecolor": "white",
           "landcolor": "#E5ECF6",
           "showlakes": true,
           "showland": true,
           "subunitcolor": "white"
          },
          "hoverlabel": {
           "align": "left"
          },
          "hovermode": "closest",
          "mapbox": {
           "style": "light"
          },
          "paper_bgcolor": "white",
          "plot_bgcolor": "#E5ECF6",
          "polar": {
           "angularaxis": {
            "gridcolor": "white",
            "linecolor": "white",
            "ticks": ""
           },
           "bgcolor": "#E5ECF6",
           "radialaxis": {
            "gridcolor": "white",
            "linecolor": "white",
            "ticks": ""
           }
          },
          "scene": {
           "xaxis": {
            "backgroundcolor": "#E5ECF6",
            "gridcolor": "white",
            "gridwidth": 2,
            "linecolor": "white",
            "showbackground": true,
            "ticks": "",
            "zerolinecolor": "white"
           },
           "yaxis": {
            "backgroundcolor": "#E5ECF6",
            "gridcolor": "white",
            "gridwidth": 2,
            "linecolor": "white",
            "showbackground": true,
            "ticks": "",
            "zerolinecolor": "white"
           },
           "zaxis": {
            "backgroundcolor": "#E5ECF6",
            "gridcolor": "white",
            "gridwidth": 2,
            "linecolor": "white",
            "showbackground": true,
            "ticks": "",
            "zerolinecolor": "white"
           }
          },
          "shapedefaults": {
           "line": {
            "color": "#2a3f5f"
           }
          },
          "ternary": {
           "aaxis": {
            "gridcolor": "white",
            "linecolor": "white",
            "ticks": ""
           },
           "baxis": {
            "gridcolor": "white",
            "linecolor": "white",
            "ticks": ""
           },
           "bgcolor": "#E5ECF6",
           "caxis": {
            "gridcolor": "white",
            "linecolor": "white",
            "ticks": ""
           }
          },
          "title": {
           "x": 0.05
          },
          "xaxis": {
           "automargin": true,
           "gridcolor": "white",
           "linecolor": "white",
           "ticks": "",
           "title": {
            "standoff": 15
           },
           "zerolinecolor": "white",
           "zerolinewidth": 2
          },
          "yaxis": {
           "automargin": true,
           "gridcolor": "white",
           "linecolor": "white",
           "ticks": "",
           "title": {
            "standoff": 15
           },
           "zerolinecolor": "white",
           "zerolinewidth": 2
          }
         }
        },
        "title": {
         "text": "Elbow Method for Optimal Clusters"
        },
        "xaxis": {
         "title": {
          "text": "Number of Clusters"
         }
        },
        "yaxis": {
         "title": {
          "text": "Inertia"
         }
        }
       }
      }
     },
     "metadata": {},
     "output_type": "display_data"
    },
    {
     "name": "stdout",
     "output_type": "stream",
     "text": [
      "\n",
      "🎯 USER SEGMENTS ANALYSIS:\n",
      "==============================\n",
      "\n",
      "📊 Segment 0:\n",
      "  Size: 693 users (12.6%)\n",
      "  Avg Views: 6.4\n",
      "  Avg Purchases: 0.01\n",
      "  Total Revenue: $4,153,416.58\n",
      "  Conversion Rate: 0.04%\n",
      "  Avg Order Value: $5930.67\n",
      "  Avg Products Viewed: 2.2\n",
      "\n",
      "📊 Segment 1:\n",
      "  Size: 572 users (10.4%)\n",
      "  Avg Views: 34.0\n",
      "  Avg Purchases: 0.09\n",
      "  Total Revenue: $5,502,826.48\n",
      "  Conversion Rate: 0.25%\n",
      "  Avg Order Value: $9331.99\n",
      "  Avg Products Viewed: 11.1\n",
      "\n",
      "📊 Segment 2:\n",
      "  Size: 4,058 users (73.9%)\n",
      "  Avg Views: 5.8\n",
      "  Avg Purchases: 0.00\n",
      "  Total Revenue: $4,249,119.63\n",
      "  Conversion Rate: 0.00%\n",
      "  Avg Order Value: $1046.73\n",
      "  Avg Products Viewed: 2.1\n",
      "\n",
      "📊 Segment 3:\n",
      "  Size: 170 users (3.1%)\n",
      "  Avg Views: 9.0\n",
      "  Avg Purchases: 2.42\n",
      "  Total Revenue: $678,288.96\n",
      "  Conversion Rate: 41.03%\n",
      "  Avg Order Value: $1567.81\n",
      "  Avg Products Viewed: 2.4\n"
     ]
    },
    {
     "data": {
      "application/vnd.plotly.v1+json": {
       "config": {
        "plotlyServerURL": "https://plot.ly"
       },
       "data": [
        {
         "domain": {
          "x": [
           0,
           0.45
          ],
          "y": [
           0.625,
           1
          ]
         },
         "labels": [
          "Segment 0",
          "Segment 1",
          "Segment 2",
          "Segment 3"
         ],
         "name": "Segment Sizes",
         "type": "pie",
         "values": [
          693,
          572,
          4058,
          170
         ]
        },
        {
         "name": "Revenue",
         "type": "bar",
         "x": [
          "Segment 0",
          "Segment 1",
          "Segment 2",
          "Segment 3"
         ],
         "xaxis": "x",
         "y": [
          4153416.58,
          5502826.48,
          4249119.630000001,
          678288.9600000001
         ],
         "yaxis": "y"
        },
        {
         "name": "Conversion Rate %",
         "type": "bar",
         "x": [
          "Segment 0",
          "Segment 1",
          "Segment 2",
          "Segment 3"
         ],
         "xaxis": "x2",
         "y": [
          0.043581558733073886,
          0.2454214734020526,
          0.0022402437385187508,
          41.0295586766175
         ],
         "yaxis": "y2"
        },
        {
         "name": "AOV",
         "type": "bar",
         "x": [
          "Segment 0",
          "Segment 1",
          "Segment 2",
          "Segment 3"
         ],
         "xaxis": "x3",
         "y": [
          5930.671096681097,
          9331.989055944056,
          1046.727629374076,
          1567.809891876751
         ],
         "yaxis": "y3"
        }
       ],
       "layout": {
        "annotations": [
         {
          "font": {
           "size": 16
          },
          "showarrow": false,
          "text": "Segment Sizes",
          "x": 0.225,
          "xanchor": "center",
          "xref": "paper",
          "y": 1,
          "yanchor": "bottom",
          "yref": "paper"
         },
         {
          "font": {
           "size": 16
          },
          "showarrow": false,
          "text": "Revenue by Segment",
          "x": 0.775,
          "xanchor": "center",
          "xref": "paper",
          "y": 1,
          "yanchor": "bottom",
          "yref": "paper"
         },
         {
          "font": {
           "size": 16
          },
          "showarrow": false,
          "text": "Conversion Rates",
          "x": 0.225,
          "xanchor": "center",
          "xref": "paper",
          "y": 0.375,
          "yanchor": "bottom",
          "yref": "paper"
         },
         {
          "font": {
           "size": 16
          },
          "showarrow": false,
          "text": "Average Order Values",
          "x": 0.775,
          "xanchor": "center",
          "xref": "paper",
          "y": 0.375,
          "yanchor": "bottom",
          "yref": "paper"
         }
        ],
        "height": 700,
        "template": {
         "data": {
          "bar": [
           {
            "error_x": {
             "color": "#2a3f5f"
            },
            "error_y": {
             "color": "#2a3f5f"
            },
            "marker": {
             "line": {
              "color": "#E5ECF6",
              "width": 0.5
             },
             "pattern": {
              "fillmode": "overlay",
              "size": 10,
              "solidity": 0.2
             }
            },
            "type": "bar"
           }
          ],
          "barpolar": [
           {
            "marker": {
             "line": {
              "color": "#E5ECF6",
              "width": 0.5
             },
             "pattern": {
              "fillmode": "overlay",
              "size": 10,
              "solidity": 0.2
             }
            },
            "type": "barpolar"
           }
          ],
          "carpet": [
           {
            "aaxis": {
             "endlinecolor": "#2a3f5f",
             "gridcolor": "white",
             "linecolor": "white",
             "minorgridcolor": "white",
             "startlinecolor": "#2a3f5f"
            },
            "baxis": {
             "endlinecolor": "#2a3f5f",
             "gridcolor": "white",
             "linecolor": "white",
             "minorgridcolor": "white",
             "startlinecolor": "#2a3f5f"
            },
            "type": "carpet"
           }
          ],
          "choropleth": [
           {
            "colorbar": {
             "outlinewidth": 0,
             "ticks": ""
            },
            "type": "choropleth"
           }
          ],
          "contour": [
           {
            "colorbar": {
             "outlinewidth": 0,
             "ticks": ""
            },
            "colorscale": [
             [
              0,
              "#0d0887"
             ],
             [
              0.1111111111111111,
              "#46039f"
             ],
             [
              0.2222222222222222,
              "#7201a8"
             ],
             [
              0.3333333333333333,
              "#9c179e"
             ],
             [
              0.4444444444444444,
              "#bd3786"
             ],
             [
              0.5555555555555556,
              "#d8576b"
             ],
             [
              0.6666666666666666,
              "#ed7953"
             ],
             [
              0.7777777777777778,
              "#fb9f3a"
             ],
             [
              0.8888888888888888,
              "#fdca26"
             ],
             [
              1,
              "#f0f921"
             ]
            ],
            "type": "contour"
           }
          ],
          "contourcarpet": [
           {
            "colorbar": {
             "outlinewidth": 0,
             "ticks": ""
            },
            "type": "contourcarpet"
           }
          ],
          "heatmap": [
           {
            "colorbar": {
             "outlinewidth": 0,
             "ticks": ""
            },
            "colorscale": [
             [
              0,
              "#0d0887"
             ],
             [
              0.1111111111111111,
              "#46039f"
             ],
             [
              0.2222222222222222,
              "#7201a8"
             ],
             [
              0.3333333333333333,
              "#9c179e"
             ],
             [
              0.4444444444444444,
              "#bd3786"
             ],
             [
              0.5555555555555556,
              "#d8576b"
             ],
             [
              0.6666666666666666,
              "#ed7953"
             ],
             [
              0.7777777777777778,
              "#fb9f3a"
             ],
             [
              0.8888888888888888,
              "#fdca26"
             ],
             [
              1,
              "#f0f921"
             ]
            ],
            "type": "heatmap"
           }
          ],
          "heatmapgl": [
           {
            "colorbar": {
             "outlinewidth": 0,
             "ticks": ""
            },
            "colorscale": [
             [
              0,
              "#0d0887"
             ],
             [
              0.1111111111111111,
              "#46039f"
             ],
             [
              0.2222222222222222,
              "#7201a8"
             ],
             [
              0.3333333333333333,
              "#9c179e"
             ],
             [
              0.4444444444444444,
              "#bd3786"
             ],
             [
              0.5555555555555556,
              "#d8576b"
             ],
             [
              0.6666666666666666,
              "#ed7953"
             ],
             [
              0.7777777777777778,
              "#fb9f3a"
             ],
             [
              0.8888888888888888,
              "#fdca26"
             ],
             [
              1,
              "#f0f921"
             ]
            ],
            "type": "heatmapgl"
           }
          ],
          "histogram": [
           {
            "marker": {
             "pattern": {
              "fillmode": "overlay",
              "size": 10,
              "solidity": 0.2
             }
            },
            "type": "histogram"
           }
          ],
          "histogram2d": [
           {
            "colorbar": {
             "outlinewidth": 0,
             "ticks": ""
            },
            "colorscale": [
             [
              0,
              "#0d0887"
             ],
             [
              0.1111111111111111,
              "#46039f"
             ],
             [
              0.2222222222222222,
              "#7201a8"
             ],
             [
              0.3333333333333333,
              "#9c179e"
             ],
             [
              0.4444444444444444,
              "#bd3786"
             ],
             [
              0.5555555555555556,
              "#d8576b"
             ],
             [
              0.6666666666666666,
              "#ed7953"
             ],
             [
              0.7777777777777778,
              "#fb9f3a"
             ],
             [
              0.8888888888888888,
              "#fdca26"
             ],
             [
              1,
              "#f0f921"
             ]
            ],
            "type": "histogram2d"
           }
          ],
          "histogram2dcontour": [
           {
            "colorbar": {
             "outlinewidth": 0,
             "ticks": ""
            },
            "colorscale": [
             [
              0,
              "#0d0887"
             ],
             [
              0.1111111111111111,
              "#46039f"
             ],
             [
              0.2222222222222222,
              "#7201a8"
             ],
             [
              0.3333333333333333,
              "#9c179e"
             ],
             [
              0.4444444444444444,
              "#bd3786"
             ],
             [
              0.5555555555555556,
              "#d8576b"
             ],
             [
              0.6666666666666666,
              "#ed7953"
             ],
             [
              0.7777777777777778,
              "#fb9f3a"
             ],
             [
              0.8888888888888888,
              "#fdca26"
             ],
             [
              1,
              "#f0f921"
             ]
            ],
            "type": "histogram2dcontour"
           }
          ],
          "mesh3d": [
           {
            "colorbar": {
             "outlinewidth": 0,
             "ticks": ""
            },
            "type": "mesh3d"
           }
          ],
          "parcoords": [
           {
            "line": {
             "colorbar": {
              "outlinewidth": 0,
              "ticks": ""
             }
            },
            "type": "parcoords"
           }
          ],
          "pie": [
           {
            "automargin": true,
            "type": "pie"
           }
          ],
          "scatter": [
           {
            "fillpattern": {
             "fillmode": "overlay",
             "size": 10,
             "solidity": 0.2
            },
            "type": "scatter"
           }
          ],
          "scatter3d": [
           {
            "line": {
             "colorbar": {
              "outlinewidth": 0,
              "ticks": ""
             }
            },
            "marker": {
             "colorbar": {
              "outlinewidth": 0,
              "ticks": ""
             }
            },
            "type": "scatter3d"
           }
          ],
          "scattercarpet": [
           {
            "marker": {
             "colorbar": {
              "outlinewidth": 0,
              "ticks": ""
             }
            },
            "type": "scattercarpet"
           }
          ],
          "scattergeo": [
           {
            "marker": {
             "colorbar": {
              "outlinewidth": 0,
              "ticks": ""
             }
            },
            "type": "scattergeo"
           }
          ],
          "scattergl": [
           {
            "marker": {
             "colorbar": {
              "outlinewidth": 0,
              "ticks": ""
             }
            },
            "type": "scattergl"
           }
          ],
          "scattermapbox": [
           {
            "marker": {
             "colorbar": {
              "outlinewidth": 0,
              "ticks": ""
             }
            },
            "type": "scattermapbox"
           }
          ],
          "scatterpolar": [
           {
            "marker": {
             "colorbar": {
              "outlinewidth": 0,
              "ticks": ""
             }
            },
            "type": "scatterpolar"
           }
          ],
          "scatterpolargl": [
           {
            "marker": {
             "colorbar": {
              "outlinewidth": 0,
              "ticks": ""
             }
            },
            "type": "scatterpolargl"
           }
          ],
          "scatterternary": [
           {
            "marker": {
             "colorbar": {
              "outlinewidth": 0,
              "ticks": ""
             }
            },
            "type": "scatterternary"
           }
          ],
          "surface": [
           {
            "colorbar": {
             "outlinewidth": 0,
             "ticks": ""
            },
            "colorscale": [
             [
              0,
              "#0d0887"
             ],
             [
              0.1111111111111111,
              "#46039f"
             ],
             [
              0.2222222222222222,
              "#7201a8"
             ],
             [
              0.3333333333333333,
              "#9c179e"
             ],
             [
              0.4444444444444444,
              "#bd3786"
             ],
             [
              0.5555555555555556,
              "#d8576b"
             ],
             [
              0.6666666666666666,
              "#ed7953"
             ],
             [
              0.7777777777777778,
              "#fb9f3a"
             ],
             [
              0.8888888888888888,
              "#fdca26"
             ],
             [
              1,
              "#f0f921"
             ]
            ],
            "type": "surface"
           }
          ],
          "table": [
           {
            "cells": {
             "fill": {
              "color": "#EBF0F8"
             },
             "line": {
              "color": "white"
             }
            },
            "header": {
             "fill": {
              "color": "#C8D4E3"
             },
             "line": {
              "color": "white"
             }
            },
            "type": "table"
           }
          ]
         },
         "layout": {
          "annotationdefaults": {
           "arrowcolor": "#2a3f5f",
           "arrowhead": 0,
           "arrowwidth": 1
          },
          "autotypenumbers": "strict",
          "coloraxis": {
           "colorbar": {
            "outlinewidth": 0,
            "ticks": ""
           }
          },
          "colorscale": {
           "diverging": [
            [
             0,
             "#8e0152"
            ],
            [
             0.1,
             "#c51b7d"
            ],
            [
             0.2,
             "#de77ae"
            ],
            [
             0.3,
             "#f1b6da"
            ],
            [
             0.4,
             "#fde0ef"
            ],
            [
             0.5,
             "#f7f7f7"
            ],
            [
             0.6,
             "#e6f5d0"
            ],
            [
             0.7,
             "#b8e186"
            ],
            [
             0.8,
             "#7fbc41"
            ],
            [
             0.9,
             "#4d9221"
            ],
            [
             1,
             "#276419"
            ]
           ],
           "sequential": [
            [
             0,
             "#0d0887"
            ],
            [
             0.1111111111111111,
             "#46039f"
            ],
            [
             0.2222222222222222,
             "#7201a8"
            ],
            [
             0.3333333333333333,
             "#9c179e"
            ],
            [
             0.4444444444444444,
             "#bd3786"
            ],
            [
             0.5555555555555556,
             "#d8576b"
            ],
            [
             0.6666666666666666,
             "#ed7953"
            ],
            [
             0.7777777777777778,
             "#fb9f3a"
            ],
            [
             0.8888888888888888,
             "#fdca26"
            ],
            [
             1,
             "#f0f921"
            ]
           ],
           "sequentialminus": [
            [
             0,
             "#0d0887"
            ],
            [
             0.1111111111111111,
             "#46039f"
            ],
            [
             0.2222222222222222,
             "#7201a8"
            ],
            [
             0.3333333333333333,
             "#9c179e"
            ],
            [
             0.4444444444444444,
             "#bd3786"
            ],
            [
             0.5555555555555556,
             "#d8576b"
            ],
            [
             0.6666666666666666,
             "#ed7953"
            ],
            [
             0.7777777777777778,
             "#fb9f3a"
            ],
            [
             0.8888888888888888,
             "#fdca26"
            ],
            [
             1,
             "#f0f921"
            ]
           ]
          },
          "colorway": [
           "#636efa",
           "#EF553B",
           "#00cc96",
           "#ab63fa",
           "#FFA15A",
           "#19d3f3",
           "#FF6692",
           "#B6E880",
           "#FF97FF",
           "#FECB52"
          ],
          "font": {
           "color": "#2a3f5f"
          },
          "geo": {
           "bgcolor": "white",
           "lakecolor": "white",
           "landcolor": "#E5ECF6",
           "showlakes": true,
           "showland": true,
           "subunitcolor": "white"
          },
          "hoverlabel": {
           "align": "left"
          },
          "hovermode": "closest",
          "mapbox": {
           "style": "light"
          },
          "paper_bgcolor": "white",
          "plot_bgcolor": "#E5ECF6",
          "polar": {
           "angularaxis": {
            "gridcolor": "white",
            "linecolor": "white",
            "ticks": ""
           },
           "bgcolor": "#E5ECF6",
           "radialaxis": {
            "gridcolor": "white",
            "linecolor": "white",
            "ticks": ""
           }
          },
          "scene": {
           "xaxis": {
            "backgroundcolor": "#E5ECF6",
            "gridcolor": "white",
            "gridwidth": 2,
            "linecolor": "white",
            "showbackground": true,
            "ticks": "",
            "zerolinecolor": "white"
           },
           "yaxis": {
            "backgroundcolor": "#E5ECF6",
            "gridcolor": "white",
            "gridwidth": 2,
            "linecolor": "white",
            "showbackground": true,
            "ticks": "",
            "zerolinecolor": "white"
           },
           "zaxis": {
            "backgroundcolor": "#E5ECF6",
            "gridcolor": "white",
            "gridwidth": 2,
            "linecolor": "white",
            "showbackground": true,
            "ticks": "",
            "zerolinecolor": "white"
           }
          },
          "shapedefaults": {
           "line": {
            "color": "#2a3f5f"
           }
          },
          "ternary": {
           "aaxis": {
            "gridcolor": "white",
            "linecolor": "white",
            "ticks": ""
           },
           "baxis": {
            "gridcolor": "white",
            "linecolor": "white",
            "ticks": ""
           },
           "bgcolor": "#E5ECF6",
           "caxis": {
            "gridcolor": "white",
            "linecolor": "white",
            "ticks": ""
           }
          },
          "title": {
           "x": 0.05
          },
          "xaxis": {
           "automargin": true,
           "gridcolor": "white",
           "linecolor": "white",
           "ticks": "",
           "title": {
            "standoff": 15
           },
           "zerolinecolor": "white",
           "zerolinewidth": 2
          },
          "yaxis": {
           "automargin": true,
           "gridcolor": "white",
           "linecolor": "white",
           "ticks": "",
           "title": {
            "standoff": 15
           },
           "zerolinecolor": "white",
           "zerolinewidth": 2
          }
         }
        },
        "title": {
         "text": "User Segmentation Analysis"
        },
        "xaxis": {
         "anchor": "y",
         "domain": [
          0.55,
          1
         ]
        },
        "xaxis2": {
         "anchor": "y2",
         "domain": [
          0,
          0.45
         ]
        },
        "xaxis3": {
         "anchor": "y3",
         "domain": [
          0.55,
          1
         ]
        },
        "yaxis": {
         "anchor": "x",
         "domain": [
          0.625,
          1
         ]
        },
        "yaxis2": {
         "anchor": "x2",
         "domain": [
          0,
          0.375
         ]
        },
        "yaxis3": {
         "anchor": "x3",
         "domain": [
          0,
          0.375
         ]
        }
       }
      }
     },
     "metadata": {},
     "output_type": "display_data"
    },
    {
     "name": "stdout",
     "output_type": "stream",
     "text": [
      "\n",
      "🏷️ SEGMENT LABELS:\n",
      "====================\n",
      "Segment 0: Browser/Researcher\n",
      "Segment 1: Casual Shopper\n",
      "Segment 2: VIP Customer\n",
      "Segment 3: Bargain Hunter\n"
     ]
    }
   ],
   "source": [
    "def segment_users_by_behavior(df):\n",
    "    \"\"\"\n",
    "    Advanced user segmentation using behavioral patterns\n",
    "    \"\"\"\n",
    "    if df is None:\n",
    "        return None\n",
    "    \n",
    "    print(\"👥 USER BEHAVIOR SEGMENTATION\")\n",
    "    print(\"=\" * 40)\n",
    "    \n",
    "    # Create user-level features for segmentation\n",
    "    user_features = df.groupby('user_id').agg({\n",
    "        'event_type': [\n",
    "            lambda x: (x == 'view').sum(),\n",
    "            lambda x: (x == 'cart').sum(), \n",
    "            lambda x: (x == 'purchase').sum(),\n",
    "            lambda x: len(x.unique())  # variety of actions\n",
    "        ],\n",
    "        'price': ['mean', 'std', 'sum'],  # price behavior\n",
    "        'product_id': 'nunique',  # product diversity\n",
    "        'main_category': 'nunique' if 'main_category' in df.columns else lambda x: 0,  # category diversity\n",
    "        'event_time': lambda x: (x.max() - x.min()).total_seconds() / 3600,  # session duration in hours\n",
    "        'hour': lambda x: x.std(),  # time consistency\n",
    "        'is_weekend': lambda x: x.mean()  # weekend preference\n",
    "    }).round(2)\n",
    "    \n",
    "    # Flatten column names\n",
    "    user_features.columns = [\n",
    "        'views', 'cart_adds', 'purchases', 'action_variety',\n",
    "        'avg_price', 'price_std', 'total_spent', 'product_diversity',\n",
    "        'category_diversity', 'session_duration', 'time_consistency', 'weekend_preference'\n",
    "    ]\n",
    "    \n",
    "    # Fill NaN values\n",
    "    user_features = user_features.fillna(0)\n",
    "    \n",
    "    # Calculate derived metrics\n",
    "    user_features['conversion_rate'] = user_features['purchases'] / user_features['views'].replace(0, 1)\n",
    "    user_features['cart_conversion'] = user_features['purchases'] / user_features['cart_adds'].replace(0, 1)\n",
    "    user_features['avg_order_value'] = user_features['total_spent'] / user_features['purchases'].replace(0, 1)\n",
    "    \n",
    "    print(f\"📊 User Features Shape: {user_features.shape}\")\n",
    "    print(f\"👥 Total Users: {len(user_features):,}\")\n",
    "    \n",
    "    # Prepare data for clustering\n",
    "    feature_cols = ['views', 'cart_adds', 'purchases', 'avg_price', 'total_spent', \n",
    "                   'product_diversity', 'category_diversity', 'session_duration', \n",
    "                   'conversion_rate']\n",
    "    \n",
    "    # Handle infinite values\n",
    "    clustering_data = user_features[feature_cols].replace([np.inf, -np.inf], 0)\n",
    "    \n",
    "    # Scale the features\n",
    "    scaler = StandardScaler()\n",
    "    scaled_features = scaler.fit_transform(clustering_data)\n",
    "    \n",
    "    # Determine optimal number of clusters using elbow method\n",
    "    inertias = []\n",
    "    k_range = range(2, 8)\n",
    "    \n",
    "    for k in k_range:\n",
    "        kmeans = KMeans(n_clusters=k, random_state=42, n_init=10)\n",
    "        kmeans.fit(scaled_features)\n",
    "        inertias.append(kmeans.inertia_)\n",
    "    \n",
    "    # Plot elbow curve\n",
    "    fig = go.Figure()\n",
    "    fig.add_trace(go.Scatter(x=list(k_range), y=inertias, mode='lines+markers', name='Inertia'))\n",
    "    fig.update_layout(title='Elbow Method for Optimal Clusters', \n",
    "                     xaxis_title='Number of Clusters', \n",
    "                     yaxis_title='Inertia')\n",
    "    fig.show()\n",
    "    \n",
    "    # Use 4 clusters (good balance)\n",
    "    n_clusters = 4\n",
    "    kmeans = KMeans(n_clusters=n_clusters, random_state=42, n_init=10)\n",
    "    user_features['segment'] = kmeans.fit_predict(scaled_features)\n",
    "    \n",
    "    # Analyze segments\n",
    "    print(f\"\\n🎯 USER SEGMENTS ANALYSIS:\")\n",
    "    print(\"=\" * 30)\n",
    "    \n",
    "    segment_summary = user_features.groupby('segment').agg({\n",
    "        'views': ['count', 'mean'],\n",
    "        'purchases': ['sum', 'mean'],\n",
    "        'total_spent': ['sum', 'mean'],\n",
    "        'conversion_rate': 'mean',\n",
    "        'avg_order_value': 'mean',\n",
    "        'product_diversity': 'mean',\n",
    "        'session_duration': 'mean'\n",
    "    }).round(2)\n",
    "    \n",
    "    # Create segment profiles\n",
    "    segment_profiles = {}\n",
    "    \n",
    "    for segment in range(n_clusters):\n",
    "        segment_data = user_features[user_features['segment'] == segment]\n",
    "        profile = {\n",
    "            'size': len(segment_data),\n",
    "            'avg_views': segment_data['views'].mean(),\n",
    "            'avg_purchases': segment_data['purchases'].mean(),\n",
    "            'total_revenue': segment_data['total_spent'].sum(),\n",
    "            'conversion_rate': segment_data['conversion_rate'].mean() * 100,\n",
    "            'avg_order_value': segment_data['avg_order_value'].mean(),\n",
    "            'avg_products': segment_data['product_diversity'].mean()\n",
    "        }\n",
    "        segment_profiles[segment] = profile\n",
    "        \n",
    "        print(f\"\\n📊 Segment {segment}:\")\n",
    "        print(f\"  Size: {profile['size']:,} users ({profile['size']/len(user_features)*100:.1f}%)\")\n",
    "        print(f\"  Avg Views: {profile['avg_views']:.1f}\")\n",
    "        print(f\"  Avg Purchases: {profile['avg_purchases']:.2f}\")\n",
    "        print(f\"  Total Revenue: ${profile['total_revenue']:,.2f}\")\n",
    "        print(f\"  Conversion Rate: {profile['conversion_rate']:.2f}%\")\n",
    "        print(f\"  Avg Order Value: ${profile['avg_order_value']:.2f}\")\n",
    "        print(f\"  Avg Products Viewed: {profile['avg_products']:.1f}\")\n",
    "    \n",
    "    # Create segment visualization\n",
    "    fig = make_subplots(\n",
    "        rows=2, cols=2,\n",
    "        subplot_titles=['Segment Sizes', 'Revenue by Segment', \n",
    "                       'Conversion Rates', 'Average Order Values'],\n",
    "        specs=[[{\"type\": \"pie\"}, {\"type\": \"bar\"}],\n",
    "               [{\"type\": \"bar\"}, {\"type\": \"bar\"}]]\n",
    "    )\n",
    "    \n",
    "    # Segment sizes\n",
    "    segment_sizes = [segment_profiles[i]['size'] for i in range(n_clusters)]\n",
    "    fig.add_trace(\n",
    "        go.Pie(labels=[f'Segment {i}' for i in range(n_clusters)], \n",
    "               values=segment_sizes, name=\"Segment Sizes\"),\n",
    "        row=1, col=1\n",
    "    )\n",
    "    \n",
    "    # Revenue by segment\n",
    "    revenues = [segment_profiles[i]['total_revenue'] for i in range(n_clusters)]\n",
    "    fig.add_trace(\n",
    "        go.Bar(x=[f'Segment {i}' for i in range(n_clusters)], \n",
    "               y=revenues, name=\"Revenue\"),\n",
    "        row=1, col=2\n",
    "    )\n",
    "    \n",
    "    # Conversion rates\n",
    "    conv_rates = [segment_profiles[i]['conversion_rate'] for i in range(n_clusters)]\n",
    "    fig.add_trace(\n",
    "        go.Bar(x=[f'Segment {i}' for i in range(n_clusters)], \n",
    "               y=conv_rates, name=\"Conversion Rate %\"),\n",
    "        row=2, col=1\n",
    "    )\n",
    "    \n",
    "    # Average order values\n",
    "    aovs = [segment_profiles[i]['avg_order_value'] for i in range(n_clusters)]\n",
    "    fig.add_trace(\n",
    "        go.Bar(x=[f'Segment {i}' for i in range(n_clusters)], \n",
    "               y=aovs, name=\"AOV\"),\n",
    "        row=2, col=2\n",
    "    )\n",
    "    \n",
    "    fig.update_layout(height=700, title_text=\"User Segmentation Analysis\")\n",
    "    fig.show()\n",
    "    \n",
    "    # Assign segment names based on characteristics\n",
    "    segment_names = {\n",
    "        0: \"Browser/Researcher\",  # High views, low purchases\n",
    "        1: \"Casual Shopper\",      # Medium engagement\n",
    "        2: \"VIP Customer\",        # High purchases, high AOV\n",
    "        3: \"Bargain Hunter\"       # Price-sensitive\n",
    "    }\n",
    "    \n",
    "    # This is a simplified naming - in practice you'd analyze the actual characteristics\n",
    "    print(f\"\\n🏷️ SEGMENT LABELS:\")\n",
    "    print(\"=\" * 20)\n",
    "    for i, name in segment_names.items():\n",
    "        if i in segment_profiles:\n",
    "            print(f\"Segment {i}: {name}\")\n",
    "    \n",
    "    return user_features, segment_profiles\n",
    "\n",
    "# Run user segmentation\n",
    "if df_clean is not None:\n",
    "    user_segments, segment_info = segment_users_by_behavior(df_clean)"
   ]
  },
  {
   "cell_type": "markdown",
   "id": "c63dc42e",
   "metadata": {},
   "source": [
    "## 6. Product-to-Segment Mapping\n",
    "\n",
    "Create intelligent product-segment mapping to understand which customer segments are attracted to specific products. This enables targeted marketing, personalized recommendations, and strategic inventory management."
   ]
  },
  {
   "cell_type": "code",
   "execution_count": 76,
   "id": "aef91ef6",
   "metadata": {},
   "outputs": [
    {
     "name": "stdout",
     "output_type": "stream",
     "text": [
      "🚀 Creating Brand-to-Segment Intelligence (MVP Demo)...\n",
      "🎯 BRAND-TO-SEGMENT MAPPING (MVP)\n",
      "==================================================\n",
      "🏷️ Created brand mapping for 8434 products across 4 brands\n",
      "✅ Merged 50,000 events with segment data\n",
      "📊 Analyzed 4 brands across 4 segments\n",
      "\n",
      "🏆 BRAND SEGMENT DISTRIBUTION - MVP DEMO:\n",
      "============================================================\n",
      "\n",
      "# 1. 🏷️ Samsung\n",
      "     Total Interactions: 23,839\n",
      "     Customer Composition:\n",
      "       47.1% are VIP Customer\n",
      "       35.0% are Casual Shopper\n",
      "       12.2% are Browser/Researcher\n",
      "       5.7% are Bargain Hunter\n",
      "\n",
      "# 2. 🏷️ Apple\n",
      "     Total Interactions: 11,308\n",
      "     Customer Composition:\n",
      "       48.4% are VIP Customer\n",
      "       42.5% are Casual Shopper\n",
      "       6.1% are Browser/Researcher\n",
      "       3.0% are Bargain Hunter\n",
      "\n",
      "# 3. 🏷️ Huawei\n",
      "     Total Interactions: 8,179\n",
      "     Customer Composition:\n",
      "       49.4% are VIP Customer\n",
      "       42.8% are Casual Shopper\n",
      "       5.9% are Browser/Researcher\n",
      "       2.0% are Bargain Hunter\n",
      "\n",
      "# 4. 🏷️ Yamaha\n",
      "     Total Interactions: 6,674\n",
      "     Customer Composition:\n",
      "       46.2% are VIP Customer\n",
      "       43.6% are Casual Shopper\n",
      "       5.9% are Browser/Researcher\n",
      "       4.3% are Bargain Hunter\n"
     ]
    },
    {
     "data": {
      "application/vnd.plotly.v1+json": {
       "config": {
        "plotlyServerURL": "https://plot.ly"
       },
       "data": [
        {
         "colorscale": [
          [
           0,
           "rgb(49,54,149)"
          ],
          [
           0.1,
           "rgb(69,117,180)"
          ],
          [
           0.2,
           "rgb(116,173,209)"
          ],
          [
           0.3,
           "rgb(171,217,233)"
          ],
          [
           0.4,
           "rgb(224,243,248)"
          ],
          [
           0.5,
           "rgb(255,255,191)"
          ],
          [
           0.6,
           "rgb(254,224,144)"
          ],
          [
           0.7,
           "rgb(253,174,97)"
          ],
          [
           0.8,
           "rgb(244,109,67)"
          ],
          [
           0.9,
           "rgb(215,48,39)"
          ],
          [
           1,
           "rgb(165,0,38)"
          ]
         ],
         "text": [
          [
           3,
           6.1,
           42.5,
           48.4
          ],
          [
           2,
           5.9,
           42.8,
           49.4
          ],
          [
           5.7,
           12.2,
           35,
           47.1
          ],
          [
           4.3,
           5.9,
           43.6,
           46.2
          ]
         ],
         "textfont": {
          "size": 12
         },
         "texttemplate": "%{text}%",
         "type": "heatmap",
         "x": [
          "Bargain Hunter",
          "Browser/Researcher",
          "Casual Shopper",
          "VIP Customer"
         ],
         "xaxis": "x",
         "y": [
          "Apple",
          "Huawei",
          "Samsung",
          "Yamaha"
         ],
         "yaxis": "y",
         "z": [
          [
           3,
           6.1,
           42.5,
           48.4
          ],
          [
           2,
           5.9,
           42.8,
           49.4
          ],
          [
           5.7,
           12.2,
           35,
           47.1
          ],
          [
           4.3,
           5.9,
           43.6,
           46.2
          ]
         ]
        },
        {
         "marker": {
          "color": "gold"
         },
         "name": "VIP Appeal %",
         "text": [
          49.4,
          48.4,
          47.1,
          46.2
         ],
         "textposition": "outside",
         "texttemplate": "%{text}%",
         "type": "bar",
         "x": [
          "Huawei",
          "Apple",
          "Samsung",
          "Yamaha"
         ],
         "xaxis": "x2",
         "y": [
          49.4,
          48.4,
          47.1,
          46.2
         ],
         "yaxis": "y2"
        },
        {
         "marker": {
          "color": "lightgreen"
         },
         "name": "Bargain Hunter %",
         "text": [
          5.7,
          4.3,
          3,
          2
         ],
         "textposition": "outside",
         "texttemplate": "%{text}%",
         "type": "bar",
         "x": [
          "Samsung",
          "Yamaha",
          "Apple",
          "Huawei"
         ],
         "xaxis": "x3",
         "y": [
          5.7,
          4.3,
          3,
          2
         ],
         "yaxis": "y3"
        },
        {
         "marker": {
          "color": "lightblue",
          "line": {
           "color": "darkblue",
           "width": 2
          },
          "size": 15
         },
         "mode": "markers+text",
         "name": "Brand Performance",
         "text": [
          "Samsung",
          "Apple",
          "Huawei",
          "Yamaha"
         ],
         "textposition": "top center",
         "type": "scatter",
         "x": [
          23839,
          11308,
          8179,
          6674
         ],
         "xaxis": "x4",
         "y": [
          47.1,
          48.4,
          49.4,
          46.2
         ],
         "yaxis": "y4"
        }
       ],
       "layout": {
        "annotations": [
         {
          "font": {
           "size": 16
          },
          "showarrow": false,
          "text": "Brand-Segment Distribution Heatmap",
          "x": 0.225,
          "xanchor": "center",
          "xref": "paper",
          "y": 1,
          "yanchor": "bottom",
          "yref": "paper"
         },
         {
          "font": {
           "size": 16
          },
          "showarrow": false,
          "text": "Brands by VIP Appeal",
          "x": 0.775,
          "xanchor": "center",
          "xref": "paper",
          "y": 1,
          "yanchor": "bottom",
          "yref": "paper"
         },
         {
          "font": {
           "size": 16
          },
          "showarrow": false,
          "text": "Bargain Hunter Brand Preferences",
          "x": 0.225,
          "xanchor": "center",
          "xref": "paper",
          "y": 0.375,
          "yanchor": "bottom",
          "yref": "paper"
         },
         {
          "font": {
           "size": 16
          },
          "showarrow": false,
          "text": "Brand Performance Overview",
          "x": 0.775,
          "xanchor": "center",
          "xref": "paper",
          "y": 0.375,
          "yanchor": "bottom",
          "yref": "paper"
         }
        ],
        "height": 800,
        "template": {
         "data": {
          "bar": [
           {
            "error_x": {
             "color": "#2a3f5f"
            },
            "error_y": {
             "color": "#2a3f5f"
            },
            "marker": {
             "line": {
              "color": "#E5ECF6",
              "width": 0.5
             },
             "pattern": {
              "fillmode": "overlay",
              "size": 10,
              "solidity": 0.2
             }
            },
            "type": "bar"
           }
          ],
          "barpolar": [
           {
            "marker": {
             "line": {
              "color": "#E5ECF6",
              "width": 0.5
             },
             "pattern": {
              "fillmode": "overlay",
              "size": 10,
              "solidity": 0.2
             }
            },
            "type": "barpolar"
           }
          ],
          "carpet": [
           {
            "aaxis": {
             "endlinecolor": "#2a3f5f",
             "gridcolor": "white",
             "linecolor": "white",
             "minorgridcolor": "white",
             "startlinecolor": "#2a3f5f"
            },
            "baxis": {
             "endlinecolor": "#2a3f5f",
             "gridcolor": "white",
             "linecolor": "white",
             "minorgridcolor": "white",
             "startlinecolor": "#2a3f5f"
            },
            "type": "carpet"
           }
          ],
          "choropleth": [
           {
            "colorbar": {
             "outlinewidth": 0,
             "ticks": ""
            },
            "type": "choropleth"
           }
          ],
          "contour": [
           {
            "colorbar": {
             "outlinewidth": 0,
             "ticks": ""
            },
            "colorscale": [
             [
              0,
              "#0d0887"
             ],
             [
              0.1111111111111111,
              "#46039f"
             ],
             [
              0.2222222222222222,
              "#7201a8"
             ],
             [
              0.3333333333333333,
              "#9c179e"
             ],
             [
              0.4444444444444444,
              "#bd3786"
             ],
             [
              0.5555555555555556,
              "#d8576b"
             ],
             [
              0.6666666666666666,
              "#ed7953"
             ],
             [
              0.7777777777777778,
              "#fb9f3a"
             ],
             [
              0.8888888888888888,
              "#fdca26"
             ],
             [
              1,
              "#f0f921"
             ]
            ],
            "type": "contour"
           }
          ],
          "contourcarpet": [
           {
            "colorbar": {
             "outlinewidth": 0,
             "ticks": ""
            },
            "type": "contourcarpet"
           }
          ],
          "heatmap": [
           {
            "colorbar": {
             "outlinewidth": 0,
             "ticks": ""
            },
            "colorscale": [
             [
              0,
              "#0d0887"
             ],
             [
              0.1111111111111111,
              "#46039f"
             ],
             [
              0.2222222222222222,
              "#7201a8"
             ],
             [
              0.3333333333333333,
              "#9c179e"
             ],
             [
              0.4444444444444444,
              "#bd3786"
             ],
             [
              0.5555555555555556,
              "#d8576b"
             ],
             [
              0.6666666666666666,
              "#ed7953"
             ],
             [
              0.7777777777777778,
              "#fb9f3a"
             ],
             [
              0.8888888888888888,
              "#fdca26"
             ],
             [
              1,
              "#f0f921"
             ]
            ],
            "type": "heatmap"
           }
          ],
          "heatmapgl": [
           {
            "colorbar": {
             "outlinewidth": 0,
             "ticks": ""
            },
            "colorscale": [
             [
              0,
              "#0d0887"
             ],
             [
              0.1111111111111111,
              "#46039f"
             ],
             [
              0.2222222222222222,
              "#7201a8"
             ],
             [
              0.3333333333333333,
              "#9c179e"
             ],
             [
              0.4444444444444444,
              "#bd3786"
             ],
             [
              0.5555555555555556,
              "#d8576b"
             ],
             [
              0.6666666666666666,
              "#ed7953"
             ],
             [
              0.7777777777777778,
              "#fb9f3a"
             ],
             [
              0.8888888888888888,
              "#fdca26"
             ],
             [
              1,
              "#f0f921"
             ]
            ],
            "type": "heatmapgl"
           }
          ],
          "histogram": [
           {
            "marker": {
             "pattern": {
              "fillmode": "overlay",
              "size": 10,
              "solidity": 0.2
             }
            },
            "type": "histogram"
           }
          ],
          "histogram2d": [
           {
            "colorbar": {
             "outlinewidth": 0,
             "ticks": ""
            },
            "colorscale": [
             [
              0,
              "#0d0887"
             ],
             [
              0.1111111111111111,
              "#46039f"
             ],
             [
              0.2222222222222222,
              "#7201a8"
             ],
             [
              0.3333333333333333,
              "#9c179e"
             ],
             [
              0.4444444444444444,
              "#bd3786"
             ],
             [
              0.5555555555555556,
              "#d8576b"
             ],
             [
              0.6666666666666666,
              "#ed7953"
             ],
             [
              0.7777777777777778,
              "#fb9f3a"
             ],
             [
              0.8888888888888888,
              "#fdca26"
             ],
             [
              1,
              "#f0f921"
             ]
            ],
            "type": "histogram2d"
           }
          ],
          "histogram2dcontour": [
           {
            "colorbar": {
             "outlinewidth": 0,
             "ticks": ""
            },
            "colorscale": [
             [
              0,
              "#0d0887"
             ],
             [
              0.1111111111111111,
              "#46039f"
             ],
             [
              0.2222222222222222,
              "#7201a8"
             ],
             [
              0.3333333333333333,
              "#9c179e"
             ],
             [
              0.4444444444444444,
              "#bd3786"
             ],
             [
              0.5555555555555556,
              "#d8576b"
             ],
             [
              0.6666666666666666,
              "#ed7953"
             ],
             [
              0.7777777777777778,
              "#fb9f3a"
             ],
             [
              0.8888888888888888,
              "#fdca26"
             ],
             [
              1,
              "#f0f921"
             ]
            ],
            "type": "histogram2dcontour"
           }
          ],
          "mesh3d": [
           {
            "colorbar": {
             "outlinewidth": 0,
             "ticks": ""
            },
            "type": "mesh3d"
           }
          ],
          "parcoords": [
           {
            "line": {
             "colorbar": {
              "outlinewidth": 0,
              "ticks": ""
             }
            },
            "type": "parcoords"
           }
          ],
          "pie": [
           {
            "automargin": true,
            "type": "pie"
           }
          ],
          "scatter": [
           {
            "fillpattern": {
             "fillmode": "overlay",
             "size": 10,
             "solidity": 0.2
            },
            "type": "scatter"
           }
          ],
          "scatter3d": [
           {
            "line": {
             "colorbar": {
              "outlinewidth": 0,
              "ticks": ""
             }
            },
            "marker": {
             "colorbar": {
              "outlinewidth": 0,
              "ticks": ""
             }
            },
            "type": "scatter3d"
           }
          ],
          "scattercarpet": [
           {
            "marker": {
             "colorbar": {
              "outlinewidth": 0,
              "ticks": ""
             }
            },
            "type": "scattercarpet"
           }
          ],
          "scattergeo": [
           {
            "marker": {
             "colorbar": {
              "outlinewidth": 0,
              "ticks": ""
             }
            },
            "type": "scattergeo"
           }
          ],
          "scattergl": [
           {
            "marker": {
             "colorbar": {
              "outlinewidth": 0,
              "ticks": ""
             }
            },
            "type": "scattergl"
           }
          ],
          "scattermapbox": [
           {
            "marker": {
             "colorbar": {
              "outlinewidth": 0,
              "ticks": ""
             }
            },
            "type": "scattermapbox"
           }
          ],
          "scatterpolar": [
           {
            "marker": {
             "colorbar": {
              "outlinewidth": 0,
              "ticks": ""
             }
            },
            "type": "scatterpolar"
           }
          ],
          "scatterpolargl": [
           {
            "marker": {
             "colorbar": {
              "outlinewidth": 0,
              "ticks": ""
             }
            },
            "type": "scatterpolargl"
           }
          ],
          "scatterternary": [
           {
            "marker": {
             "colorbar": {
              "outlinewidth": 0,
              "ticks": ""
             }
            },
            "type": "scatterternary"
           }
          ],
          "surface": [
           {
            "colorbar": {
             "outlinewidth": 0,
             "ticks": ""
            },
            "colorscale": [
             [
              0,
              "#0d0887"
             ],
             [
              0.1111111111111111,
              "#46039f"
             ],
             [
              0.2222222222222222,
              "#7201a8"
             ],
             [
              0.3333333333333333,
              "#9c179e"
             ],
             [
              0.4444444444444444,
              "#bd3786"
             ],
             [
              0.5555555555555556,
              "#d8576b"
             ],
             [
              0.6666666666666666,
              "#ed7953"
             ],
             [
              0.7777777777777778,
              "#fb9f3a"
             ],
             [
              0.8888888888888888,
              "#fdca26"
             ],
             [
              1,
              "#f0f921"
             ]
            ],
            "type": "surface"
           }
          ],
          "table": [
           {
            "cells": {
             "fill": {
              "color": "#EBF0F8"
             },
             "line": {
              "color": "white"
             }
            },
            "header": {
             "fill": {
              "color": "#C8D4E3"
             },
             "line": {
              "color": "white"
             }
            },
            "type": "table"
           }
          ]
         },
         "layout": {
          "annotationdefaults": {
           "arrowcolor": "#2a3f5f",
           "arrowhead": 0,
           "arrowwidth": 1
          },
          "autotypenumbers": "strict",
          "coloraxis": {
           "colorbar": {
            "outlinewidth": 0,
            "ticks": ""
           }
          },
          "colorscale": {
           "diverging": [
            [
             0,
             "#8e0152"
            ],
            [
             0.1,
             "#c51b7d"
            ],
            [
             0.2,
             "#de77ae"
            ],
            [
             0.3,
             "#f1b6da"
            ],
            [
             0.4,
             "#fde0ef"
            ],
            [
             0.5,
             "#f7f7f7"
            ],
            [
             0.6,
             "#e6f5d0"
            ],
            [
             0.7,
             "#b8e186"
            ],
            [
             0.8,
             "#7fbc41"
            ],
            [
             0.9,
             "#4d9221"
            ],
            [
             1,
             "#276419"
            ]
           ],
           "sequential": [
            [
             0,
             "#0d0887"
            ],
            [
             0.1111111111111111,
             "#46039f"
            ],
            [
             0.2222222222222222,
             "#7201a8"
            ],
            [
             0.3333333333333333,
             "#9c179e"
            ],
            [
             0.4444444444444444,
             "#bd3786"
            ],
            [
             0.5555555555555556,
             "#d8576b"
            ],
            [
             0.6666666666666666,
             "#ed7953"
            ],
            [
             0.7777777777777778,
             "#fb9f3a"
            ],
            [
             0.8888888888888888,
             "#fdca26"
            ],
            [
             1,
             "#f0f921"
            ]
           ],
           "sequentialminus": [
            [
             0,
             "#0d0887"
            ],
            [
             0.1111111111111111,
             "#46039f"
            ],
            [
             0.2222222222222222,
             "#7201a8"
            ],
            [
             0.3333333333333333,
             "#9c179e"
            ],
            [
             0.4444444444444444,
             "#bd3786"
            ],
            [
             0.5555555555555556,
             "#d8576b"
            ],
            [
             0.6666666666666666,
             "#ed7953"
            ],
            [
             0.7777777777777778,
             "#fb9f3a"
            ],
            [
             0.8888888888888888,
             "#fdca26"
            ],
            [
             1,
             "#f0f921"
            ]
           ]
          },
          "colorway": [
           "#636efa",
           "#EF553B",
           "#00cc96",
           "#ab63fa",
           "#FFA15A",
           "#19d3f3",
           "#FF6692",
           "#B6E880",
           "#FF97FF",
           "#FECB52"
          ],
          "font": {
           "color": "#2a3f5f"
          },
          "geo": {
           "bgcolor": "white",
           "lakecolor": "white",
           "landcolor": "#E5ECF6",
           "showlakes": true,
           "showland": true,
           "subunitcolor": "white"
          },
          "hoverlabel": {
           "align": "left"
          },
          "hovermode": "closest",
          "mapbox": {
           "style": "light"
          },
          "paper_bgcolor": "white",
          "plot_bgcolor": "#E5ECF6",
          "polar": {
           "angularaxis": {
            "gridcolor": "white",
            "linecolor": "white",
            "ticks": ""
           },
           "bgcolor": "#E5ECF6",
           "radialaxis": {
            "gridcolor": "white",
            "linecolor": "white",
            "ticks": ""
           }
          },
          "scene": {
           "xaxis": {
            "backgroundcolor": "#E5ECF6",
            "gridcolor": "white",
            "gridwidth": 2,
            "linecolor": "white",
            "showbackground": true,
            "ticks": "",
            "zerolinecolor": "white"
           },
           "yaxis": {
            "backgroundcolor": "#E5ECF6",
            "gridcolor": "white",
            "gridwidth": 2,
            "linecolor": "white",
            "showbackground": true,
            "ticks": "",
            "zerolinecolor": "white"
           },
           "zaxis": {
            "backgroundcolor": "#E5ECF6",
            "gridcolor": "white",
            "gridwidth": 2,
            "linecolor": "white",
            "showbackground": true,
            "ticks": "",
            "zerolinecolor": "white"
           }
          },
          "shapedefaults": {
           "line": {
            "color": "#2a3f5f"
           }
          },
          "ternary": {
           "aaxis": {
            "gridcolor": "white",
            "linecolor": "white",
            "ticks": ""
           },
           "baxis": {
            "gridcolor": "white",
            "linecolor": "white",
            "ticks": ""
           },
           "bgcolor": "#E5ECF6",
           "caxis": {
            "gridcolor": "white",
            "linecolor": "white",
            "ticks": ""
           }
          },
          "title": {
           "x": 0.05
          },
          "xaxis": {
           "automargin": true,
           "gridcolor": "white",
           "linecolor": "white",
           "ticks": "",
           "title": {
            "standoff": 15
           },
           "zerolinecolor": "white",
           "zerolinewidth": 2
          },
          "yaxis": {
           "automargin": true,
           "gridcolor": "white",
           "linecolor": "white",
           "ticks": "",
           "title": {
            "standoff": 15
           },
           "zerolinecolor": "white",
           "zerolinewidth": 2
          }
         }
        },
        "title": {
         "text": "Brand-to-Segment Intelligence Dashboard (MVP Demo)"
        },
        "xaxis": {
         "anchor": "y",
         "domain": [
          0,
          0.45
         ]
        },
        "xaxis2": {
         "anchor": "y2",
         "domain": [
          0.55,
          1
         ]
        },
        "xaxis3": {
         "anchor": "y3",
         "domain": [
          0,
          0.45
         ]
        },
        "xaxis4": {
         "anchor": "y4",
         "domain": [
          0.55,
          1
         ]
        },
        "yaxis": {
         "anchor": "x",
         "domain": [
          0.625,
          1
         ]
        },
        "yaxis2": {
         "anchor": "x2",
         "domain": [
          0.625,
          1
         ]
        },
        "yaxis3": {
         "anchor": "x3",
         "domain": [
          0,
          0.375
         ]
        },
        "yaxis4": {
         "anchor": "x4",
         "domain": [
          0,
          0.375
         ]
        }
       }
      }
     },
     "metadata": {},
     "output_type": "display_data"
    },
    {
     "name": "stdout",
     "output_type": "stream",
     "text": [
      "\n",
      "🎯 BRAND COMPOSITION ANALYSIS - MVP:\n",
      "=============================================\n",
      "\n",
      "📊 Browser/Researcher Representation in Each Brand:\n",
      "    🏷️ Samsung: 12.2% (2,908 customers)\n",
      "    🏷️ Apple: 6.1% (689 customers)\n",
      "    🏷️ Huawei: 5.9% (482 customers)\n",
      "    🏷️ Yamaha: 5.9% (393 customers)\n",
      "    💡 Insight: Samsung has the highest Browser/Researcher representation (12.2%)\n",
      "\n",
      "📊 Casual Shopper Representation in Each Brand:\n",
      "    🏷️ Yamaha: 43.6% (2,909 customers)\n",
      "    🏷️ Huawei: 42.8% (3,500 customers)\n",
      "    🏷️ Apple: 42.5% (4,805 customers)\n",
      "    🏷️ Samsung: 35.0% (8,343 customers)\n",
      "    💡 Insight: Yamaha has the highest Casual Shopper representation (43.6%)\n",
      "\n",
      "📊 VIP Customer Representation in Each Brand:\n",
      "    🏷️ Huawei: 49.4% (4,040 customers)\n",
      "    🏷️ Apple: 48.4% (5,473 customers)\n",
      "    🏷️ Samsung: 47.1% (11,228 customers)\n",
      "    🏷️ Yamaha: 46.2% (3,083 customers)\n",
      "    💡 Insight: Huawei has the highest VIP Customer representation (49.4%)\n",
      "\n",
      "📊 Bargain Hunter Representation in Each Brand:\n",
      "    🏷️ Samsung: 5.7% (1,358 customers)\n",
      "    🏷️ Yamaha: 4.3% (286 customers)\n",
      "    🏷️ Apple: 3.0% (339 customers)\n",
      "    🏷️ Huawei: 2.0% (163 customers)\n",
      "    💡 Insight: Samsung has the highest Bargain Hunter representation (5.7%)\n",
      "\n",
      "💡 MARKETING RECOMMENDATIONS:\n",
      "===================================\n",
      "\n",
      "🏷️ Samsung:\n",
      "  🎯 Primary Target: VIP Customer (47.1%)\n",
      "  📊 Total Engagement: 23,839 interactions\n",
      "  💰 Strategy: Premium positioning, exclusive offers, luxury messaging\n",
      "\n",
      "🏷️ Apple:\n",
      "  🎯 Primary Target: VIP Customer (48.4%)\n",
      "  📊 Total Engagement: 11,308 interactions\n",
      "  💰 Strategy: Premium positioning, exclusive offers, luxury messaging\n",
      "\n",
      "🏷️ Huawei:\n",
      "  🎯 Primary Target: VIP Customer (49.4%)\n",
      "  📊 Total Engagement: 8,179 interactions\n",
      "  💰 Strategy: Premium positioning, exclusive offers, luxury messaging\n",
      "\n",
      "🏷️ Yamaha:\n",
      "  🎯 Primary Target: VIP Customer (46.2%)\n",
      "  📊 Total Engagement: 6,674 interactions\n",
      "  💰 Strategy: Premium positioning, exclusive offers, luxury messaging\n",
      "\n",
      "✨ Brand Mapping Complete!\n",
      "🏷️ Mapped 4 brands: Samsung, Apple, Huawei, Yamaha\n",
      "📊 Analyzed 4 brand-segment combinations\n",
      "🎯 Ready for targeted marketing campaigns!\n",
      "\n",
      "📋 QUICK BRAND SUMMARY:\n",
      "  🏷️ Samsung: VIP Customer (47.1%)\n",
      "  🏷️ Apple: VIP Customer (48.4%)\n",
      "  🏷️ Huawei: VIP Customer (49.4%)\n",
      "  🏷️ Yamaha: VIP Customer (46.2%)\n"
     ]
    }
   ],
   "source": [
    "def create_product_segment_mapping(df, user_segments):\n",
    "    \"\"\"\n",
    "    Create detailed brand-to-segment mapping showing which customer segments\n",
    "    are most attracted to Samsung, Apple, Huawei, and Yamaha. Perfect for targeted marketing!\n",
    "    \"\"\"\n",
    "    if df is None or user_segments is None:\n",
    "        print(\"❌ Need both cleaned data and user segments\")\n",
    "        return None\n",
    "    \n",
    "    print(\"🎯 BRAND-TO-SEGMENT MAPPING (MVP)\")\n",
    "    print(\"=\" * 50)\n",
    "    \n",
    "    # Create brand mapping for demo (map product IDs to brands)\n",
    "    # In real implementation, you'd have this in your product catalog\n",
    "    brand_mapping = {}\n",
    "    demo_brands = ['Samsung', 'Apple', 'Huawei', 'Yamaha']\n",
    "    \n",
    "    # Get unique product IDs and assign them to brands for demo\n",
    "    unique_products = df['product_id'].unique()\n",
    "    products_per_brand = len(unique_products) // len(demo_brands)\n",
    "    \n",
    "    for i, brand in enumerate(demo_brands):\n",
    "        start_idx = i * products_per_brand\n",
    "        if i == len(demo_brands) - 1:  # Last brand gets remaining products\n",
    "            end_idx = len(unique_products)\n",
    "        else:\n",
    "            end_idx = (i + 1) * products_per_brand\n",
    "        \n",
    "        brand_products = unique_products[start_idx:end_idx]\n",
    "        for product_id in brand_products:\n",
    "            brand_mapping[product_id] = brand\n",
    "    \n",
    "    print(f\"🏷️ Created brand mapping for {len(brand_mapping)} products across {len(demo_brands)} brands\")\n",
    "    \n",
    "    # Add brand information to dataframe\n",
    "    df_branded = df.copy()\n",
    "    df_branded['brand'] = df_branded['product_id'].map(brand_mapping)\n",
    "    \n",
    "    # Filter out products without brand mapping (if any)\n",
    "    df_branded = df_branded.dropna(subset=['brand'])\n",
    "    \n",
    "    # Merge user segment data with product interactions\n",
    "    df_with_segments = df_branded.merge(\n",
    "        user_segments[['segment']].reset_index(), \n",
    "        on='user_id', \n",
    "        how='inner'\n",
    "    )\n",
    "    \n",
    "    print(f\"✅ Merged {len(df_with_segments):,} events with segment data\")\n",
    "    \n",
    "    # Create segment names for better readability\n",
    "    segment_names = {\n",
    "        0: \"Browser/Researcher\",\n",
    "        1: \"Casual Shopper\", \n",
    "        2: \"VIP Customer\",\n",
    "        3: \"Bargain Hunter\"\n",
    "    }\n",
    "    \n",
    "    df_with_segments['segment_name'] = df_with_segments['segment'].map(segment_names)\n",
    "    \n",
    "    # Calculate brand-segment distribution instead of product-segment\n",
    "    brand_segment_stats = df_with_segments.groupby(['brand', 'segment_name']).agg({\n",
    "        'user_id': 'count',\n",
    "        'event_type': [\n",
    "            lambda x: (x == 'view').sum(),\n",
    "            lambda x: (x == 'cart').sum(),\n",
    "            lambda x: (x == 'purchase').sum()\n",
    "        ],\n",
    "        'price': 'mean'\n",
    "    }).round(2)\n",
    "    \n",
    "    # Flatten column names\n",
    "    brand_segment_stats.columns = [\n",
    "        'total_interactions', 'views', 'cart_adds', 'purchases', 'avg_price'\n",
    "    ]\n",
    "    \n",
    "    # Calculate segment distribution percentages for each brand\n",
    "    brand_totals = df_with_segments.groupby('brand')['user_id'].count()\n",
    "    brand_segment_counts = df_with_segments.groupby(['brand', 'segment_name']).size().unstack(fill_value=0)\n",
    "    \n",
    "    # Convert to percentages - each brand's segments should add up to 100%\n",
    "    # This shows: \"X% of Samsung buyers are VIP Customers\"\n",
    "    brand_segment_pcts = brand_segment_counts.div(brand_segment_counts.sum(axis=1), axis=0) * 100\n",
    "    brand_segment_pcts = brand_segment_pcts.round(1)\n",
    "    \n",
    "    print(f\"📊 Analyzed {len(brand_segment_pcts)} brands across {len(segment_names)} segments\")\n",
    "    \n",
    "    # Show all brands (since we only have 4)\n",
    "    target_brands = demo_brands\n",
    "    \n",
    "    print(f\"\\n🏆 BRAND SEGMENT DISTRIBUTION - MVP DEMO:\")\n",
    "    print(\"=\" * 60)\n",
    "    \n",
    "    results = []\n",
    "    \n",
    "    for i, brand in enumerate(target_brands, 1):\n",
    "        if brand in brand_totals.index:\n",
    "            total_interactions = brand_totals[brand]\n",
    "            \n",
    "            # Get segment breakdown\n",
    "            segments_data = brand_segment_pcts.loc[brand].to_dict()\n",
    "            \n",
    "            # Sort by percentage descending\n",
    "            sorted_segments = sorted(segments_data.items(), key=lambda x: x[1], reverse=True)\n",
    "            \n",
    "            print(f\"\\n#{i:2d}. 🏷️ {brand}\")\n",
    "            print(f\"     Total Interactions: {total_interactions:,}\")\n",
    "            print(f\"     Customer Composition:\")\n",
    "            \n",
    "            # Verify percentages add up to 100%\n",
    "            total_check = sum([pct for _, pct in sorted_segments])\n",
    "            \n",
    "            segment_breakdown = {}\n",
    "            for segment_name, percentage in sorted_segments:\n",
    "                if percentage > 0:\n",
    "                    print(f\"       {percentage}% are {segment_name}\")\n",
    "                    segment_breakdown[segment_name] = percentage\n",
    "                        \n",
    "            # Store for API generation\n",
    "            results.append({\n",
    "                'brand': brand,\n",
    "                'total_interactions': total_interactions,\n",
    "                'segment_breakdown': segment_breakdown,\n",
    "                'dominant_segment': sorted_segments[0][0],\n",
    "                'dominant_percentage': sorted_segments[0][1]\n",
    "            })\n",
    "    \n",
    "    # Create brand visualization dashboard\n",
    "    fig = make_subplots(\n",
    "        rows=2, cols=2,\n",
    "        subplot_titles=['Brand-Segment Distribution Heatmap', 'Brands by VIP Appeal', \n",
    "                       'Bargain Hunter Brand Preferences', 'Brand Performance Overview'],\n",
    "        specs=[[{\"type\": \"heatmap\"}, {\"type\": \"bar\"}],\n",
    "               [{\"type\": \"bar\"}, {\"type\": \"scatter\"}]]\n",
    "    )\n",
    "    \n",
    "    # 1. Heatmap of all brands vs segments\n",
    "    heatmap_data = brand_segment_pcts\n",
    "    \n",
    "    fig.add_trace(\n",
    "        go.Heatmap(\n",
    "            z=heatmap_data.values,\n",
    "            x=heatmap_data.columns,\n",
    "            y=heatmap_data.index,\n",
    "            colorscale='RdYlBu_r',\n",
    "            text=heatmap_data.values,\n",
    "            texttemplate=\"%{text}%\",\n",
    "            textfont={\"size\": 12}\n",
    "        ),\n",
    "        row=1, col=1\n",
    "    )\n",
    "    \n",
    "    # 2. Brands with highest VIP customer appeal\n",
    "    vip_brands = brand_segment_pcts.sort_values('VIP Customer', ascending=False)\n",
    "    fig.add_trace(\n",
    "        go.Bar(\n",
    "            x=vip_brands.index,\n",
    "            y=vip_brands['VIP Customer'],\n",
    "            name='VIP Appeal %',\n",
    "            marker_color='gold',\n",
    "            text=vip_brands['VIP Customer'],\n",
    "            texttemplate='%{text}%',\n",
    "            textposition='outside'\n",
    "        ),\n",
    "        row=1, col=2\n",
    "    )\n",
    "    \n",
    "    # 3. Bargain Hunter favorites\n",
    "    bargain_brands = brand_segment_pcts.sort_values('Bargain Hunter', ascending=False)\n",
    "    fig.add_trace(\n",
    "        go.Bar(\n",
    "            x=bargain_brands.index,\n",
    "            y=bargain_brands['Bargain Hunter'],\n",
    "            name='Bargain Hunter %',\n",
    "            marker_color='lightgreen',\n",
    "            text=bargain_brands['Bargain Hunter'],\n",
    "            texttemplate='%{text}%',\n",
    "            textposition='outside'\n",
    "        ),\n",
    "        row=2, col=1\n",
    "    )\n",
    "    \n",
    "    # 4. Brand performance scatter (Total interactions vs Dominant segment percentage)\n",
    "    brand_performance = []\n",
    "    for brand in demo_brands:\n",
    "        if brand in brand_totals.index:\n",
    "            total_int = brand_totals[brand]\n",
    "            max_segment_pct = brand_segment_pcts.loc[brand].max()\n",
    "            brand_performance.append({'brand': brand, 'total': total_int, 'max_pct': max_segment_pct})\n",
    "    \n",
    "    if brand_performance:\n",
    "        perf_df = pd.DataFrame(brand_performance)\n",
    "        fig.add_trace(\n",
    "            go.Scatter(\n",
    "                x=perf_df['total'],\n",
    "                y=perf_df['max_pct'],\n",
    "                mode='markers+text',\n",
    "                text=perf_df['brand'],\n",
    "                textposition='top center',\n",
    "                marker=dict(size=15, color='lightblue', line=dict(width=2, color='darkblue')),\n",
    "                name='Brand Performance'\n",
    "            ),\n",
    "            row=2, col=2\n",
    "        )\n",
    "    \n",
    "    fig.update_layout(height=800, title_text=\"Brand-to-Segment Intelligence Dashboard (MVP Demo)\")\n",
    "    fig.show()\n",
    "    \n",
    "    # Generate brand insights for MVP demo\n",
    "    print(f\"\\n🎯 BRAND COMPOSITION ANALYSIS - MVP:\")\n",
    "    print(\"=\" * 45)\n",
    "    \n",
    "    for segment_name in segment_names.values():\n",
    "        if segment_name in brand_segment_pcts.columns:\n",
    "            # Show what percentage of each brand's customers belong to this segment\n",
    "            print(f\"\\n📊 {segment_name} Representation in Each Brand:\")\n",
    "            \n",
    "            # Sort brands by percentage of this segment in their customer base\n",
    "            segment_brands = brand_segment_pcts[segment_name].sort_values(ascending=False)\n",
    "            \n",
    "            for brand, pct in segment_brands.items():\n",
    "                if brand in brand_totals.index and pct > 0:\n",
    "                    interactions = brand_totals[brand]\n",
    "                    # Calculate actual number of customers in this segment\n",
    "                    segment_customers = int(interactions * pct / 100)\n",
    "                    print(f\"    🏷️ {brand}: {pct:.1f}% ({segment_customers:,} customers)\")\n",
    "            \n",
    "            # Summary insight\n",
    "            top_brand = segment_brands.idxmax()\n",
    "            top_pct = segment_brands.max()\n",
    "            print(f\"    💡 Insight: {top_brand} has the highest {segment_name} representation ({top_pct:.1f}%)\")\n",
    "    \n",
    "    # Generate marketing recommendations\n",
    "    print(f\"\\n💡 MARKETING RECOMMENDATIONS:\")\n",
    "    print(\"=\" * 35)\n",
    "    \n",
    "    for brand in demo_brands:\n",
    "        if brand in brand_segment_pcts.index:\n",
    "            top_segment = brand_segment_pcts.loc[brand].idxmax()\n",
    "            top_percentage = brand_segment_pcts.loc[brand].max()\n",
    "            total_interactions = brand_totals[brand] if brand in brand_totals.index else 0\n",
    "            \n",
    "            print(f\"\\n🏷️ {brand}:\")\n",
    "            print(f\"  🎯 Primary Target: {top_segment} ({top_percentage:.1f}%)\")\n",
    "            print(f\"  📊 Total Engagement: {total_interactions:,} interactions\")\n",
    "            \n",
    "            # Marketing advice based on dominant segment\n",
    "            if top_segment == \"VIP Customer\":\n",
    "                print(f\"  💰 Strategy: Premium positioning, exclusive offers, luxury messaging\")\n",
    "            elif top_segment == \"Bargain Hunter\":\n",
    "                print(f\"  🏷️ Strategy: Price promotions, value messaging, discount campaigns\")\n",
    "            elif top_segment == \"Casual Shopper\":\n",
    "                print(f\"  🛒 Strategy: Convenience focus, broad appeal, lifestyle marketing\")\n",
    "            elif top_segment == \"Browser/Researcher\":\n",
    "                print(f\"  🔍 Strategy: Educational content, detailed specs, comparison tools\")\n",
    "    \n",
    "    return {\n",
    "        'brand_segment_mapping': results,\n",
    "        'segment_percentages': brand_segment_pcts,\n",
    "        'segment_names': segment_names,\n",
    "        'brand_mapping': brand_mapping,\n",
    "        'demo_brands': demo_brands\n",
    "    }\n",
    "\n",
    "# Create the brand-segment mapping for MVP demo\n",
    "if df_clean is not None and 'user_segments' in globals():\n",
    "    print(\"🚀 Creating Brand-to-Segment Intelligence (MVP Demo)...\")\n",
    "    product_mapping = create_product_segment_mapping(df_clean, user_segments)\n",
    "    \n",
    "    if product_mapping:\n",
    "        print(f\"\\n✨ Brand Mapping Complete!\")\n",
    "        print(f\"🏷️ Mapped {len(product_mapping['demo_brands'])} brands: {', '.join(product_mapping['demo_brands'])}\")\n",
    "        print(f\"📊 Analyzed {len(product_mapping['brand_segment_mapping'])} brand-segment combinations\")\n",
    "        print(f\"🎯 Ready for targeted marketing campaigns!\")\n",
    "        \n",
    "        # Show quick summary\n",
    "        print(f\"\\n📋 QUICK BRAND SUMMARY:\")\n",
    "        for brand_data in product_mapping['brand_segment_mapping']:\n",
    "            print(f\"  🏷️ {brand_data['brand']}: {brand_data['dominant_segment']} ({brand_data['dominant_percentage']:.1f}%)\")\n",
    "else:\n",
    "    print(\"⚠️ Run the user segmentation analysis first (Section 5)\")"
   ]
  },
  {
   "cell_type": "markdown",
   "id": "a9116b81",
   "metadata": {},
   "source": [
    "### 6.2 Product Recommendation Engine\n",
    "\n",
    "Now that we understand which segments prefer which products, let's build a recommendation engine!"
   ]
  },
  {
   "cell_type": "code",
   "execution_count": 73,
   "id": "fdc0a862",
   "metadata": {},
   "outputs": [
    {
     "name": "stdout",
     "output_type": "stream",
     "text": [
      "🚀 Building Recommendation Engine...\n",
      "🎯 BUILDING SEGMENT-BASED RECOMMENDER\n",
      "=============================================\n",
      "\n",
      "🧪 TESTING RECOMMENDATIONS:\n",
      "==============================\n",
      "\n",
      "🎯 Browser/Researcher Sample:\n",
      "👤 User 454010850 → Browser/Researcher\n",
      "📦 Previously purchased: 0 products\n",
      "🎯 Segment appeal score for top recommendations:\n",
      "  # 1. Product Samsung - 12.9% segment appeal\n",
      "  # 2. Product Apple - 6.3% segment appeal\n",
      "  # 3. Product Yamaha - 6.1% segment appeal\n",
      "  # 4. Product Huawei - 6.0% segment appeal\n",
      "\n",
      "\n",
      "🎯 Casual Shopper Sample:\n",
      "👤 User 512370912 → Casual Shopper\n",
      "📦 Previously purchased: 0 products\n",
      "🎯 Segment appeal score for top recommendations:\n",
      "  # 1. Product Yamaha - 48.4% segment appeal\n",
      "  # 2. Product Apple - 46.7% segment appeal\n",
      "  # 3. Product Huawei - 46.4% segment appeal\n",
      "  # 4. Product Samsung - 42.6% segment appeal\n",
      "\n",
      "\n",
      "🎯 VIP Customer Sample:\n",
      "👤 User 389979783 → VIP Customer\n",
      "📦 Previously purchased: 0 products\n",
      "🎯 Segment appeal score for top recommendations:\n",
      "  # 1. Product Samsung - 99.5% segment appeal\n",
      "  # 2. Product Apple - 99.0% segment appeal\n",
      "  # 3. Product Huawei - 98.7% segment appeal\n",
      "  # 4. Product Yamaha - 98.1% segment appeal\n",
      "\n",
      "\n",
      "🎯 Bargain Hunter Sample:\n",
      "👤 User 486999716 → Bargain Hunter\n",
      "📦 Previously purchased: 2 products\n",
      "🎯 Segment appeal score for top recommendations:\n",
      "  # 1. Product Samsung - 5.7% segment appeal\n",
      "  # 2. Product Yamaha - 4.3% segment appeal\n",
      "  # 3. Product Apple - 3.0% segment appeal\n",
      "  # 4. Product Huawei - 2.0% segment appeal\n",
      "\n",
      "\n",
      "✨ Recommendation Engine Ready!\n",
      "🎯 Available Functions:\n",
      "  • recommender['recommend_for_user'](user_id)\n",
      "  • recommender['cross_segment_appeal'](product_id)\n",
      "  • recommender['bulk_recommendations'](user_list)\n",
      "\n",
      "🎯 BUILDING SEGMENT-BASED RECOMMENDER\n",
      "=============================================\n",
      "\n",
      "🧪 TESTING RECOMMENDATIONS:\n",
      "==============================\n",
      "\n",
      "🎯 Browser/Researcher Sample:\n",
      "👤 User 454010850 → Browser/Researcher\n",
      "📦 Previously purchased: 0 products\n",
      "🎯 Segment appeal score for top recommendations:\n",
      "  # 1. Product Samsung - 12.9% segment appeal\n",
      "  # 2. Product Apple - 6.3% segment appeal\n",
      "  # 3. Product Yamaha - 6.1% segment appeal\n",
      "  # 4. Product Huawei - 6.0% segment appeal\n",
      "\n",
      "\n",
      "🎯 Casual Shopper Sample:\n",
      "👤 User 512370912 → Casual Shopper\n",
      "📦 Previously purchased: 0 products\n",
      "🎯 Segment appeal score for top recommendations:\n",
      "  # 1. Product Yamaha - 48.4% segment appeal\n",
      "  # 2. Product Apple - 46.7% segment appeal\n",
      "  # 3. Product Huawei - 46.4% segment appeal\n",
      "  # 4. Product Samsung - 42.6% segment appeal\n",
      "\n",
      "\n",
      "🎯 VIP Customer Sample:\n",
      "👤 User 389979783 → VIP Customer\n",
      "📦 Previously purchased: 0 products\n",
      "🎯 Segment appeal score for top recommendations:\n",
      "  # 1. Product Samsung - 99.5% segment appeal\n",
      "  # 2. Product Apple - 99.0% segment appeal\n",
      "  # 3. Product Huawei - 98.7% segment appeal\n",
      "  # 4. Product Yamaha - 98.1% segment appeal\n",
      "\n",
      "\n",
      "🎯 Bargain Hunter Sample:\n",
      "👤 User 486999716 → Bargain Hunter\n",
      "📦 Previously purchased: 2 products\n",
      "🎯 Segment appeal score for top recommendations:\n",
      "  # 1. Product Samsung - 5.7% segment appeal\n",
      "  # 2. Product Yamaha - 4.3% segment appeal\n",
      "  # 3. Product Apple - 3.0% segment appeal\n",
      "  # 4. Product Huawei - 2.0% segment appeal\n",
      "\n",
      "\n",
      "✨ Recommendation Engine Ready!\n",
      "🎯 Available Functions:\n",
      "  • recommender['recommend_for_user'](user_id)\n",
      "  • recommender['cross_segment_appeal'](product_id)\n",
      "  • recommender['bulk_recommendations'](user_list)\n"
     ]
    }
   ],
   "source": [
    "def build_segment_based_recommender(product_mapping, df, user_segments):\n",
    "    \"\"\"\n",
    "    Build a smart recommendation engine based on segment preferences\n",
    "    Returns personalized product recommendations for any user\n",
    "    \"\"\"\n",
    "    if not product_mapping or df is None:\n",
    "        print(\"❌ Need product mapping and data\")\n",
    "        return None\n",
    "    \n",
    "    print(\"🎯 BUILDING SEGMENT-BASED RECOMMENDER\")\n",
    "    print(\"=\" * 45)\n",
    "    \n",
    "    # Extract segment mapping data\n",
    "    segment_percentages = product_mapping['segment_percentages']\n",
    "    segment_names = product_mapping['segment_names']\n",
    "    \n",
    "    # Create user purchase history\n",
    "    purchase_history = df[df['event_type'] == 'purchase'].groupby('user_id')['product_id'].apply(list).to_dict()\n",
    "    \n",
    "    def recommend_products_for_user(user_id, num_recommendations=10, include_purchased=False):\n",
    "        \"\"\"\n",
    "        Get personalized product recommendations for a specific user\n",
    "        \"\"\"\n",
    "        # Get user's segment\n",
    "        if user_id not in user_segments.index:\n",
    "            print(f\"⚠️ User {user_id} not found in segments\")\n",
    "            return []\n",
    "        \n",
    "        user_segment_id = user_segments.loc[user_id, 'segment']\n",
    "        user_segment_name = segment_names[user_segment_id]\n",
    "        \n",
    "        print(f\"👤 User {user_id} → {user_segment_name}\")\n",
    "        \n",
    "        # Get user's purchase history\n",
    "        purchased_products = purchase_history.get(user_id, [])\n",
    "        \n",
    "        # Get products that appeal to this segment\n",
    "        segment_prefs = segment_percentages[user_segment_name].sort_values(ascending=False)\n",
    "        \n",
    "        # Filter out already purchased products if requested\n",
    "        if not include_purchased and purchased_products:\n",
    "            segment_prefs = segment_prefs.drop(purchased_products, errors='ignore')\n",
    "        \n",
    "        # Get top recommendations\n",
    "        recommendations = segment_prefs.head(num_recommendations)\n",
    "        \n",
    "        print(f\"📦 Previously purchased: {len(purchased_products)} products\")\n",
    "        print(f\"🎯 Segment appeal score for top recommendations:\")\n",
    "        \n",
    "        results = []\n",
    "        for i, (product_id, appeal_score) in enumerate(recommendations.items(), 1):\n",
    "            print(f\"  #{i:2d}. Product {product_id} - {appeal_score:.1f}% segment appeal\")\n",
    "            results.append({\n",
    "                'rank': i,\n",
    "                'product_id': product_id,\n",
    "                'segment_appeal_score': appeal_score,\n",
    "                'user_segment': user_segment_name\n",
    "            })\n",
    "        \n",
    "        return results\n",
    "    \n",
    "    def get_cross_segment_recommendations(product_id, target_segments=None):\n",
    "        \"\"\"\n",
    "        Find which segments would be interested in a specific product\n",
    "        Perfect for targeted marketing campaigns!\n",
    "        \"\"\"\n",
    "        if product_id not in segment_percentages.index:\n",
    "            print(f\"⚠️ Product {product_id} not found\")\n",
    "            return {}\n",
    "        \n",
    "        product_appeal = segment_percentages.loc[product_id].sort_values(ascending=False)\n",
    "        \n",
    "        print(f\"📦 PRODUCT {product_id} - CROSS-SEGMENT APPEAL\")\n",
    "        print(\"-\" * 40)\n",
    "        \n",
    "        recommendations = {}\n",
    "        for segment_name, appeal_pct in product_appeal.items():\n",
    "            if appeal_pct > 0:\n",
    "                print(f\"  {segment_name}: {appeal_pct:.1f}%\")\n",
    "                recommendations[segment_name] = appeal_pct\n",
    "        \n",
    "        return recommendations\n",
    "    \n",
    "    def bulk_user_recommendations(user_list, num_recs=5):\n",
    "        \"\"\"\n",
    "        Generate recommendations for multiple users at once\n",
    "        \"\"\"\n",
    "        print(f\"🔄 Generating recommendations for {len(user_list)} users...\")\n",
    "        \n",
    "        all_recommendations = {}\n",
    "        \n",
    "        for user_id in user_list:\n",
    "            try:\n",
    "                user_recs = recommend_products_for_user(user_id, num_recs, include_purchased=False)\n",
    "                all_recommendations[user_id] = user_recs\n",
    "                print(f\"✅ User {user_id}: {len(user_recs)} recommendations\")\n",
    "            except Exception as e:\n",
    "                print(f\"❌ Error for user {user_id}: {e}\")\n",
    "                all_recommendations[user_id] = []\n",
    "        \n",
    "        return all_recommendations\n",
    "    \n",
    "    # Test with a few users\n",
    "    print(\"\\n🧪 TESTING RECOMMENDATIONS:\")\n",
    "    print(\"=\" * 30)\n",
    "    \n",
    "    # Get sample users from each segment\n",
    "    sample_users = {}\n",
    "    for segment_id, segment_name in segment_names.items():\n",
    "        segment_users = user_segments[user_segments['segment'] == segment_id].index[:2].tolist()\n",
    "        sample_users[segment_name] = segment_users\n",
    "        \n",
    "        print(f\"\\n🎯 {segment_name} Sample:\")\n",
    "        for user_id in segment_users[:1]:  # Show 1 user per segment\n",
    "            recs = recommend_products_for_user(user_id, num_recommendations=5)\n",
    "            print()\n",
    "    \n",
    "    return {\n",
    "        'recommend_for_user': recommend_products_for_user,\n",
    "        'cross_segment_appeal': get_cross_segment_recommendations,\n",
    "        'bulk_recommendations': bulk_user_recommendations,\n",
    "        'sample_users': sample_users\n",
    "    }\n",
    "\n",
    "# Build the recommendation engine\n",
    "if 'product_mapping' in globals() and product_mapping:\n",
    "    print(\"🚀 Building Recommendation Engine...\")\n",
    "    recommender = build_segment_based_recommender(product_mapping, df_clean, user_segments)\n",
    "    \n",
    "    if recommender:\n",
    "        print(f\"\\n✨ Recommendation Engine Ready!\")\n",
    "        print(f\"🎯 Available Functions:\")\n",
    "        print(f\"  • recommender['recommend_for_user'](user_id)\")\n",
    "        print(f\"  • recommender['cross_segment_appeal'](product_id)\")\n",
    "        print(f\"  • recommender['bulk_recommendations'](user_list)\")\n",
    "else:\n",
    "    print(\"⚠️ Run product mapping first (Section 6.1)\")"
   ]
  },
  {
   "cell_type": "markdown",
   "id": "ebf9196a",
   "metadata": {},
   "source": [
    "### 6.3 Marketing Intelligence API Generator\n",
    "\n",
    "Let's create REST API endpoints for all our product-segment insights!"
   ]
  },
  {
   "cell_type": "code",
   "execution_count": 74,
   "id": "79b039cf",
   "metadata": {},
   "outputs": [
    {
     "name": "stdout",
     "output_type": "stream",
     "text": [
      "🚀 Generating Product-Segment Intelligence API...\n",
      "🚀 PRODUCT-SEGMENT API INITIALIZED\n"
     ]
    },
    {
     "ename": "KeyError",
     "evalue": "'product_segment_mapping'",
     "output_type": "error",
     "traceback": [
      "\u001b[1;31m---------------------------------------------------------------------------\u001b[0m",
      "\u001b[1;31mKeyError\u001b[0m                                  Traceback (most recent call last)",
      "Cell \u001b[1;32mIn[74], line 280\u001b[0m\n\u001b[0;32m    277\u001b[0m \u001b[38;5;28;01mif\u001b[39;00m \u001b[38;5;124m'\u001b[39m\u001b[38;5;124mproduct_mapping\u001b[39m\u001b[38;5;124m'\u001b[39m \u001b[38;5;129;01min\u001b[39;00m \u001b[38;5;28mglobals\u001b[39m() \u001b[38;5;129;01mand\u001b[39;00m \u001b[38;5;124m'\u001b[39m\u001b[38;5;124mrecommender\u001b[39m\u001b[38;5;124m'\u001b[39m \u001b[38;5;129;01min\u001b[39;00m \u001b[38;5;28mglobals\u001b[39m():\n\u001b[0;32m    278\u001b[0m     \u001b[38;5;28mprint\u001b[39m(\u001b[38;5;124m\"\u001b[39m\u001b[38;5;124m🚀 Generating Product-Segment Intelligence API...\u001b[39m\u001b[38;5;124m\"\u001b[39m)\n\u001b[1;32m--> 280\u001b[0m     api_generator \u001b[38;5;241m=\u001b[39m \u001b[43mProductSegmentAPI\u001b[49m\u001b[43m(\u001b[49m\u001b[43mproduct_mapping\u001b[49m\u001b[43m,\u001b[49m\u001b[43m \u001b[49m\u001b[43mrecommender\u001b[49m\u001b[43m,\u001b[49m\u001b[43m \u001b[49m\u001b[43muser_segments\u001b[49m\u001b[43m)\u001b[49m\n\u001b[0;32m    282\u001b[0m     \u001b[38;5;66;03m# Generate Flask API code\u001b[39;00m\n\u001b[0;32m    283\u001b[0m     flask_code \u001b[38;5;241m=\u001b[39m api_generator\u001b[38;5;241m.\u001b[39mgenerate_flask_api()\n",
      "Cell \u001b[1;32mIn[74], line 14\u001b[0m, in \u001b[0;36mProductSegmentAPI.__init__\u001b[1;34m(self, product_mapping, recommender, user_segments)\u001b[0m\n\u001b[0;32m     11\u001b[0m \u001b[38;5;28mself\u001b[39m\u001b[38;5;241m.\u001b[39msegment_names \u001b[38;5;241m=\u001b[39m product_mapping[\u001b[38;5;124m'\u001b[39m\u001b[38;5;124msegment_names\u001b[39m\u001b[38;5;124m'\u001b[39m]\n\u001b[0;32m     13\u001b[0m \u001b[38;5;28mprint\u001b[39m(\u001b[38;5;124m\"\u001b[39m\u001b[38;5;124m🚀 PRODUCT-SEGMENT API INITIALIZED\u001b[39m\u001b[38;5;124m\"\u001b[39m)\n\u001b[1;32m---> 14\u001b[0m \u001b[38;5;28mprint\u001b[39m(\u001b[38;5;124mf\u001b[39m\u001b[38;5;124m\"\u001b[39m\u001b[38;5;124m📊 \u001b[39m\u001b[38;5;132;01m{\u001b[39;00m\u001b[38;5;28mlen\u001b[39m(\u001b[43mproduct_mapping\u001b[49m\u001b[43m[\u001b[49m\u001b[38;5;124;43m'\u001b[39;49m\u001b[38;5;124;43mproduct_segment_mapping\u001b[39;49m\u001b[38;5;124;43m'\u001b[39;49m\u001b[43m]\u001b[49m)\u001b[38;5;132;01m}\u001b[39;00m\u001b[38;5;124m products mapped\u001b[39m\u001b[38;5;124m\"\u001b[39m)\n\u001b[0;32m     15\u001b[0m \u001b[38;5;28mprint\u001b[39m(\u001b[38;5;124mf\u001b[39m\u001b[38;5;124m\"\u001b[39m\u001b[38;5;124m👥 \u001b[39m\u001b[38;5;132;01m{\u001b[39;00m\u001b[38;5;28mlen\u001b[39m(user_segments)\u001b[38;5;132;01m}\u001b[39;00m\u001b[38;5;124m users segmented\u001b[39m\u001b[38;5;124m\"\u001b[39m)\n\u001b[0;32m     16\u001b[0m \u001b[38;5;28mprint\u001b[39m(\u001b[38;5;124mf\u001b[39m\u001b[38;5;124m\"\u001b[39m\u001b[38;5;124m🎯 \u001b[39m\u001b[38;5;132;01m{\u001b[39;00m\u001b[38;5;28mlen\u001b[39m(\u001b[38;5;28mself\u001b[39m\u001b[38;5;241m.\u001b[39msegment_names)\u001b[38;5;132;01m}\u001b[39;00m\u001b[38;5;124m customer segments\u001b[39m\u001b[38;5;124m\"\u001b[39m)\n",
      "\u001b[1;31mKeyError\u001b[0m: 'product_segment_mapping'"
     ]
    }
   ],
   "source": [
    "class ProductSegmentAPI:\n",
    "    \"\"\"\n",
    "    Generate production-ready API endpoints for product-segment intelligence\n",
    "    Perfect for integrating with marketing automation tools!\n",
    "    \"\"\"\n",
    "    \n",
    "    def __init__(self, product_mapping, recommender, user_segments):\n",
    "        self.product_mapping = product_mapping\n",
    "        self.recommender = recommender\n",
    "        self.user_segments = user_segments\n",
    "        self.segment_names = product_mapping['segment_names']\n",
    "        \n",
    "        print(\"🚀 PRODUCT-SEGMENT API INITIALIZED\")\n",
    "        print(f\"📊 {len(product_mapping['product_segment_mapping'])} products mapped\")\n",
    "        print(f\"👥 {len(user_segments)} users segmented\")\n",
    "        print(f\"🎯 {len(self.segment_names)} customer segments\")\n",
    "    \n",
    "    def generate_flask_api(self):\n",
    "        \"\"\"\n",
    "        Generate complete Flask API code for product-segment intelligence\n",
    "        \"\"\"\n",
    "        api_code = '''\n",
    "from flask import Flask, request, jsonify\n",
    "from flask_cors import CORS\n",
    "import json\n",
    "import pandas as pd\n",
    "\n",
    "app = Flask(__name__)\n",
    "CORS(app)\n",
    "\n",
    "# Load your data here (in production, connect to your database)\n",
    "# product_mapping = load_product_mapping()\n",
    "# user_segments = load_user_segments()\n",
    "# recommender = load_recommender()\n",
    "\n",
    "@app.route('/api/product/<int:product_id>/segments', methods=['GET'])\n",
    "def get_product_segments(product_id):\n",
    "    \"\"\"\n",
    "    GET /api/product/12345/segments\n",
    "    Returns which customer segments are attracted to this product\n",
    "    Perfect for: Targeted advertising, campaign optimization\n",
    "    \"\"\"\n",
    "    try:\n",
    "        if product_id not in product_mapping['segment_percentages'].index:\n",
    "            return jsonify({\"error\": \"Product not found\"}), 404\n",
    "        \n",
    "        segments = product_mapping['segment_percentages'].loc[product_id].to_dict()\n",
    "        \n",
    "        # Sort by appeal percentage\n",
    "        sorted_segments = sorted(segments.items(), key=lambda x: x[1], reverse=True)\n",
    "        \n",
    "        result = {\n",
    "            \"product_id\": product_id,\n",
    "            \"segment_appeal\": [\n",
    "                {\n",
    "                    \"segment\": segment_name,\n",
    "                    \"appeal_percentage\": round(percentage, 1),\n",
    "                    \"targeting_priority\": \"high\" if percentage > 30 else \"medium\" if percentage > 15 else \"low\"\n",
    "                }\n",
    "                for segment_name, percentage in sorted_segments if percentage > 0\n",
    "            ],\n",
    "            \"primary_segment\": sorted_segments[0][0] if sorted_segments else None,\n",
    "            \"cross_segment_appeal\": len([s for s in segments.values() if s > 20])\n",
    "        }\n",
    "        \n",
    "        return jsonify(result)\n",
    "    \n",
    "    except Exception as e:\n",
    "        return jsonify({\"error\": str(e)}), 500\n",
    "\n",
    "@app.route('/api/user/<int:user_id>/recommendations', methods=['GET'])\n",
    "def get_user_recommendations(user_id):\n",
    "    \"\"\"\n",
    "    GET /api/user/67890/recommendations?limit=10\n",
    "    Returns personalized product recommendations based on user segment\n",
    "    Perfect for: Personalization engines, email campaigns\n",
    "    \"\"\"\n",
    "    try:\n",
    "        limit = request.args.get('limit', 10, type=int)\n",
    "        include_purchased = request.args.get('include_purchased', 'false').lower() == 'true'\n",
    "        \n",
    "        recommendations = recommender['recommend_for_user'](\n",
    "            user_id, \n",
    "            num_recommendations=limit,\n",
    "            include_purchased=include_purchased\n",
    "        )\n",
    "        \n",
    "        if not recommendations:\n",
    "            return jsonify({\"error\": \"User not found or no recommendations available\"}), 404\n",
    "        \n",
    "        result = {\n",
    "            \"user_id\": user_id,\n",
    "            \"user_segment\": recommendations[0]['user_segment'] if recommendations else None,\n",
    "            \"recommendations\": [\n",
    "                {\n",
    "                    \"product_id\": rec['product_id'],\n",
    "                    \"rank\": rec['rank'],\n",
    "                    \"segment_appeal_score\": rec['segment_appeal_score'],\n",
    "                    \"confidence\": \"high\" if rec['segment_appeal_score'] > 40 else \"medium\" if rec['segment_appeal_score'] > 25 else \"low\"\n",
    "                }\n",
    "                for rec in recommendations\n",
    "            ],\n",
    "            \"total_recommendations\": len(recommendations)\n",
    "        }\n",
    "        \n",
    "        return jsonify(result)\n",
    "    \n",
    "    except Exception as e:\n",
    "        return jsonify({\"error\": str(e)}), 500\n",
    "\n",
    "@app.route('/api/segment/<segment_name>/products', methods=['GET'])\n",
    "def get_segment_products(segment_name):\n",
    "    \"\"\"\n",
    "    GET /api/segment/VIP Customer/products?limit=20\n",
    "    Returns top products for a specific customer segment\n",
    "    Perfect for: Segment-targeted campaigns, inventory planning\n",
    "    \"\"\"\n",
    "    try:\n",
    "        limit = request.args.get('limit', 20, type=int)\n",
    "        \n",
    "        if segment_name not in product_mapping['segment_percentages'].columns:\n",
    "            return jsonify({\"error\": \"Segment not found\"}), 404\n",
    "        \n",
    "        segment_products = product_mapping['segment_percentages'][segment_name].sort_values(ascending=False)\n",
    "        top_products = segment_products.head(limit)\n",
    "        \n",
    "        result = {\n",
    "            \"segment_name\": segment_name,\n",
    "            \"total_products_analyzed\": len(segment_products),\n",
    "            \"top_products\": [\n",
    "                {\n",
    "                    \"product_id\": int(product_id),\n",
    "                    \"appeal_score\": round(score, 1),\n",
    "                    \"targeting_priority\": \"high\" if score > 40 else \"medium\" if score > 25 else \"low\"\n",
    "                }\n",
    "                for product_id, score in top_products.items() if score > 0\n",
    "            ],\n",
    "            \"average_appeal\": round(segment_products.mean(), 1)\n",
    "        }\n",
    "        \n",
    "        return jsonify(result)\n",
    "    \n",
    "    except Exception as e:\n",
    "        return jsonify({\"error\": str(e)}), 500\n",
    "\n",
    "@app.route('/api/analytics/segments/overview', methods=['GET'])\n",
    "def get_segments_overview():\n",
    "    \"\"\"\n",
    "    GET /api/analytics/segments/overview\n",
    "    Returns complete segment analytics overview\n",
    "    Perfect for: Dashboards, executive reporting\n",
    "    \"\"\"\n",
    "    try:\n",
    "        segments_stats = {}\n",
    "        \n",
    "        for segment_id, segment_name in segment_names.items():\n",
    "            segment_users = user_segments[user_segments['segment'] == segment_id]\n",
    "            \n",
    "            segments_stats[segment_name] = {\n",
    "                \"user_count\": len(segment_users),\n",
    "                \"percentage_of_users\": round(len(segment_users) / len(user_segments) * 100, 1),\n",
    "                \"top_products\": product_mapping['segment_percentages'][segment_name].nlargest(5).to_dict()\n",
    "            }\n",
    "        \n",
    "        result = {\n",
    "            \"total_users\": len(user_segments),\n",
    "            \"total_segments\": len(segment_names),\n",
    "            \"segments\": segments_stats,\n",
    "            \"api_version\": \"1.0\",\n",
    "            \"last_updated\": \"2024-01-01\"  # Update with actual timestamp\n",
    "        }\n",
    "        \n",
    "        return jsonify(result)\n",
    "    \n",
    "    except Exception as e:\n",
    "        return jsonify({\"error\": str(e)}), 500\n",
    "\n",
    "@app.route('/api/analytics/products/cross-segment', methods=['GET'])\n",
    "def get_cross_segment_analysis():\n",
    "    \"\"\"\n",
    "    GET /api/analytics/products/cross-segment?min_appeal=20\n",
    "    Returns products with broad cross-segment appeal\n",
    "    Perfect for: Universal campaigns, bestseller identification\n",
    "    \"\"\"\n",
    "    try:\n",
    "        min_appeal = request.args.get('min_appeal', 20, type=int)\n",
    "        \n",
    "        # Find products that appeal to multiple segments\n",
    "        segment_counts = (product_mapping['segment_percentages'] > min_appeal).sum(axis=1)\n",
    "        cross_appeal_products = segment_counts[segment_counts > 1].sort_values(ascending=False)\n",
    "        \n",
    "        result = {\n",
    "            \"analysis_criteria\": f\"Products with >{min_appeal}% appeal in multiple segments\",\n",
    "            \"total_cross_appeal_products\": len(cross_appeal_products),\n",
    "            \"products\": [\n",
    "                {\n",
    "                    \"product_id\": int(product_id),\n",
    "                    \"segments_appealing_to\": int(segment_count),\n",
    "                    \"segment_breakdown\": product_mapping['segment_percentages'].loc[product_id].to_dict()\n",
    "                }\n",
    "                for product_id, segment_count in cross_appeal_products.head(50).items()\n",
    "            ]\n",
    "        }\n",
    "        \n",
    "        return jsonify(result)\n",
    "    \n",
    "    except Exception as e:\n",
    "        return jsonify({\"error\": str(e)}), 500\n",
    "\n",
    "if __name__ == '__main__':\n",
    "    print(\"🚀 Product-Segment Intelligence API\")\n",
    "    print(\"📊 Available Endpoints:\")\n",
    "    print(\"  GET /api/product/<id>/segments - Product segment analysis\")\n",
    "    print(\"  GET /api/user/<id>/recommendations - Personalized recommendations\")\n",
    "    print(\"  GET /api/segment/<name>/products - Segment product preferences\")\n",
    "    print(\"  GET /api/analytics/segments/overview - Complete segment overview\")\n",
    "    print(\"  GET /api/analytics/products/cross-segment - Cross-segment product analysis\")\n",
    "    \n",
    "    app.run(debug=True, host='0.0.0.0', port=5000)\n",
    "'''\n",
    "        \n",
    "        return api_code\n",
    "    \n",
    "    def generate_api_examples(self):\n",
    "        \"\"\"\n",
    "        Generate example API calls and responses\n",
    "        \"\"\"\n",
    "        examples = {\n",
    "            \"product_segments\": {\n",
    "                \"endpoint\": \"GET /api/product/12345/segments\",\n",
    "                \"description\": \"Get segment breakdown for a specific product\",\n",
    "                \"example_response\": {\n",
    "                    \"product_id\": 12345,\n",
    "                    \"segment_appeal\": [\n",
    "                        {\"segment\": \"VIP Customer\", \"appeal_percentage\": 45.2, \"targeting_priority\": \"high\"},\n",
    "                        {\"segment\": \"Casual Shopper\", \"appeal_percentage\": 28.1, \"targeting_priority\": \"medium\"},\n",
    "                        {\"segment\": \"Bargain Hunter\", \"appeal_percentage\": 16.7, \"targeting_priority\": \"low\"},\n",
    "                        {\"segment\": \"Browser/Researcher\", \"appeal_percentage\": 10.0, \"targeting_priority\": \"low\"}\n",
    "                    ],\n",
    "                    \"primary_segment\": \"VIP Customer\",\n",
    "                    \"cross_segment_appeal\": 2\n",
    "                }\n",
    "            },\n",
    "            \"user_recommendations\": {\n",
    "                \"endpoint\": \"GET /api/user/67890/recommendations?limit=5\",\n",
    "                \"description\": \"Get personalized product recommendations\",\n",
    "                \"example_response\": {\n",
    "                    \"user_id\": 67890,\n",
    "                    \"user_segment\": \"Bargain Hunter\",\n",
    "                    \"recommendations\": [\n",
    "                        {\"product_id\": 555, \"rank\": 1, \"segment_appeal_score\": 52.3, \"confidence\": \"high\"},\n",
    "                        {\"product_id\": 777, \"rank\": 2, \"segment_appeal_score\": 48.9, \"confidence\": \"high\"},\n",
    "                        {\"product_id\": 999, \"rank\": 3, \"segment_appeal_score\": 41.2, \"confidence\": \"high\"}\n",
    "                    ],\n",
    "                    \"total_recommendations\": 3\n",
    "                }\n",
    "            },\n",
    "            \"segment_products\": {\n",
    "                \"endpoint\": \"GET /api/segment/VIP%20Customer/products?limit=3\",\n",
    "                \"description\": \"Get top products for a customer segment\",\n",
    "                \"example_response\": {\n",
    "                    \"segment_name\": \"VIP Customer\",\n",
    "                    \"total_products_analyzed\": 1000,\n",
    "                    \"top_products\": [\n",
    "                        {\"product_id\": 1001, \"appeal_score\": 67.8, \"targeting_priority\": \"high\"},\n",
    "                        {\"product_id\": 1002, \"appeal_score\": 58.4, \"targeting_priority\": \"high\"},\n",
    "                        {\"product_id\": 1003, \"appeal_score\": 52.1, \"targeting_priority\": \"high\"}\n",
    "                    ],\n",
    "                    \"average_appeal\": 23.4\n",
    "                }\n",
    "            }\n",
    "        }\n",
    "        \n",
    "        return examples\n",
    "\n",
    "# Generate the complete API\n",
    "if 'product_mapping' in globals() and 'recommender' in globals():\n",
    "    print(\"🚀 Generating Product-Segment Intelligence API...\")\n",
    "    \n",
    "    api_generator = ProductSegmentAPI(product_mapping, recommender, user_segments)\n",
    "    \n",
    "    # Generate Flask API code\n",
    "    flask_code = api_generator.generate_flask_api()\n",
    "    \n",
    "    # Generate API examples\n",
    "    api_examples = api_generator.generate_api_examples()\n",
    "    \n",
    "    print(f\"\\n✨ API Generated Successfully!\")\n",
    "    print(f\"📋 Available API Endpoints:\")\n",
    "    for example_name, example_data in api_examples.items():\n",
    "        print(f\"  • {example_data['endpoint']}\")\n",
    "        print(f\"    {example_data['description']}\")\n",
    "    \n",
    "    print(f\"\\n💾 Save the Flask code to 'product_segment_api.py' to deploy!\")\n",
    "    \n",
    "    # Save Flask API to file\n",
    "    with open('product_segment_api.py', 'w') as f:\n",
    "        f.write(flask_code)\n",
    "    \n",
    "    print(f\"✅ API saved to product_segment_api.py\")\n",
    "    print(f\"🚀 Run with: python product_segment_api.py\")\n",
    "    \n",
    "else:\n",
    "    print(\"⚠️ Run product mapping and recommender first\")"
   ]
  },
  {
   "cell_type": "code",
   "execution_count": null,
   "id": "792f10e3",
   "metadata": {},
   "outputs": [
    {
     "name": "stdout",
     "output_type": "stream",
     "text": [
      "🚀 INITIALIZING AI PATTERN ENGINE...\n",
      "🧠 AI PATTERN DISCOVERY ENGINE\n",
      "========================================\n",
      "✅ Pattern discovery complete!\n",
      "\n",
      "🚀 AI-POWERED API GENERATION\n",
      "========================================\n",
      "✅ Generated AI-Powered API Endpoints:\n",
      "=============================================\n",
      "\n",
      "📂 CUSTOMER INTELLIGENCE APIs:\n",
      "  🔗 GET /api/customers/high-value\n",
      "     📝 Get high-value customer insights and characteristics\n",
      "  🔗 GET /api/customers/{user_id}/segment\n",
      "     📝 Get AI-determined customer segment and personalization data\n",
      "\n",
      "📂 CONVERSION OPTIMIZATION APIs:\n",
      "  🔗 GET /api/conversion/funnel-analysis\n",
      "     📝 Get real-time conversion funnel metrics and optimization suggestions\n",
      "  🔗 POST /api/conversion/predict\n",
      "     📝 Predict conversion probability for a user session\n",
      "\n",
      "📂 PERSONALIZATION APIs:\n",
      "  🔗 POST /api/personalization/recommendations\n",
      "     📝 Get AI-powered product recommendations based on behavior patterns\n",
      "  🔗 GET /api/personalization/optimal-timing\n",
      "     📝 Get optimal engagement timing for users\n",
      "\n",
      "📂 CHURN PREVENTION APIs:\n",
      "  🔗 GET /api/churn/risk-assessment\n",
      "     📝 Identify users at risk of churning and get retention strategies\n",
      "  🔗 GET /api/churn/predict/{user_id}\n",
      "     📝 Predict churn probability for specific user\n",
      "\n",
      "📂 BUSINESS INTELLIGENCE APIs:\n",
      "  🔗 GET /api/insights/revenue-optimization\n",
      "     📝 Get AI-driven revenue optimization insights\n",
      "\n",
      "🎯 Total API Endpoints Generated: 9\n",
      "\n",
      "📚 AI-POWERED API DOCUMENTATION\n",
      "=============================================\n",
      "💾 API Documentation Generated Successfully!\n",
      "📊 Based on analysis of 50,000 events from 5,493 users\n",
      "\n",
      "🎉 AI-POWERED SEGMENT PLATFORM READY!\n",
      "==================================================\n",
      "Your AI engine has analyzed the behavioral data and generated\n",
      "intelligent APIs that can power personalization, conversion\n",
      "optimization, and customer intelligence - just like Segment\n",
      "but enhanced with AI-driven insights! 🚀\n"
     ]
    }
   ],
   "source": [
    "class PatternBasedAPIGenerator:\n",
    "    \"\"\"\n",
    "    Generate intelligent APIs based on discovered behavioral patterns\n",
    "    This is the core AI engine that transforms patterns into actionable APIs\n",
    "    \"\"\"\n",
    "    \n",
    "    def __init__(self, df, user_segments=None):\n",
    "        self.df = df\n",
    "        self.user_segments = user_segments\n",
    "        self.patterns = {}\n",
    "        self.api_endpoints = {}\n",
    "        \n",
    "    def discover_patterns(self):\n",
    "        \"\"\"Extract key behavioral patterns from the data\"\"\"\n",
    "        print(\"🧠 AI PATTERN DISCOVERY ENGINE\")\n",
    "        print(\"=\" * 40)\n",
    "        \n",
    "        patterns = {}\n",
    "        \n",
    "        # 1. High-Value Customer Patterns\n",
    "        if self.user_segments is not None:\n",
    "            high_value_users = self.user_segments.nlargest(100, 'total_spent').index.tolist()\n",
    "            high_value_behavior = self.df[self.df['user_id'].isin(high_value_users)]\n",
    "            \n",
    "            patterns['high_value_customers'] = {\n",
    "                'user_count': len(high_value_users),\n",
    "                'top_categories': high_value_behavior['main_category'].value_counts().head(5).to_dict(),\n",
    "                'avg_session_duration': high_value_behavior.groupby('user_id')['event_time'].apply(lambda x: (x.max() - x.min()).total_seconds() / 3600).mean(),\n",
    "                'preferred_hours': high_value_behavior['hour'].value_counts().head(3).to_dict(),\n",
    "                'avg_order_value': high_value_behavior[high_value_behavior['event_type'] == 'purchase']['price'].mean()\n",
    "            }\n",
    "        \n",
    "        # 2. Conversion Optimization Patterns\n",
    "        converters = self.df.groupby('user_id')['event_type'].apply(lambda x: 'purchase' in x.values)\n",
    "        converter_ids = converters[converters == True].index.tolist()\n",
    "        \n",
    "        if len(converter_ids) > 0:\n",
    "            converter_behavior = self.df[self.df['user_id'].isin(converter_ids)]\n",
    "            \n",
    "            patterns['conversion_patterns'] = {\n",
    "                'conversion_rate': len(converter_ids) / self.df['user_id'].nunique() * 100,\n",
    "                'avg_views_before_purchase': converter_behavior[converter_behavior['event_type'] == 'view'].groupby('user_id').size().mean(),\n",
    "                'top_converting_categories': converter_behavior[converter_behavior['event_type'] == 'purchase']['main_category'].value_counts().head(5).to_dict(),\n",
    "                'optimal_price_ranges': self._find_optimal_price_ranges(),\n",
    "            }\n",
    "        \n",
    "        # 3. Churn Risk Patterns\n",
    "        recent_activity = self.df['event_time'].max() - pd.Timedelta(days=7)\n",
    "        recent_users = set(self.df[self.df['event_time'] > recent_activity]['user_id'].unique())\n",
    "        all_users = set(self.df['user_id'].unique())\n",
    "        inactive_users = all_users - recent_users\n",
    "        \n",
    "        patterns['churn_risk'] = {\n",
    "            'total_inactive_users': len(inactive_users),\n",
    "            'churn_risk_percentage': len(inactive_users) / len(all_users) * 100,\n",
    "            'last_activity_patterns': self._analyze_churn_patterns(inactive_users)\n",
    "        }\n",
    "        \n",
    "        # 4. Product Affinity Patterns\n",
    "        patterns['product_affinity'] = self._discover_product_affinities()\n",
    "        \n",
    "        # 5. Temporal Engagement Patterns\n",
    "        patterns['temporal_engagement'] = {\n",
    "            'peak_hours': self.df['hour'].value_counts().head(3).to_dict(),\n",
    "            'peak_days': self.df['day_name'].value_counts().head(3).to_dict(),\n",
    "            'weekend_vs_weekday': {\n",
    "                'weekend_engagement': self.df[self.df['is_weekend']]['user_id'].count(),\n",
    "                'weekday_engagement': self.df[~self.df['is_weekend']]['user_id'].count()\n",
    "            }\n",
    "        }\n",
    "        \n",
    "        self.patterns = patterns\n",
    "        print(\"✅ Pattern discovery complete!\")\n",
    "        return patterns\n",
    "    \n",
    "    def _find_optimal_price_ranges(self):\n",
    "        \"\"\"Find price ranges with highest conversion rates\"\"\"\n",
    "        if 'price' not in self.df.columns:\n",
    "            return {}\n",
    "            \n",
    "        # Create price bins\n",
    "        price_bins = pd.qcut(self.df[self.df['price'].notna()]['price'], \n",
    "                           q=10, duplicates='drop')\n",
    "        \n",
    "        df_with_bins = self.df[self.df['price'].notna()].copy()\n",
    "        df_with_bins['price_bin'] = price_bins\n",
    "        \n",
    "        # Calculate conversion rate by price bin\n",
    "        conversion_by_price = df_with_bins.groupby('price_bin').agg({\n",
    "            'event_type': [\n",
    "                lambda x: (x == 'view').sum(),\n",
    "                lambda x: (x == 'purchase').sum()\n",
    "            ]\n",
    "        })\n",
    "        \n",
    "        conversion_by_price.columns = ['views', 'purchases']\n",
    "        conversion_by_price['conversion_rate'] = (\n",
    "            conversion_by_price['purchases'] / conversion_by_price['views'] * 100\n",
    "        )\n",
    "        \n",
    "        return conversion_by_price.nlargest(3, 'conversion_rate')['conversion_rate'].to_dict()\n",
    "    \n",
    "    def _analyze_churn_patterns(self, inactive_users):\n",
    "        \"\"\"Analyze patterns of users at risk of churning\"\"\"\n",
    "        if len(inactive_users) == 0:\n",
    "            return {}\n",
    "            \n",
    "        inactive_sample = list(inactive_users)[:1000]  # Sample for performance\n",
    "        inactive_behavior = self.df[self.df['user_id'].isin(inactive_sample)]\n",
    "        \n",
    "        return {\n",
    "            'last_categories_viewed': inactive_behavior['main_category'].value_counts().head(5).to_dict(),\n",
    "            'avg_session_length': inactive_behavior.groupby('user_id')['event_time'].apply(\n",
    "                lambda x: (x.max() - x.min()).total_seconds() / 3600\n",
    "            ).mean(),\n",
    "            'last_actions': inactive_behavior['event_type'].value_counts().to_dict()\n",
    "        }\n",
    "    \n",
    "    def _discover_product_affinities(self):\n",
    "        \"\"\"Find products frequently viewed together\"\"\"\n",
    "        # Group by user sessions to find product co-occurrences\n",
    "        user_sessions = self.df.groupby('user_session')['product_id'].apply(list).reset_index()\n",
    "        \n",
    "        # Find pairs of products viewed in same session\n",
    "        product_pairs = {}\n",
    "        for products in user_sessions['product_id']:\n",
    "            if len(products) > 1:\n",
    "                for i in range(len(products)):\n",
    "                    for j in range(i+1, len(products)):\n",
    "                        pair = tuple(sorted([products[i], products[j]]))\n",
    "                        product_pairs[pair] = product_pairs.get(pair, 0) + 1\n",
    "        \n",
    "        # Get top product affinities\n",
    "        top_affinities = dict(sorted(product_pairs.items(), \n",
    "                                   key=lambda x: x[1], reverse=True)[:10])\n",
    "        \n",
    "        return top_affinities\n",
    "    \n",
    "    def generate_api_endpoints(self):\n",
    "        \"\"\"Generate intelligent API endpoints based on discovered patterns\"\"\"\n",
    "        print(\"\\n🚀 AI-POWERED API GENERATION\")\n",
    "        print(\"=\" * 40)\n",
    "        \n",
    "        if not self.patterns:\n",
    "            self.discover_patterns()\n",
    "        \n",
    "        endpoints = {}\n",
    "        \n",
    "        # 1. Customer Intelligence APIs\n",
    "        endpoints['customer_intelligence'] = {\n",
    "            '/api/customers/high-value': {\n",
    "                'description': 'Get high-value customer insights and characteristics',\n",
    "                'method': 'GET',\n",
    "                'response_example': {\n",
    "                    'total_high_value_customers': self.patterns.get('high_value_customers', {}).get('user_count', 0),\n",
    "                    'avg_order_value': self.patterns.get('high_value_customers', {}).get('avg_order_value', 0),\n",
    "                    'top_categories': self.patterns.get('high_value_customers', {}).get('top_categories', {}),\n",
    "                    'recommended_targeting_hours': self.patterns.get('high_value_customers', {}).get('preferred_hours', {})\n",
    "                }\n",
    "            },\n",
    "            '/api/customers/{user_id}/segment': {\n",
    "                'description': 'Get AI-determined customer segment and personalization data',\n",
    "                'method': 'GET',\n",
    "                'response_example': {\n",
    "                    'segment': 'VIP Customer',\n",
    "                    'conversion_probability': 0.75,\n",
    "                    'recommended_products': ['product_123', 'product_456'],\n",
    "                    'optimal_contact_time': '14:00-16:00'\n",
    "                }\n",
    "            }\n",
    "        }\n",
    "        \n",
    "        # 2. Conversion Optimization APIs\n",
    "        endpoints['conversion_optimization'] = {\n",
    "            '/api/conversion/funnel-analysis': {\n",
    "                'description': 'Get real-time conversion funnel metrics and optimization suggestions',\n",
    "                'method': 'GET',\n",
    "                'response_example': {\n",
    "                    'conversion_rate': self.patterns.get('conversion_patterns', {}).get('conversion_rate', 0),\n",
    "                    'bottlenecks': ['cart_abandonment', 'pricing_sensitivity'],\n",
    "                    'optimization_suggestions': [\n",
    "                        'Reduce cart abandonment with exit-intent popups',\n",
    "                        'A/B test pricing in optimal ranges'\n",
    "                    ]\n",
    "                }\n",
    "            },\n",
    "            '/api/conversion/predict': {\n",
    "                'description': 'Predict conversion probability for a user session',\n",
    "                'method': 'POST',\n",
    "                'payload_example': {\n",
    "                    'user_id': 'user_123',\n",
    "                    'current_session_events': ['view', 'view', 'cart'],\n",
    "                    'products_viewed': ['product_456', 'product_789']\n",
    "                },\n",
    "                'response_example': {\n",
    "                    'conversion_probability': 0.68,\n",
    "                    'recommended_actions': ['send_discount_offer', 'show_similar_products'],\n",
    "                    'optimal_price_range': '$50-$100'\n",
    "                }\n",
    "            }\n",
    "        }\n",
    "        \n",
    "        # 3. Personalization APIs\n",
    "        endpoints['personalization'] = {\n",
    "            '/api/personalization/recommendations': {\n",
    "                'description': 'Get AI-powered product recommendations based on behavior patterns',\n",
    "                'method': 'POST',\n",
    "                'payload_example': {'user_id': 'user_123', 'context': 'homepage'},\n",
    "                'response_example': {\n",
    "                    'recommended_products': [\n",
    "                        {'product_id': 'prod_123', 'score': 0.92, 'reason': 'similar_users_purchased'},\n",
    "                        {'product_id': 'prod_456', 'score': 0.87, 'reason': 'frequently_bought_together'}\n",
    "                    ],\n",
    "                    'recommended_categories': ['electronics.smartphone', 'computers.notebook']\n",
    "                }\n",
    "            },\n",
    "            '/api/personalization/optimal-timing': {\n",
    "                'description': 'Get optimal engagement timing for users',\n",
    "                'method': 'GET',\n",
    "                'response_example': {\n",
    "                    'peak_engagement_hours': self.patterns.get('temporal_engagement', {}).get('peak_hours', {}),\n",
    "                    'user_specific_timing': '14:00-16:00 weekdays',\n",
    "                    'campaign_recommendations': ['email_at_2pm', 'push_notifications_evening']\n",
    "                }\n",
    "            }\n",
    "        }\n",
    "        \n",
    "        # 4. Churn Prevention APIs\n",
    "        endpoints['churn_prevention'] = {\n",
    "            '/api/churn/risk-assessment': {\n",
    "                'description': 'Identify users at risk of churning and get retention strategies',\n",
    "                'method': 'GET',\n",
    "                'response_example': {\n",
    "                    'high_risk_users_count': len(self.patterns.get('churn_risk', {}).get('last_activity_patterns', {})),\n",
    "                    'churn_probability_threshold': 0.7,\n",
    "                    'retention_strategies': [\n",
    "                        'personalized_discount_campaign',\n",
    "                        'win_back_email_series',\n",
    "                        'exclusive_early_access'\n",
    "                    ]\n",
    "                }\n",
    "            },\n",
    "            '/api/churn/predict/{user_id}': {\n",
    "                'description': 'Predict churn probability for specific user',\n",
    "                'method': 'GET',\n",
    "                'response_example': {\n",
    "                    'churn_probability': 0.23,\n",
    "                    'risk_level': 'low',\n",
    "                    'last_activity': '2019-11-15',\n",
    "                    'recommended_actions': ['no_action_needed']\n",
    "                }\n",
    "            }\n",
    "        }\n",
    "        \n",
    "        # 5. Business Intelligence APIs\n",
    "        endpoints['business_intelligence'] = {\n",
    "            '/api/insights/revenue-optimization': {\n",
    "                'description': 'Get AI-driven revenue optimization insights',\n",
    "                'method': 'GET',\n",
    "                'response_example': {\n",
    "                    'revenue_opportunities': [\n",
    "                        {'opportunity': 'price_optimization', 'potential_lift': '15%'},\n",
    "                        {'opportunity': 'cross_sell_campaign', 'potential_lift': '8%'}\n",
    "                    ],\n",
    "                    'optimal_price_ranges': self.patterns.get('conversion_patterns', {}).get('optimal_price_ranges', {}),\n",
    "                    'product_affinities': self.patterns.get('product_affinity', {})\n",
    "                }\n",
    "            }\n",
    "        }\n",
    "        \n",
    "        self.api_endpoints = endpoints\n",
    "        \n",
    "        # Display generated APIs\n",
    "        print(\"✅ Generated AI-Powered API Endpoints:\")\n",
    "        print(\"=\" * 45)\n",
    "        \n",
    "        for category, apis in endpoints.items():\n",
    "            print(f\"\\n📂 {category.upper().replace('_', ' ')} APIs:\")\n",
    "            for endpoint, details in apis.items():\n",
    "                print(f\"  🔗 {details['method']} {endpoint}\")\n",
    "                print(f\"     📝 {details['description']}\")\n",
    "        \n",
    "        print(f\"\\n🎯 Total API Endpoints Generated: {sum(len(apis) for apis in endpoints.values())}\")\n",
    "        \n",
    "        return endpoints\n",
    "    \n",
    "    def generate_api_documentation(self):\n",
    "        \"\"\"Generate comprehensive API documentation\"\"\"\n",
    "        if not self.api_endpoints:\n",
    "            self.generate_api_endpoints()\n",
    "        \n",
    "        print(\"\\n📚 AI-POWERED API DOCUMENTATION\")\n",
    "        print(\"=\" * 45)\n",
    "        \n",
    "        doc = {\n",
    "            'title': 'AI-Powered Customer Data Intelligence API',\n",
    "            'version': '1.0.0',\n",
    "            'description': 'Intelligent APIs generated from behavioral pattern analysis',\n",
    "            'base_url': 'https://api.yourdomain.com',\n",
    "            'authentication': 'Bearer Token',\n",
    "            'endpoints': self.api_endpoints,\n",
    "            'pattern_insights': self.patterns\n",
    "        }\n",
    "        \n",
    "        # Save documentation as JSON (in practice, you'd save to file)\n",
    "        print(\"💾 API Documentation Generated Successfully!\")\n",
    "        print(f\"📊 Based on analysis of {len(self.df):,} events from {self.df['user_id'].nunique():,} users\")\n",
    "        \n",
    "        return doc\n",
    "\n",
    "# Generate Pattern-Based APIs\n",
    "if df_clean is not None:\n",
    "    print(\"🚀 INITIALIZING AI PATTERN ENGINE...\")\n",
    "    \n",
    "    # Initialize the AI API generator\n",
    "    api_generator = PatternBasedAPIGenerator(df_clean, user_segments)\n",
    "    \n",
    "    # Discover patterns\n",
    "    discovered_patterns = api_generator.discover_patterns()\n",
    "    \n",
    "    # Generate APIs\n",
    "    generated_apis = api_generator.generate_api_endpoints()\n",
    "    \n",
    "    # Generate documentation\n",
    "    api_docs = api_generator.generate_api_documentation()\n",
    "    \n",
    "    print(\"\\n🎉 AI-POWERED SEGMENT PLATFORM READY!\")\n",
    "    print(\"=\" * 50)\n",
    "    print(\"Your AI engine has analyzed the behavioral data and generated\")\n",
    "    print(\"intelligent APIs that can power personalization, conversion\")\n",
    "    print(\"optimization, and customer intelligence - just like Segment\")\n",
    "    print(\"but enhanced with AI-driven insights! 🚀\")"
   ]
  }
 ],
 "metadata": {
  "kernelspec": {
   "display_name": "Python 3",
   "language": "python",
   "name": "python3"
  },
  "language_info": {
   "codemirror_mode": {
    "name": "ipython",
    "version": 3
   },
   "file_extension": ".py",
   "mimetype": "text/x-python",
   "name": "python",
   "nbconvert_exporter": "python",
   "pygments_lexer": "ipython3",
   "version": "3.11.9"
  }
 },
 "nbformat": 4,
 "nbformat_minor": 5
}
